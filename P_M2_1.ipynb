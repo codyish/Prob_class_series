{
 "cells": [
  {
   "cell_type": "markdown",
   "metadata": {},
   "source": [
    "This assignment will be reviewed by peers based upon a given rubric. Make sure to keep your answers clear and concise while demonstrating an understanding of the material. Be sure to give all requested information in markdown cells. It is recommended to utilize Latex."
   ]
  },
  {
   "cell_type": "markdown",
   "metadata": {},
   "source": [
    "### Problem 1"
   ]
  },
  {
   "cell_type": "markdown",
   "metadata": {},
   "source": [
    "What does it mean for one event $C$ to cause another event $E$ — for example, smoking ($C$) to cause cancer ($E$)? There is a long history in philosophy, statistics, and the sciences of trying to clearly analyze the concept of a cause. One tradition says that causes raise the probability of their effects; we may write this symbolically is \n",
    "$$\n",
    "%\\begin{equation} \n",
    "P(E | C)>P(E). \n",
    "%\\end{equation} \n",
    "\\qquad \\qquad (1)\n",
    "$$ "
   ]
  },
  {
   "cell_type": "markdown",
   "metadata": {},
   "source": [
    "#### Part a)\n",
    "\n",
    "Does equation (1) imply that $P(C | E) > P(C)$? If so, prove it. If not, give a counter example."
   ]
  },
  {
   "cell_type": "markdown",
   "metadata": {},
   "source": [
    "----\n",
    "Answer\n",
    "\n",
    "The probability of an event given a cause being higher than the probability of the event occuring at all does imply that the probability of the cause is also higher given the even. Given that all probabilities P must be $0\\leq P\\leq1$ Baye's theorem\n",
    "\n",
    "$P(E|C) = \\frac{P(C|E) \\cdot P(E)}{P(C)}$\n",
    "\n",
    "Can be rearranged to\n",
    "\n",
    "$\\frac{P(E|C)}{P(E)} = \\frac{P(C|E)}{P(C)}$\n",
    "\n",
    "and given that\n",
    "\n",
    "$P(E|C)>P(E)$\n",
    "\n",
    "Then the left side of the rearranged equation must be\n",
    "\n",
    "$\\frac{P(E|C)}{P(E)} > 1$\n",
    "\n",
    "Since the two side are equal then the right side must also be\n",
    "\n",
    "$\\frac{P(C|E)}{P(C)} > 1$\n",
    "\n",
    "Meaning that\n",
    "\n",
    "$P(C|E) > P(C)$\n"
   ]
  },
  {
   "cell_type": "markdown",
   "metadata": {},
   "source": [
    "#### Part b)\n",
    "\n",
    "Another way to formulate a probabilistic theory of causation is to say that\n",
    "\n",
    "$$\n",
    "P (E | C) > P(E | C^C). \\qquad \\qquad (2) \n",
    "$$ \n",
    "\n",
    "Show that equation (1) \n",
    "\n",
    "$$P(E | C)>P(E). \\qquad \\qquad (1)$$\n",
    "\n",
    "implies equation (2)."
   ]
  },
  {
   "cell_type": "markdown",
   "metadata": {},
   "source": [
    "-----\n",
    "Answer\n",
    "\n",
    "If the probbility of an event given a causative condition is higher than the total probability of an event (Equation 1) then the probability of the event occuring given that condition is necessarily higher than the probability of the event given the condition does not occur (Equation 2). This can be seen from the law of total probability.\n",
    "\n",
    " $$P(E)=P(E|C)\\cdot P(C)+P(E|C^C)\\cdot P(C^C)$$\n",
    "\n",
    "If $P(E|C) > P(E)$ then the $P(E|C)$ sets the highest possible value for $P(E)$ across all values of $P(C)$, and $P(C^C)$ sets the lowest possible value for $P(E)$. Since $P(E)$ is the average of $P(E|C)$ and $P(E|C^C)$ (weighted by the given value of $P(C)$) then $P(E|C^C)$ must be lower than $P(E|C)$ to \"pull\" $P(E)$ down from the upper bound of $P(E|C)$. \n"
   ]
  },
  {
   "cell_type": "markdown",
   "metadata": {},
   "source": [
    "#### Part c)\n",
    "\n",
    "Let $C$ be the drop in the level of mercury in a barometer and let $E$ be a storm. Briefly describe why this leads to a problem with using equation (1) (or equation (2)) as a theory of causation."
   ]
  },
  {
   "cell_type": "markdown",
   "metadata": {},
   "source": [
    "----\n",
    "Answer\n",
    "\n",
    "Neither equation 1 nor 2 account for the possibility of a third condition that influences E and C while C and E don't influence each other. If C were strictly causal for E then it would be possible to induce a storm by artificially lowering the mercury in the barometer."
   ]
  },
  {
   "cell_type": "markdown",
   "metadata": {},
   "source": [
    "#### Part d)\n",
    "\n",
    "Let $A$, $C$, and $E$ be events. If $P(E | A \\cap C) = P(E |C )$, then $C$ is said to screen $A$ off from $E$. Suppose that $P (E \\cap C) > 0.$ Show that screening off is equivalent to saying that $P(A \\cap E | C)=P(A|C)P(E | C).$ What does this latter equation say in terms of independence?"
   ]
  },
  {
   "cell_type": "markdown",
   "metadata": {},
   "source": [
    "----\n",
    "Answer\n",
    "\n",
    "$P(E|A\\cap C) = P(E|C)$ means that the occurence of A doesn't change the probability of E given C, knowing if A occurred or not provides no additional information about the probability of E if C has occurred. \n",
    "It can be rewritten as $$ \\frac {P(E\\cap A\\cap C)}{P(A\\cap C)} = P(E|C)$$\n",
    "which is equivalent to \n",
    "$$ \\frac {P(A\\cap E|C)P(C)}{P(A|C)P(C)}=P(E|C) $$\n",
    "$P(C)$ in the numerator and denominator cancel out and the remaining terms can be rearranged to \n",
    "$$P(A\\cap E|C)=P(A|C)P(E|C)$$\n",
    "\n",
    "This final equation shows that the probability of A and E together given C is the same as the combined probabilities of A given C and E given C, meaning that A and E don't affect each other and are independent, but are both affected by C."
   ]
  },
  {
   "cell_type": "markdown",
   "metadata": {},
   "source": [
    "#### Part e)\n",
    "\n",
    "Now let $A$ be a the drop in the level of mercury in a barometer, $E$ be a storm, and $C$ be a drop in atmospheric pressure. Does the result from part (d) help fix the problem suggested in part (c)?"
   ]
  },
  {
   "cell_type": "markdown",
   "metadata": {},
   "source": [
    "----\n",
    "Answer\n",
    "\n",
    "Yes, this shows how the drop in the barometer can provide information about the probability of a storm occurring without out being the cause of the storm by introducing the third condition (the drop in atmospheric pressure) that affects the barometer and the weather similarly."
   ]
  },
  {
   "cell_type": "markdown",
   "metadata": {},
   "source": [
    "# Problem 2\n",
    "\n",
    "Suppose you have two bags of marbles that are in a box. Bag 1 contains 7 white marbles, 6 black marbles, and 3 gold marbles. Bag 2 contains 4 white marbles, 5 black marbles, and 15 gold marbles. The probability of grabbing the Bag 1 from the box is twice the probability of grabbing the Bag 2.\n",
    "\n",
    "If you close your eyes, grab a bag from the box, and then grab a marble from that bag, what is the probability that it is gold?"
   ]
  },
  {
   "cell_type": "markdown",
   "metadata": {},
   "source": [
    "**Part a)** \n",
    "\n",
    "Solve this problem by hand. This should give us a theoretical value for pulling a gold marble."
   ]
  },
  {
   "cell_type": "markdown",
   "metadata": {},
   "source": [
    "----\n",
    "Answer\n",
    "\n",
    "* Bag 1 - 7 white, 6 black, 3 gold = 16 total\n",
    "* Bag 2 - 4 white, 5 black, 15 gold = 24 total\n",
    "* P(Bag1) = 2/3\n",
    "* P(Bag2) = 1/3\n",
    "\n",
    "\n",
    "$$P(\\text{Gold}) = \\left(P(\\text{Bag1})P(\\text{Gold1})\\right) + \\left(P(\\text{Bag2})P(\\text{Gold2})\\right)$$\n",
    "\n",
    "$$P(\\text{Gold}) = \\left(\\frac{2}{3}\\right)\\left(\\frac{3}{16}\\right) + \\left(\\frac{1}{3}\\right)\\left(\\frac{15}{24}\\right) = \\frac{1}{3}$$\n"
   ]
  },
  {
   "cell_type": "markdown",
   "metadata": {},
   "source": [
    "**Part b)**\n",
    "\n",
    "Create a simulation to estimate the probability of pulling a gold marble. Assume you put the marble back in the bag each time you pull one out. Make sure to run the simulation enough times to be confident in your final result.\n",
    "\n",
    "Note: To generate $n$ random values between [0,1], use the `runif(n)` function. This function generates $n$ random variables from the Uniform(0,1) distribution, which we will learn more about later in this course!"
   ]
  },
  {
   "cell_type": "code",
   "execution_count": 122,
   "metadata": {
    "vscode": {
     "languageId": "r"
    }
   },
   "outputs": [],
   "source": [
    "# set number of simulations\n",
    "sims = 1000000\n",
    "# create vector to hold results of gold marble pulls\n",
    "gold = rep(0, sims)\n",
    "\n",
    "for (i in 1:sims) {\n",
    "    # simulate choose one of the bags\n",
    "    bag_choice = runif(1)\n",
    "\n",
    "    # define and simulate gold pull probability for bag 2\n",
    "    if (bag_choice <= 1/3) {\n",
    "        pull_bag_1 = runif(1)\n",
    "        if (pull_bag_1 <= 15/24) {\n",
    "            gold[i] = 1\n",
    "        }\n",
    "    # define and simulate gold pull probability for bag 1\n",
    "    } else {\n",
    "        pull_bag_2 = runif(1)\n",
    "        if (pull_bag_2 <= 3/16) {\n",
    "            gold[i] = 1\n",
    "        }\n",
    "    }\n",
    "}\n",
    "\n",
    "result <- mean(gold)\n"
   ]
  },
  {
   "cell_type": "code",
   "execution_count": 123,
   "metadata": {
    "vscode": {
     "languageId": "r"
    }
   },
   "outputs": [
    {
     "name": "stdout",
     "output_type": "stream",
     "text": [
      "[1] \"The average of 1000000 simulations is 0.333740 which is within 0.122% of the expected result of 1/3 \"\n"
     ]
    }
   ],
   "source": [
    "expected_value <- 1 / 3\n",
    "result_error <- abs(1 - (result/expected_value)) * 100\n",
    "\n",
    "print(sprintf(\"The average of %d simulations is %f which is within %.3f%% of the expected result of 1/3 \", sims, result, result_error))\n"
   ]
  },
  {
   "cell_type": "markdown",
   "metadata": {},
   "source": [
    "# Problem 3\n",
    "\n",
    "Suppose you roll a fair die two times. Let $A$ be the event \"the sum of the throws equals 5\" and $B$ be the event \"at least one of the throws is a $4$\"."
   ]
  },
  {
   "cell_type": "markdown",
   "metadata": {},
   "source": [
    "**Part a)** \n",
    "\n",
    "By hand, solve for the probability that the sum of the throws equals 5, given that at least one of the throws is a 4. That is, solve $P(A|B)$."
   ]
  },
  {
   "cell_type": "markdown",
   "metadata": {},
   "source": [
    "----\n",
    "Answer\n",
    "\n",
    "$P(A|B) = \\frac{P(A\\cap B)}{P(B)}$\n",
    "\n",
    "$P(A) = \\frac{1}{9}$\n",
    "\n",
    "$P(B) = 1-(\\frac{5}{6})^2 = 11/36$\n",
    "\n",
    "$P(A \\cap B) = P(A)\\cdot P(B|A)$\n",
    "\n",
    "$P(A \\cap B) = \\frac{1}{9} \\cdot \\frac{1}{2} = \\frac{1}{18}$\n",
    "\n",
    "\n",
    "$P(A|B) = \\frac{\\frac {1}{18}} {\\frac{11}{36}} = \\frac{2}{11} \\approx 0.1818  $\n"
   ]
  },
  {
   "cell_type": "markdown",
   "metadata": {},
   "source": [
    "**Part b)**\n",
    "\n",
    "Write a simple simulation to confirm our result. Make sure you run your simulation enough times to be confident in your result.\n",
    "\n",
    "Hint: Think about the definition of conditional probability."
   ]
  },
  {
   "cell_type": "code",
   "execution_count": 124,
   "metadata": {
    "vscode": {
     "languageId": "r"
    }
   },
   "outputs": [],
   "source": [
    "# set number of simulations\n",
    "sims <- 1000000\n",
    "\n",
    "# create vector to count the number of rolls that contain a 4\n",
    "contains_4 <- rep(0, sims)\n",
    "\n",
    "# create a vector to count the number of rolls that contain a 4 and sum to 5\n",
    "sum_5_given_4 <- rep(0,sims)\n",
    "\n",
    "# create a dice numbered 1 through 6\n",
    "x <- c(1:6)\n",
    "\n",
    "for (i in 1:sims) {\n",
    "  # roll the dice twice\n",
    "  rolls = sample(x, 2, replace = TRUE)\n",
    "\n",
    "    # if the roll contains a 4, count it in the contain_4 vector\n",
    "    if (4 %in% rolls){\n",
    "      contains_4[i] = 1\n",
    "    }\n",
    "    \n",
    "    # if there is a 4 and the sum is 5, count it in the sum vector\n",
    "    if ((4 %in% rolls) && sum(rolls) == 5){\n",
    "      sum_5_given_4[i] = 1\n",
    "    }\n",
    "}\n",
    "\n",
    "# determine the proportion of rolls that contain a 4 that summed to 5\n",
    "result <- sum(sum_5_given_4) / sum(contains_4)\n"
   ]
  },
  {
   "cell_type": "code",
   "execution_count": 125,
   "metadata": {
    "vscode": {
     "languageId": "r"
    }
   },
   "outputs": [
    {
     "name": "stdout",
     "output_type": "stream",
     "text": [
      "[1] \"The average of 1000000 simulations is 0.183224 which is within 0.773% of the expected result of 2/11\"\n"
     ]
    }
   ],
   "source": [
    "expected_value <- 2 / 11\n",
    "result_error <- abs(1 - (result/expected_value)) * 100\n",
    "\n",
    "print(sprintf(\"The average of %d simulations is %f which is within %.3f%% of the expected result of 2/11\", sims, result, result_error))"
   ]
  },
  {
   "cell_type": "code",
   "execution_count": null,
   "metadata": {
    "vscode": {
     "languageId": "r"
    }
   },
   "outputs": [],
   "source": []
  }
 ],
 "metadata": {
  "kernelspec": {
   "display_name": "R",
   "language": "R",
   "name": "ir"
  },
  "language_info": {
   "codemirror_mode": "r",
   "file_extension": ".r",
   "mimetype": "text/x-r-source",
   "name": "R",
   "pygments_lexer": "r",
   "version": "4.3.1"
  }
 },
 "nbformat": 4,
 "nbformat_minor": 4
}
