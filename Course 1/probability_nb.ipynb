{
 "cells": [
  {
   "cell_type": "code",
   "execution_count": 1,
   "metadata": {
    "vscode": {
     "languageId": "r"
    }
   },
   "outputs": [
    {
     "name": "stdout",
     "output_type": "stream",
     "text": [
      "Proportion of small straights (excluding large straights) in the simulation: 0.12363"
     ]
    }
   ],
   "source": [
    "# Lists of sorted small straights and large straights\n",
    "small_straights <- list(c(1, 2, 3, 4), c(2, 3, 4, 5), c(3, 4, 5, 6))\n",
    "large_straights <- list(c(1, 2, 3, 4, 5), c(2, 3, 4, 5, 6))\n",
    "\n",
    "# Function to check if a roll is a small straight but not a large straight\n",
    "is_small_straight <- function(roll) {\n",
    "    sorted_roll <- sort(unique(roll))\n",
    "    for (ss in small_straights) {\n",
    "        if (all(ss %in% sorted_roll)) {\n",
    "            # Check against large straights\n",
    "            for (ls in large_straights) {\n",
    "                if (all(ls %in% sorted_roll)) {\n",
    "                    return(FALSE) # It's a large straight, not a small one\n",
    "                }\n",
    "            }\n",
    "            return(TRUE) # It's a small straight\n",
    "        }\n",
    "    }\n",
    "    return(FALSE)\n",
    "}\n",
    "\n",
    "# Number of simulations\n",
    "num_simulations <- 100000\n",
    "\n",
    "# Counter for small straights\n",
    "num_small_straights <- 0\n",
    "\n",
    "# Simulate rolls\n",
    "for (i in 1:num_simulations) {\n",
    "    # Roll five 6-sided dice\n",
    "    roll <- sample(1:6, 5, replace = TRUE)\n",
    "    \n",
    "    # Check for small straight\n",
    "    if (is_small_straight(roll)) {\n",
    "        num_small_straights <- num_small_straights + 1\n",
    "    }\n",
    "}\n",
    "\n",
    "# Calculate the proportion of small straights\n",
    "proportion_small_straights <- num_small_straights / num_simulations\n",
    "\n",
    "# Print the result\n",
    "cat(\"Proportion of small straights (excluding large straights) in the simulation:\", proportion_small_straights)\n",
    "\n"
   ]
  },
  {
   "cell_type": "code",
   "execution_count": 2,
   "metadata": {
    "vscode": {
     "languageId": "r"
    }
   },
   "outputs": [
    {
     "data": {
      "text/html": [
       "0.043"
      ],
      "text/latex": [
       "0.043"
      ],
      "text/markdown": [
       "0.043"
      ],
      "text/plain": [
       "[1] 0.043"
      ]
     },
     "metadata": {},
     "output_type": "display_data"
    }
   ],
   "source": [
    "# Total possible outcomes when rolling five 6-sided dice\n",
    "total_outcomes <- 6^5\n",
    "\n",
    "# Favorable outcomes for the end small straights (1-2-3-4 and 3-4-5-6)\n",
    "# 4! permutations for each straight and 5 possibilities for the fifth die each\n",
    "favorable_outcomes_end_straights <- factorial(4) * 5 * 2  # Two end straights\n",
    "\n",
    "# Favorable outcomes for the middle small straight (2-3-4-5)\n",
    "# 4! permutations and 4 possibilities for the fifth die\n",
    "favorable_outcomes_middle_straight <- factorial(4) * 4\n",
    "\n",
    "# Total favorable outcomes\n",
    "total_favorable_outcomes <- favorable_outcomes_end_straights + favorable_outcomes_middle_straight\n",
    "\n",
    "# Calculate the probability\n",
    "probability_small_straight <- total_favorable_outcomes / total_outcomes\n",
    "\n",
    "# Round the result to three decimal places\n",
    "rounded_probability <- round(probability_small_straight, 3)\n",
    "\n",
    "# Print the probability\n",
    "rounded_probability\n"
   ]
  },
  {
   "cell_type": "code",
   "execution_count": 10,
   "metadata": {
    "vscode": {
     "languageId": "r"
    }
   },
   "outputs": [
    {
     "data": {
      "text/html": [
       "0.0402832031249999"
      ],
      "text/latex": [
       "0.0402832031249999"
      ],
      "text/markdown": [
       "0.0402832031249999"
      ],
      "text/plain": [
       "[1] 0.0402832"
      ]
     },
     "metadata": {},
     "output_type": "display_data"
    }
   ],
   "source": [
    "dnbinom(3,9,0.5)"
   ]
  },
  {
   "cell_type": "code",
   "execution_count": 10,
   "metadata": {
    "vscode": {
     "languageId": "r"
    }
   },
   "outputs": [
    {
     "data": {
      "text/html": [
       "4.501012"
      ],
      "text/latex": [
       "4.501012"
      ],
      "text/markdown": [
       "4.501012"
      ],
      "text/plain": [
       "[1] 4.501012"
      ]
     },
     "metadata": {},
     "output_type": "display_data"
    },
    {
     "data": {
      "text/html": [
       "0.449113424969425"
      ],
      "text/latex": [
       "0.449113424969425"
      ],
      "text/markdown": [
       "0.449113424969425"
      ],
      "text/plain": [
       "[1] 0.4491134"
      ]
     },
     "metadata": {},
     "output_type": "display_data"
    }
   ],
   "source": [
    "sim <- rbinom(1000000,5,0.9)\n",
    "\n",
    "mean(sim)\n",
    "var(sim)"
   ]
  },
  {
   "cell_type": "markdown",
   "metadata": {},
   "source": [
    "$P(X = k) = (1-p)^{x-1}p$\n"
   ]
  },
  {
   "cell_type": "code",
   "execution_count": 28,
   "metadata": {
    "vscode": {
     "languageId": "r"
    }
   },
   "outputs": [
    {
     "data": {
      "text/html": [
       "0.0564"
      ],
      "text/latex": [
       "0.0564"
      ],
      "text/markdown": [
       "0.0564"
      ],
      "text/plain": [
       "[1] 0.0564"
      ]
     },
     "metadata": {},
     "output_type": "display_data"
    },
    {
     "data": {
      "text/html": [
       "0.0564"
      ],
      "text/latex": [
       "0.0564"
      ],
      "text/markdown": [
       "0.0564"
      ],
      "text/plain": [
       "[1] 0.0564"
      ]
     },
     "metadata": {},
     "output_type": "display_data"
    },
    {
     "data": {
      "text/html": [
       "16.6666666666667"
      ],
      "text/latex": [
       "16.6666666666667"
      ],
      "text/markdown": [
       "16.6666666666667"
      ],
      "text/plain": [
       "[1] 16.66667"
      ]
     },
     "metadata": {},
     "output_type": "display_data"
    },
    {
     "data": {
      "text/html": [
       "261.111111111111"
      ],
      "text/latex": [
       "261.111111111111"
      ],
      "text/markdown": [
       "261.111111111111"
      ],
      "text/plain": [
       "[1] 261.1111"
      ]
     },
     "metadata": {},
     "output_type": "display_data"
    }
   ],
   "source": [
    "p <- 0.06\n",
    "x = 2\n",
    "\n",
    "dgeom(x-1,p)\n",
    "\n",
    "(1-p)^(x-1) * p\n",
    "\n",
    "expectation <- 1/p\n",
    "expectation\n",
    "\n",
    "variance <- (1-p)/p^2\n",
    "variance"
   ]
  },
  {
   "cell_type": "code",
   "execution_count": 19,
   "metadata": {
    "vscode": {
     "languageId": "r"
    }
   },
   "outputs": [
    {
     "data": {
      "text/html": [
       "0.8664"
      ],
      "text/latex": [
       "0.8664"
      ],
      "text/markdown": [
       "0.8664"
      ],
      "text/plain": [
       "[1] 0.8664"
      ]
     },
     "metadata": {},
     "output_type": "display_data"
    },
    {
     "data": {
      "text/html": [
       "<style>\n",
       ".list-inline {list-style: none; margin:0; padding: 0}\n",
       ".list-inline>li {display: inline-block}\n",
       ".list-inline>li:not(:last-child)::after {content: \"\\00b7\"; padding: 0 .5ex}\n",
       "</style>\n",
       "<ol class=list-inline><li>0.0668072012688581</li><li>0.933192798731142</li></ol>\n"
      ],
      "text/latex": [
       "\\begin{enumerate*}\n",
       "\\item 0.0668072012688581\n",
       "\\item 0.933192798731142\n",
       "\\end{enumerate*}\n"
      ],
      "text/markdown": [
       "1. 0.0668072012688581\n",
       "2. 0.933192798731142\n",
       "\n",
       "\n"
      ],
      "text/plain": [
       "[1] 0.0668072 0.9331928"
      ]
     },
     "metadata": {},
     "output_type": "display_data"
    },
    {
     "data": {
      "text/html": [
       "14.56"
      ],
      "text/latex": [
       "14.56"
      ],
      "text/markdown": [
       "14.56"
      ],
      "text/plain": [
       "[1] 14.56"
      ]
     },
     "metadata": {},
     "output_type": "display_data"
    },
    {
     "data": {
      "text/html": [
       "<style>\n",
       ".list-inline {list-style: none; margin:0; padding: 0}\n",
       ".list-inline>li {display: inline-block}\n",
       ".list-inline>li:not(:last-child)::after {content: \"\\00b7\"; padding: 0 .5ex}\n",
       "</style>\n",
       "<ol class=list-inline><li>0.0668072012688581</li><li>0.933192798731142</li></ol>\n"
      ],
      "text/latex": [
       "\\begin{enumerate*}\n",
       "\\item 0.0668072012688581\n",
       "\\item 0.933192798731142\n",
       "\\end{enumerate*}\n"
      ],
      "text/markdown": [
       "1. 0.0668072012688581\n",
       "2. 0.933192798731142\n",
       "\n",
       "\n"
      ],
      "text/plain": [
       "[1] 0.0668072 0.9331928"
      ]
     },
     "metadata": {},
     "output_type": "display_data"
    }
   ],
   "source": [
    "mean <- 12\n",
    "variance_set <- 4\n",
    "sd <- sqrt(variance_set)\n",
    "\n",
    "upper <- pnorm(mean+(1.5 * sd), mean, sqrt(variance_set))\n",
    "lower <- pnorm(mean- (1.5 * sd), mean, sqrt(variance_set))\n",
    "\n",
    "round((upper - lower),4)\n",
    "\n",
    "pnorm(c(9, 15),mean, sd)\n",
    "\n",
    "round(qnorm(0.90, mean, sqrt(variance_set)),2)\n",
    "\n",
    "pnorm(c(-1.5, 1.5))"
   ]
  },
  {
   "cell_type": "markdown",
   "metadata": {},
   "source": []
  },
  {
   "cell_type": "code",
   "execution_count": 22,
   "metadata": {
    "vscode": {
     "languageId": "r"
    }
   },
   "outputs": [
    {
     "data": {
      "text/html": [
       "0.693147180559945"
      ],
      "text/latex": [
       "0.693147180559945"
      ],
      "text/markdown": [
       "0.693147180559945"
      ],
      "text/plain": [
       "[1] 0.6931472"
      ]
     },
     "metadata": {},
     "output_type": "display_data"
    }
   ],
   "source": [
    "log(2)"
   ]
  },
  {
   "cell_type": "code",
   "execution_count": 2,
   "metadata": {
    "vscode": {
     "languageId": "r"
    }
   },
   "outputs": [
    {
     "name": "stdout",
     "output_type": "stream",
     "text": [
      "[1] 2\n",
      "[1] 6.213695\n"
     ]
    }
   ],
   "source": [
    "# Marginal probabilities\n",
    "P_X <- c(0.5, 0.5)\n",
    "P_Y <- c(0.3, 0.4, 0.3)\n",
    "\n",
    "# Values of X and Y\n",
    "X_values <- c(1, 5)\n",
    "Y_values <- c(1, 4, 16)\n",
    "\n",
    "# Calculate means\n",
    "E_X <- sum(X_values * P_X)\n",
    "E_Y <- sum(Y_values * P_Y)\n",
    "\n",
    "# Calculate variances\n",
    "Var_X <- sum(P_X * (X_values - E_X)^2)\n",
    "Var_Y <- sum(P_Y * (Y_values - E_Y)^2)\n",
    "\n",
    "# Calculate standard deviations\n",
    "SD_X <- sqrt(Var_X)\n",
    "SD_Y <- sqrt(Var_Y)\n",
    "\n",
    "# Print the results\n",
    "print(SD_X)\n",
    "print(SD_Y)\n"
   ]
  },
  {
   "cell_type": "code",
   "execution_count": 20,
   "metadata": {
    "vscode": {
     "languageId": "r"
    }
   },
   "outputs": [
    {
     "data": {
      "text/html": [
       "0.4345"
      ],
      "text/latex": [
       "0.4345"
      ],
      "text/markdown": [
       "0.4345"
      ],
      "text/plain": [
       "[1] 0.4345"
      ]
     },
     "metadata": {},
     "output_type": "display_data"
    }
   ],
   "source": [
    "round(5.4/(2*6.213695),4)"
   ]
  },
  {
   "cell_type": "code",
   "execution_count": 19,
   "metadata": {
    "vscode": {
     "languageId": "r"
    }
   },
   "outputs": [
    {
     "data": {
      "text/html": [
       "0.698805788087798"
      ],
      "text/latex": [
       "0.698805788087798"
      ],
      "text/markdown": [
       "0.698805788087798"
      ],
      "text/plain": [
       "[1] 0.6988058"
      ]
     },
     "metadata": {},
     "output_type": "display_data"
    },
    {
     "data": {
      "text/html": [
       "0.3412"
      ],
      "text/latex": [
       "0.3412"
      ],
      "text/markdown": [
       "0.3412"
      ],
      "text/plain": [
       "[1] 0.3412"
      ]
     },
     "metadata": {},
     "output_type": "display_data"
    }
   ],
   "source": [
    "pexp(12,.1)\n",
    "\n",
    "round((pexp(12, 0.1))^3, 4)\n"
   ]
  },
  {
   "cell_type": "code",
   "execution_count": null,
   "metadata": {
    "vscode": {
     "languageId": "r"
    }
   },
   "outputs": [],
   "source": []
  }
 ],
 "metadata": {
  "kernelspec": {
   "display_name": "R",
   "language": "R",
   "name": "ir"
  },
  "language_info": {
   "codemirror_mode": "r",
   "file_extension": ".r",
   "mimetype": "text/x-r-source",
   "name": "R",
   "pygments_lexer": "r",
   "version": "4.3.1"
  }
 },
 "nbformat": 4,
 "nbformat_minor": 2
}
