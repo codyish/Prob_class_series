{
 "cells": [
  {
   "cell_type": "markdown",
   "metadata": {},
   "source": [
    "# Module 5 Peer Review Assignment"
   ]
  },
  {
   "cell_type": "markdown",
   "metadata": {},
   "source": [
    "# Problem 1\n",
    "\n",
    "Roll two six-sided fair dice. Let $X$ denote the larger of the two values. Let $Y$ denote the smaller of the two values."
   ]
  },
  {
   "cell_type": "markdown",
   "metadata": {},
   "source": [
    "**a)** Construct a table that gives the joint probability mass function for $X$ and $Y$."
   ]
  },
  {
   "cell_type": "markdown",
   "metadata": {},
   "source": [
    "|     | x=1 | x=2 | x=3 | x=4 | x=5 | x=6 |\n",
    "| --- | --- | --- | --- | --- | --- | --- |\n",
    "| y=1 | 1/36 | 2/36 | 2/36 | 2/36 | 2/36 | 2/36 |\n",
    "| y=2 | 0/36 | 1/36 | 2/36 | 2/36 | 2/36 | 2/36 |\n",
    "| y=3 | 0/36 | 0/36 | 1/36 | 2/36 | 2/36 | 2/36 |\n",
    "| y=4 | 0/36 | 0/36 | 0/36 | 1/36 | 2/26 | 2/36 |\n",
    "| y=5 | 0/36 | 0/36 | 0/36 | 0/36 | 1/36 | 2/36 |\n",
    "| y=6 | 0/36 | 0/36 | 0/36 | 0/36 | 0/36 | 1/36 |"
   ]
  },
  {
   "cell_type": "markdown",
   "metadata": {},
   "source": [
    "**b)** What is $P(X \\ge 3, Y = 1)$?"
   ]
  },
  {
   "cell_type": "markdown",
   "metadata": {},
   "source": [
    "We can determine this by looking at our table. Add up all the values where $x \\ge 3$ and $y=1$.\n",
    "\n",
    "$$ P(X \\ge 3, Y = 1) = 2/36 + 2/36 + 2/36 + 2/36 = 2/9 $$"
   ]
  },
  {
   "cell_type": "markdown",
   "metadata": {},
   "source": [
    "**c)** What is $P(X \\ge Y + 2)$?"
   ]
  },
  {
   "cell_type": "markdown",
   "metadata": {},
   "source": [
    "\\begin{align*}\n",
    "    P(X \\ge Y+2) &= P(X \\ge 3, Y=1) + P(X \\ge 4, Y=2) + P(X \\ge 5, Y=3) + P(X=6, Y=4) \\\\\n",
    "    &= 8/36 + 6/36 + 4/36 + 2/36 \\\\\n",
    "    &= 20/36\n",
    "\\end{align*}"
   ]
  },
  {
   "cell_type": "markdown",
   "metadata": {},
   "source": [
    "**d)** Are $X$ and $Y$ independent? Explain."
   ]
  },
  {
   "cell_type": "markdown",
   "metadata": {},
   "source": [
    "$X$ and $Y$ are dependent. There are many calculations that demonstrate this, here's one:\n",
    "\n",
    "$$ P(X=1, Y=1) = 1/36 \\ne P(X=1)P(Y=1) = (1/36)(11/36) $$"
   ]
  },
  {
   "cell_type": "markdown",
   "metadata": {},
   "source": [
    "# Problem 2\n",
    "\n",
    "Let $(X, Y)$ be continuous random variables with joint PDF:\n",
    "\n",
    "$$\n",
    "  f(x,y) =\n",
    "  \\begin{cases}\n",
    "                                   cxy^2 & \\text{if $0 \\le x,y \\le 1$} \\\\\n",
    "                                   0 & \\text{else}\n",
    "  \\end{cases}\n",
    "$$\n"
   ]
  },
  {
   "cell_type": "markdown",
   "metadata": {},
   "source": [
    "**Part a)**\n",
    "\n",
    "Solve for $c$. Show your work."
   ]
  },
  {
   "cell_type": "markdown",
   "metadata": {},
   "source": [
    "For the joint PDF to be valid, we know that $\\int_0^1 \\int_0^1 f(x,y)dxdy = 1$. If we plug in our value for $f(x,y)$ then we can solve for $c$.\n",
    "\n",
    "\\begin{align*}\n",
    "    \\int_0^1 \\int_0^1 f(x,y)dxdy &= 1 \\\\\n",
    "    \\int_0^1 \\int_0^1 cxy^2 dxdy &= 1 \\\\\n",
    "    c \\Big[(1/2)x^2 \\Big]_0^1 \\Big[ (1/3)y^3 \\Big]_0^1 &= 1 \\\\\n",
    "    c \\Big[ (1/2)(1^2-0^2) \\Big] \\Big[ (1/3) (1^3 - 0^3) \\Big] &= 1 \\\\\n",
    "    c (1/2) (1/3) &= 1 \\\\\n",
    "    c &= 6\n",
    "\\end{align*}"
   ]
  },
  {
   "cell_type": "markdown",
   "metadata": {},
   "source": [
    "**Part b)** \n",
    "\n",
    "Find the marginal distributions $f_X(x)$ and $f_Y(y)$. Show your work."
   ]
  },
  {
   "cell_type": "markdown",
   "metadata": {},
   "source": [
    "\\begin{align*}\n",
    "    f_X(x) &= \\int_0^1 f(x,y) dy \\\\\n",
    "    &= \\int_0^1 6xy^2 dy \\\\\n",
    "    &= 6x \\Big[ (1/3)y^3 \\Big]_0^1 \\\\\n",
    "    &= 2x \\Big[ 1^3 - 0^3 \\Big] \\\\\n",
    "    &= 2x, \\qquad 0 \\le x \\le 1\n",
    "\\end{align*}\n",
    "\n",
    "\\begin{align*}\n",
    "    f_Y(y) &= \\int_0^1 6xy^2 dx \\\\\n",
    "    &= 6y^2 \\Big[ (1/2) x^2 \\Big]_0^1 \\\\\n",
    "    &= 3y^2 \\Big[ 1^2 - 0^2 \\Big] \\\\\n",
    "    &= 3y^2, \\qquad 0 \\le y \\le 1\n",
    "\\end{align*}"
   ]
  },
  {
   "cell_type": "markdown",
   "metadata": {},
   "source": [
    "**Part c)**\n",
    "\n",
    "Solve for $E[X]$ and $E[Y]$. Show your work."
   ]
  },
  {
   "cell_type": "markdown",
   "metadata": {},
   "source": [
    "\\begin{align*}\n",
    "    E[X] &= \\int_0^1 xf_X(x) dx \\\\\n",
    "    &= \\int_0^1 x(2x)dx \\\\\n",
    "    &= 2 \\Big[ (1/3) x^3 \\Big]_0^1 \\\\\n",
    "    &= (2/3) \\Big[ 1^3 - 0^3 \\Big] \\\\\n",
    "    &= 2/3\n",
    "\\end{align*}\n",
    "\n",
    "\\begin{align*}\n",
    "    E[Y] &= \\int_0^1 yf_Y(y) dy \\\\\n",
    "    &= \\int_0^1 y(3y^2) dy \\\\\n",
    "    &= 3 \\Big[ (1/4)y^4 \\Big]_0^1 \\\\\n",
    "    &= (3/4) \\Big[ 1^4 - 0^4 \\Big] \\\\\n",
    "    &= 3/4\n",
    "\\end{align*}"
   ]
  },
  {
   "cell_type": "markdown",
   "metadata": {},
   "source": [
    "**Part d)** \n",
    "\n",
    "Using the joint PDF, solve for $E[XY]$. Show your work."
   ]
  },
  {
   "cell_type": "markdown",
   "metadata": {},
   "source": [
    "\\begin{align*}\n",
    "    E[XY] &= \\int_0^1 \\int_0^1 xy f(x,y) dxdy \\\\\n",
    "    &= \\int_0^1 \\int_0^1 xy(6xy^2) dxdy \\\\\n",
    "    &= 6 \\int_0^1 \\int_0^1 x^2y^3 dxdy \\\\\n",
    "    &= 6 \\Big[(1/3)x^3\\Big]_0^1 \\Big[(1/4)y^4\\Big]_0^1 \\\\\n",
    "    &= 6(1/3)(1/4) \\Big[1^3-0^3\\Big] \\Big[1^4-0^4\\Big] \\\\\n",
    "    &= 1/2\n",
    "\\end{align*}"
   ]
  },
  {
   "cell_type": "markdown",
   "metadata": {},
   "source": [
    "**Part e)**\n",
    "\n",
    "Are $X$ and $Y$ independent?"
   ]
  },
  {
   "cell_type": "markdown",
   "metadata": {},
   "source": [
    "Yes. This is true because $E[XY] = E[X]E[Y]$ as $1/2 = (2/3)(3/4)$."
   ]
  }
 ],
 "metadata": {
  "kernelspec": {
   "display_name": "R",
   "language": "R",
   "name": "ir"
  },
  "language_info": {
   "codemirror_mode": "r",
   "file_extension": ".r",
   "mimetype": "text/x-r-source",
   "name": "R",
   "pygments_lexer": "r",
   "version": "3.6.3"
  }
 },
 "nbformat": 4,
 "nbformat_minor": 4
}
