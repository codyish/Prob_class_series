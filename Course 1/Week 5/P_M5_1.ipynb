{
 "cells": [
  {
   "cell_type": "markdown",
   "metadata": {},
   "source": [
    "# Module 5 Peer Review Assignment"
   ]
  },
  {
   "cell_type": "markdown",
   "metadata": {},
   "source": [
    "# Problem 1\n",
    "\n",
    "Roll two six-sided fair dice. Let $X$ denote the larger of the two values. Let $Y$ denote the smaller of the two values."
   ]
  },
  {
   "cell_type": "markdown",
   "metadata": {},
   "source": [
    "**a)** Construct a table that gives the joint probability mass function for $X$ and $Y$. (Note: \"X is the larger value and Y is the smaller value in a two dice roll\" means that for any two dice roll, X will be greater than or equal to Y)."
   ]
  },
  {
   "cell_type": "markdown",
   "metadata": {},
   "source": [
    " |    .  |     $Y=1$    |    $Y=2$     |     $Y=3$    |    $Y=4$     |     $Y=5$    |    $Y=6$     |\n",
    " |-------|--------------|--------------|--------------|--------------|--------------|--------------|\n",
    " | $X=1$ |$\\frac{1}{36}$|     $0$      |      $0$     |     $0$      |      $0$     |     $0$      |\n",
    " | $X=2$ |$\\frac{2}{36}$|$\\frac{1}{36}$|      $0$     |     $0$      |      $0$     |     $0$      |\n",
    " | $X=3$ |$\\frac{2}{36}$|$\\frac{2}{36}$|$\\frac{1}{36}$|     $0$      |      $0$     |     $0$      |\n",
    " | $X=4$ |$\\frac{2}{36}$|$\\frac{2}{36}$|$\\frac{2}{36}$|$\\frac{1}{36}$|      $0$     |     $0$      |\n",
    " | $X=5$ |$\\frac{2}{36}$|$\\frac{2}{36}$|$\\frac{2}{36}$|$\\frac{2}{36}$|$\\frac{1}{36}$|     $0$      |\n",
    " | $X=6$ |$\\frac{2}{36}$|$\\frac{2}{36}$|$\\frac{2}{36}$|$\\frac{2}{36}$|$\\frac{2}{36}$|$\\frac{1}{36}$|"
   ]
  },
  {
   "cell_type": "markdown",
   "metadata": {},
   "source": [
    "**b)** What is $P(X \\ge 3, Y = 1)$?"
   ]
  },
  {
   "cell_type": "markdown",
   "metadata": {},
   "source": [
    "There are 4 cells that satisfy the condition $P(X \\ge 3, Y = 1)$\n",
    "\n",
    "$\\frac{2}{36}+\\frac{2}{36}+\\frac{2}{36}+\\frac{2}{36} = \\frac{8}{36} = \\frac{2}{9} \\approx 0.222$ "
   ]
  },
  {
   "cell_type": "markdown",
   "metadata": {},
   "source": [
    "**c)** What is $P(X \\ge Y + 2)$?"
   ]
  },
  {
   "cell_type": "markdown",
   "metadata": {},
   "source": [
    "$Y = 1,\\ X \\ge 3$ $\\Rightarrow 4 \\cdot \\frac{2}{36}$\n",
    "\n",
    "$Y = 2,\\ X \\ge 4$ $\\Rightarrow 3 \\cdot \\frac{2}{36}$\n",
    "\n",
    "$Y = 3,\\ X \\ge 5$ $\\Rightarrow 2 \\cdot \\frac{2}{36}$\n",
    "\n",
    "$Y = 4,\\ X  =  6$ $\\Rightarrow 1 \\cdot \\frac{2}{36}$\n",
    "\n",
    "$10 \\cdot \\frac{2}{36} = \\frac{20}{36} = \\frac{5}{9} \\approx 0.556$ \n"
   ]
  },
  {
   "cell_type": "markdown",
   "metadata": {},
   "source": [
    "**d)** Are $X$ and $Y$ independent? Explain."
   ]
  },
  {
   "cell_type": "markdown",
   "metadata": {},
   "source": [
    "$X$ and $Y$ are not independent. They are dependent on each other as the value of one die determines the possible values that another can take on (more accurately, both dice together determine which value is $X$ and which one is $Y$.)\n",
    "\n",
    "Mathematically - if random variable are independent of each other then the probability of every given joint outcome must equal the product of the individual outcomes for each random variable. In this case:\n",
    "\n",
    "$P(X=x, Y=y) = P(X=x) \\cdot P(Y=y)$ for independence\n",
    "\n",
    "Taking an arbitrary example from the distribution table we can see that\n",
    "\n",
    "$P(X=5, Y=3) = \\frac{2}{36} \\neq P(X=5) \\cdot P(Y=3) = \\frac{9}{36} \\cdot \\frac{7}{36} = \\frac{7}{144}$\n",
    "\n"
   ]
  },
  {
   "cell_type": "markdown",
   "metadata": {},
   "source": [
    "# Problem 2\n",
    "\n",
    "Let $(X, Y)$ be continuous random variables with joint PDF:\n",
    "\n",
    "$$\n",
    "  f(x,y) =\n",
    "  \\begin{cases}\n",
    "                                   cxy^2 & \\text{if $0 \\le x \\le 1 \\text{ and } 0 \\le y \\le 1$} \\\\\n",
    "                                   0 & \\text{else}\n",
    "  \\end{cases}\n",
    "$$\n"
   ]
  },
  {
   "cell_type": "markdown",
   "metadata": {},
   "source": [
    "**Part a)**\n",
    "\n",
    "Solve for $c$. Show your work."
   ]
  },
  {
   "cell_type": "markdown",
   "metadata": {},
   "source": [
    "Since the double integral of $cxy^2$ over the support of $X$ and $Y$ must equal 1 we can solve for $c$ as follows.\n",
    "\n",
    "$$\\int_{0}^{1}\\int_{0}^{1} cxy^2\\ dx\\ dy = c\\int_{0}^{1}\\int_{0}^{1} cxy^2\\ dx\\ dy = c\\int_{0}^{1}x\\ dx \\int_{0}^{1}y^2\\ dy = 1$$\n",
    "\n",
    "$$c \\cdot \\frac{x^2}{2}\\Big|_{0}^{1} \\cdot \\frac{y^3}{3}\\Big|_{0}^{1} = c \\cdot \\frac{1}{2} \\cdot \\frac{1}{3} = c \\cdot \\frac{1}{6} = 1$$\n",
    "\n",
    "$$c = 6$$"
   ]
  },
  {
   "cell_type": "markdown",
   "metadata": {},
   "source": [
    "**Part b)** \n",
    "\n",
    "Find the marginal distributions $f_X(x)$ and $f_Y(y)$. Show your work."
   ]
  },
  {
   "cell_type": "markdown",
   "metadata": {},
   "source": [
    "For each of the marginal distributions we can integrate out the other random variable (using $c=6$ from above)\n",
    "\n",
    "$$f_Y(y) = 6y^2 \\int_{0}^{1}x\\ dx = 6y^2 \\cdot \\frac{x^2}{2}\\Big|_{0}^{1} = 3y^2 \\cdot x^2\\Big|_{0}^{1} = 3y^2$$\n",
    "\n",
    "$$f_X(x) = 6x \\int_{0}^{1}y^2\\ dx = 6x \\cdot \\frac{y^3}{3}\\Big|_{0}^{1} = 2x \\cdot y^3\\Big|_{0}^{1} = 2x$$"
   ]
  },
  {
   "cell_type": "markdown",
   "metadata": {},
   "source": [
    "**Part c)**\n",
    "\n",
    "Solve for $E[X]$ and $E[Y]$. Show your work."
   ]
  },
  {
   "cell_type": "markdown",
   "metadata": {},
   "source": [
    "Given $f_X(x) = 2x$ and $f_Y(y)=3y^2$:\n",
    "\n",
    "$$E[X] = \\int_{0}^{1}x \\cdot 2x\\ dx = \\int_{0}^{1} 2x^2\\ dx = \\frac{2x^3}{3}\\Big|_{0}^{1} = \\frac{2}{3}$$\n",
    "\n",
    "$$E[Y] = \\int_{0}^{1}y \\cdot 3y^2\\ dx = \\int_{0}^{1} 3y^3\\ dx = \\frac{3y^4}{4}\\Big|_{0}^{1} = \\frac{3}{4}$$"
   ]
  },
  {
   "cell_type": "markdown",
   "metadata": {},
   "source": [
    "**Part d)** \n",
    "\n",
    "Using the joint PDF, solve for $E[XY]$. Show your work."
   ]
  },
  {
   "cell_type": "markdown",
   "metadata": {},
   "source": [
    "$$ E[XY] = \\int_{0}^{1}\\int_{0}^{1}xy \\cdot f(x,y)\\ dx\\ dy = E[XY] = \\int_{0}^{1}\\int_{0}^{1}xy \\cdot 6xy^2\\ dx\\ dy $$\n",
    "\n",
    "$$ = \\int_{0}^{1}\\int_{0}^{1} 6x^2y^3\\ dx\\ dy  = 6 \\int_{0}^{1}\\int_{0}^{1} x^2y^3\\ dx\\ dy $$"
   ]
  },
  {
   "cell_type": "markdown",
   "metadata": {},
   "source": [
    "**Part e)**\n",
    "\n",
    "Are $X$ and $Y$ independent?"
   ]
  },
  {
   "cell_type": "markdown",
   "metadata": {},
   "source": [
    "YOUR ANSWER HERE"
   ]
  }
 ],
 "metadata": {
  "kernelspec": {
   "display_name": "R",
   "language": "R",
   "name": "ir"
  },
  "language_info": {
   "codemirror_mode": "r",
   "file_extension": ".r",
   "mimetype": "text/x-r-source",
   "name": "R",
   "pygments_lexer": "r",
   "version": "4.3.1"
  }
 },
 "nbformat": 4,
 "nbformat_minor": 4
}
