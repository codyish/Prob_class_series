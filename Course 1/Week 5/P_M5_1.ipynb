{
 "cells": [
  {
   "cell_type": "markdown",
   "metadata": {},
   "source": [
    "# Module 5 Peer Review Assignment"
   ]
  },
  {
   "cell_type": "markdown",
   "metadata": {},
   "source": [
    "# Problem 1\n",
    "\n",
    "Roll two six-sided fair dice. Let $X$ denote the larger of the two values. Let $Y$ denote the smaller of the two values."
   ]
  },
  {
   "cell_type": "markdown",
   "metadata": {},
   "source": [
    "**a)** Construct a table that gives the joint probability mass function for $X$ and $Y$. (Note: \"X is the larger value and Y is the smaller value in a two dice roll\" means that for any two dice roll, X will be greater than or equal to Y)."
   ]
  },
  {
   "cell_type": "code",
   "execution_count": 8,
   "metadata": {
    "vscode": {
     "languageId": "r"
    }
   },
   "outputs": [
    {
     "data": {
      "text/html": [
       "<ol class=list-inline>\n",
       "\t<li>0.534180778777227</li>\n",
       "\t<li>0.882380656898022</li>\n",
       "\t<li>0.136361283948645</li>\n",
       "\t<li>0.234849918633699</li>\n",
       "\t<li>0.0901507530361414</li>\n",
       "\t<li>0.843080632621422</li>\n",
       "\t<li>0.689616944873706</li>\n",
       "\t<li>0.355995921883732</li>\n",
       "\t<li>0.0450208380352706</li>\n",
       "\t<li>0.37177828210406</li>\n",
       "</ol>\n"
      ],
      "text/latex": [
       "\\begin{enumerate*}\n",
       "\\item 0.534180778777227\n",
       "\\item 0.882380656898022\n",
       "\\item 0.136361283948645\n",
       "\\item 0.234849918633699\n",
       "\\item 0.0901507530361414\n",
       "\\item 0.843080632621422\n",
       "\\item 0.689616944873706\n",
       "\\item 0.355995921883732\n",
       "\\item 0.0450208380352706\n",
       "\\item 0.37177828210406\n",
       "\\end{enumerate*}\n"
      ],
      "text/markdown": [
       "1. 0.534180778777227\n",
       "2. 0.882380656898022\n",
       "3. 0.136361283948645\n",
       "4. 0.234849918633699\n",
       "5. 0.0901507530361414\n",
       "6. 0.843080632621422\n",
       "7. 0.689616944873706\n",
       "8. 0.355995921883732\n",
       "9. 0.0450208380352706\n",
       "10. 0.37177828210406\n",
       "\n",
       "\n"
      ],
      "text/plain": [
       " [1] 0.53418078 0.88238066 0.13636128 0.23484992 0.09015075 0.84308063\n",
       " [7] 0.68961694 0.35599592 0.04502084 0.37177828"
      ]
     },
     "metadata": {},
     "output_type": "display_data"
    }
   ],
   "source": [
    "runif(10)"
   ]
  },
  {
   "cell_type": "markdown",
   "metadata": {},
   "source": [
    "| 1 | 2 | 3 | 4 | 5 | 6 |\n",
    "|---|---|---|---|---|---|\n",
    "| 0 | c | c  | c  | c  | c  |\n",
    "|  c | c | c  | c  | c  | c  |\n",
    "|  c | c | c  | c  |  c |  c |\n",
    "| c  | c | c  | c  |  c | c  |\n",
    "| c  | c | c  | c  |  c | c  |\n",
    "| 6 | c | c  | c  | c  | d |"
   ]
  },
  {
   "cell_type": "markdown",
   "metadata": {},
   "source": [
    "**b)** What is $P(X \\ge 3, Y = 1)$?"
   ]
  },
  {
   "cell_type": "markdown",
   "metadata": {},
   "source": [
    "YOUR ANSWER HERE"
   ]
  },
  {
   "cell_type": "markdown",
   "metadata": {},
   "source": [
    "**c)** What is $P(X \\ge Y + 2)$?"
   ]
  },
  {
   "cell_type": "markdown",
   "metadata": {},
   "source": [
    "YOUR ANSWER HERE"
   ]
  },
  {
   "cell_type": "markdown",
   "metadata": {},
   "source": [
    "**d)** Are $X$ and $Y$ independent? Explain."
   ]
  },
  {
   "cell_type": "markdown",
   "metadata": {},
   "source": [
    "YOUR ANSWER HERE"
   ]
  },
  {
   "cell_type": "markdown",
   "metadata": {},
   "source": [
    "# Problem 2\n",
    "\n",
    "Let $(X, Y)$ be continuous random variables with joint PDF:\n",
    "\n",
    "$$\n",
    "  f(x,y) =\n",
    "  \\begin{cases}\n",
    "                                   cxy^2 & \\text{if $0 \\le x \\le 1 \\text{ and } 0 \\le y \\le 1$} \\\\\n",
    "                                   0 & \\text{else}\n",
    "  \\end{cases}\n",
    "$$\n"
   ]
  },
  {
   "cell_type": "markdown",
   "metadata": {},
   "source": [
    "**Part a)**\n",
    "\n",
    "Solve for $c$. Show your work."
   ]
  },
  {
   "cell_type": "markdown",
   "metadata": {},
   "source": [
    "YOUR ANSWER HERE"
   ]
  },
  {
   "cell_type": "markdown",
   "metadata": {},
   "source": [
    "**Part b)** \n",
    "\n",
    "Find the marginal distributions $f_X(x)$ and $f_Y(y)$. Show your work."
   ]
  },
  {
   "cell_type": "markdown",
   "metadata": {},
   "source": [
    "YOUR ANSWER HERE"
   ]
  },
  {
   "cell_type": "markdown",
   "metadata": {},
   "source": [
    "**Part c)**\n",
    "\n",
    "Solve for $E[X]$ and $E[Y]$. Show your work."
   ]
  },
  {
   "cell_type": "markdown",
   "metadata": {},
   "source": [
    "YOUR ANSWER HERE"
   ]
  },
  {
   "cell_type": "markdown",
   "metadata": {},
   "source": [
    "**Part d)** \n",
    "\n",
    "Using the joint PDF, solve for $E[XY]$. Show your work."
   ]
  },
  {
   "cell_type": "markdown",
   "metadata": {},
   "source": [
    "YOUR ANSWER HERE"
   ]
  },
  {
   "cell_type": "markdown",
   "metadata": {},
   "source": [
    "**Part e)**\n",
    "\n",
    "Are $X$ and $Y$ independent?"
   ]
  },
  {
   "cell_type": "markdown",
   "metadata": {},
   "source": [
    "YOUR ANSWER HERE"
   ]
  }
 ],
 "metadata": {
  "kernelspec": {
   "display_name": "R",
   "language": "R",
   "name": "ir"
  },
  "language_info": {
   "codemirror_mode": "r",
   "file_extension": ".r",
   "mimetype": "text/x-r-source",
   "name": "R",
   "pygments_lexer": "r",
   "version": "3.6.1"
  }
 },
 "nbformat": 4,
 "nbformat_minor": 4
}
