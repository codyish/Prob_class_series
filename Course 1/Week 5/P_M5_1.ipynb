{
 "cells": [
  {
   "cell_type": "markdown",
   "metadata": {},
   "source": [
    "# Module 5 Peer Review Assignment"
   ]
  },
  {
   "cell_type": "markdown",
   "metadata": {},
   "source": [
    "# Problem 1\n",
    "\n",
    "Roll two six-sided fair dice. Let $X$ denote the larger of the two values. Let $Y$ denote the smaller of the two values."
   ]
  },
  {
   "cell_type": "markdown",
   "metadata": {},
   "source": [
    "**a)** Construct a table that gives the joint probability mass function for $X$ and $Y$. (Note: \"X is the larger value and Y is the smaller value in a two dice roll\" means that for any two dice roll, X will be greater than or equal to Y)."
   ]
  },
  {
   "cell_type": "code",
   "execution_count": 3,
   "metadata": {
    "vscode": {
     "languageId": "r"
    }
   },
   "outputs": [
    {
     "data": {
      "text/html": [
       "<ol class=list-inline>\n",
       "\t<li>0.46863294322975</li>\n",
       "\t<li>0.267036702018231</li>\n",
       "\t<li>0.122550696134567</li>\n",
       "\t<li>0.989655167097226</li>\n",
       "\t<li>0.158636227250099</li>\n",
       "\t<li>0.831302446546033</li>\n",
       "\t<li>0.370501384837553</li>\n",
       "\t<li>0.715588357299566</li>\n",
       "\t<li>0.840916100656614</li>\n",
       "\t<li>0.895853168098256</li>\n",
       "</ol>\n"
      ],
      "text/latex": [
       "\\begin{enumerate*}\n",
       "\\item 0.46863294322975\n",
       "\\item 0.267036702018231\n",
       "\\item 0.122550696134567\n",
       "\\item 0.989655167097226\n",
       "\\item 0.158636227250099\n",
       "\\item 0.831302446546033\n",
       "\\item 0.370501384837553\n",
       "\\item 0.715588357299566\n",
       "\\item 0.840916100656614\n",
       "\\item 0.895853168098256\n",
       "\\end{enumerate*}\n"
      ],
      "text/markdown": [
       "1. 0.46863294322975\n",
       "2. 0.267036702018231\n",
       "3. 0.122550696134567\n",
       "4. 0.989655167097226\n",
       "5. 0.158636227250099\n",
       "6. 0.831302446546033\n",
       "7. 0.370501384837553\n",
       "8. 0.715588357299566\n",
       "9. 0.840916100656614\n",
       "10. 0.895853168098256\n",
       "\n",
       "\n"
      ],
      "text/plain": [
       " [1] 0.4686329 0.2670367 0.1225507 0.9896552 0.1586362 0.8313024 0.3705014\n",
       " [8] 0.7155884 0.8409161 0.8958532"
      ]
     },
     "metadata": {},
     "output_type": "display_data"
    }
   ],
   "source": [
    "runif(10)"
   ]
  },
  {
   "cell_type": "markdown",
   "metadata": {},
   "source": [
    "| 1 | 2 | 3 | 4 | 5 | 6 |\n",
    "|---|---|---|---|---|---|\n",
    "| 0 | c | c  | c  | c  | c  |\n",
    "|  c | c | c  | c  | c  | c  |\n",
    "|  c | c | c  | c  |  c |  c |\n",
    "| c  | c | c  | c  |  c | c  |\n",
    "| c  | c | c  | c  |  c | c  |\n",
    "| 6 | c | c  | c  | c  | d |"
   ]
  },
  {
   "cell_type": "markdown",
   "metadata": {},
   "source": [
    "**b)** What is $P(X \\ge 3, Y = 1)$?"
   ]
  },
  {
   "cell_type": "markdown",
   "metadata": {},
   "source": [
    "YOUR ANSWER HERE"
   ]
  },
  {
   "cell_type": "markdown",
   "metadata": {},
   "source": [
    "**c)** What is $P(X \\ge Y + 2)$?"
   ]
  },
  {
   "cell_type": "markdown",
   "metadata": {},
   "source": [
    "YOUR ANSWER HERE"
   ]
  },
  {
   "cell_type": "markdown",
   "metadata": {},
   "source": [
    "**d)** Are $X$ and $Y$ independent? Explain."
   ]
  },
  {
   "cell_type": "markdown",
   "metadata": {},
   "source": [
    "YOUR ANSWER HERE"
   ]
  },
  {
   "cell_type": "markdown",
   "metadata": {},
   "source": [
    "# Problem 2\n",
    "\n",
    "Let $(X, Y)$ be continuous random variables with joint PDF:\n",
    "\n",
    "$$\n",
    "  f(x,y) =\n",
    "  \\begin{cases}\n",
    "                                   cxy^2 & \\text{if $0 \\le x \\le 1 \\text{ and } 0 \\le y \\le 1$} \\\\\n",
    "                                   0 & \\text{else}\n",
    "  \\end{cases}\n",
    "$$\n"
   ]
  },
  {
   "cell_type": "markdown",
   "metadata": {},
   "source": [
    "**Part a)**\n",
    "\n",
    "Solve for $c$. Show your work."
   ]
  },
  {
   "cell_type": "markdown",
   "metadata": {},
   "source": [
    "YOUR ANSWER HERE"
   ]
  },
  {
   "cell_type": "markdown",
   "metadata": {},
   "source": [
    "**Part b)** \n",
    "\n",
    "Find the marginal distributions $f_X(x)$ and $f_Y(y)$. Show your work."
   ]
  },
  {
   "cell_type": "markdown",
   "metadata": {},
   "source": [
    "YOUR ANSWER HERE"
   ]
  },
  {
   "cell_type": "markdown",
   "metadata": {},
   "source": [
    "**Part c)**\n",
    "\n",
    "Solve for $E[X]$ and $E[Y]$. Show your work."
   ]
  },
  {
   "cell_type": "markdown",
   "metadata": {},
   "source": [
    "YOUR ANSWER HERE"
   ]
  },
  {
   "cell_type": "markdown",
   "metadata": {},
   "source": [
    "**Part d)** \n",
    "\n",
    "Using the joint PDF, solve for $E[XY]$. Show your work."
   ]
  },
  {
   "cell_type": "markdown",
   "metadata": {},
   "source": [
    "YOUR ANSWER HERE"
   ]
  },
  {
   "cell_type": "markdown",
   "metadata": {},
   "source": [
    "**Part e)**\n",
    "\n",
    "Are $X$ and $Y$ independent?"
   ]
  },
  {
   "cell_type": "markdown",
   "metadata": {},
   "source": [
    "YOUR ANSWER HERE"
   ]
  }
 ],
 "metadata": {
  "kernelspec": {
   "display_name": "R",
   "language": "R",
   "name": "ir"
  },
  "language_info": {
   "codemirror_mode": "r",
   "file_extension": ".r",
   "mimetype": "text/x-r-source",
   "name": "R",
   "pygments_lexer": "r",
   "version": "3.6.1"
  }
 },
 "nbformat": 4,
 "nbformat_minor": 4
}
