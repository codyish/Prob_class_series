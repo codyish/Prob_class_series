{
 "cells": [
  {
   "cell_type": "markdown",
   "metadata": {},
   "source": [
    "# Week 1"
   ]
  },
  {
   "cell_type": "markdown",
   "metadata": {},
   "source": [
    "## Module 1 Quiz"
   ]
  },
  {
   "cell_type": "markdown",
   "metadata": {},
   "source": [
    "### Problem 1:\n",
    "For each of the following scenarios, find the requested probability. Assume the sets $A$, $B$, and $C$ are events from the same sample space $S$. (Hint: Venn diagrams may help with the visualization, although they are not required to answer the questions.)\n",
    "\n",
    "Given the following probabilities:\n",
    "- $P(A) = 0.4$\n",
    "- $P(B^c) = 0.7$\n",
    "- $P(A \\cap B^c) = 0.2$\n",
    "\n",
    "Find $P(A \\cap B)$.\n",
    "\n",
    "<details>\n",
    "<summary>Answer</summary>\n",
    "0.2\n",
    "\n",
    "The entire A circle is 0.4, the entire A circle minus the overlapping section is 0.2, meaning the leftover A section is 0.2\n",
    "\n",
    "$P(A) - P(A \\cap B^c) = P(A \\cap B) = 0.4 - 0.3 = 0.2$"
   ]
  },
  {
   "cell_type": "code",
   "execution_count": null,
   "metadata": {
    "vscode": {
     "languageId": "r"
    }
   },
   "outputs": [],
   "source": []
  },
  {
   "cell_type": "markdown",
   "metadata": {},
   "source": [
    "### Problem 2: \n",
    "For each of the following scenarios, find the requested probability. Assume the sets $A$, $B$, and $C$ are events from the same sample space $S$. (Hint: Venn diagrams may help with the visualization, although they are not required to answer the questions.)\n",
    "\n",
    "Given the following probabilities:\n",
    "- $P(A) = 0.9$\n",
    "- $P(B) = 0.9$\n",
    "\n",
    "What is the lower bound for $P(A \\cup B)$?\n",
    "\n",
    "<details>\n",
    "  <summary>Answer</summary>\n",
    "  0.9\n",
    "\n",
    "This is just the likelihood of either complete circle, so the lower bound will always be the lowest individual probability when phrased this way."
   ]
  },
  {
   "cell_type": "markdown",
   "metadata": {},
   "source": [
    "### Problem 3:\n",
    "Three popular options on a certain type of car are $A$ (leather seats), $B$ (a sunroof), and $C$ (heated seats). In the past:\n",
    "\n",
    "- $P(A) = 0.55$ (i.e., 55% of the customers have requested option A),\n",
    "- $P(B) = 0.45$,\n",
    "- $P(C) = 0.4$.\n",
    "\n",
    "Furthermore:\n",
    "- $P(A \\cap B) = 0.25$,\n",
    "- $P(A \\cap C) = 0.2$,\n",
    "- $P(B \\cap C) = 0.15$, \n",
    "- $P(A \\cap B \\cap C) = 0.1$.\n",
    "\n",
    "Find the probability that a customer will ask for **at least one** of the three options.\n",
    "\n",
    "<details>\n",
    "  <summary>Answer</summary>\n",
    "  0.9\n",
    "\n",
    "This is the total of each individual circle, minus each overlapping section of two circles, and then re-adding in the center overlap of all three because it is getting subtracted out 3 times when it only needs to be subtracted out twice.\n",
    "\n",
    "$P(at least one) = P(A) + P(B) + P(C) - P(A \\cap B) - (A \\cap C) - (B \\cap C) + P(A \\cap B \\cap C)$\n",
    "\n",
    "$0.55 + 0.45 + 0.4 - 0.25 - 0.20 - 0.15 + 0.1$ "
   ]
  },
  {
   "cell_type": "markdown",
   "metadata": {},
   "source": [
    "### Problem 4:\n",
    "Three popular options on a certain type of car are $A$ (leather seats), $B$ (a sunroof), and $C$ (heated seats). In the past:\n",
    "\n",
    "- $P(A) = 0.55$ (i.e., 55% of the customers have requested option A),\n",
    "- $P(B) = 0.45$,\n",
    "- $P(C) = 0.4$.\n",
    "\n",
    "Furthermore:\n",
    "- $P(A \\cap B) = 0.25$,\n",
    "- $P(A \\cap C) = 0.2$,\n",
    "- $P(B \\cap C) = 0.15$, \n",
    "- $P(A \\cap B \\cap C) = 0.1$.\n",
    "\n",
    "Find the probability that a customer will **not** ask for any of these three options.\n",
    "\n",
    "<details>\n",
    "  <summary>Answer</summary>\n",
    "  0.1\n",
    "\n",
    "This is just the complement of the above answer (the alternative to asking for at least one of something is to ask for nothing.)"
   ]
  },
  {
   "cell_type": "markdown",
   "metadata": {},
   "source": [
    "### Problem 5:\n",
    "Three popular options on a certain type of car are $A$ (leather seats), $B$ (a sunroof), and $C$ (heated seats). In the past:\n",
    "\n",
    "- $P(A) = 0.55$ (i.e., 55% of the customers have requested option A),\n",
    "- $P(B) = 0.45$,\n",
    "- $P(C) = 0.4$.\n",
    "\n",
    "Furthermore:\n",
    "- $P(A \\cap B) = 0.25$,\n",
    "- $P(A \\cap C) = 0.2$,\n",
    "- $P(B \\cap C) = 0.15$,\n",
    "- $P(A \\cap B \\cap C) = 0.1$.\n",
    "\n",
    "Find the probability that a customer will ask for **heated leather seats** but **not** a sunroof.\n",
    "\n",
    "<details>\n",
    "  <summary>Answer</summary>\n",
    "  0.1\n",
    "\n",
    "Heated Leather seats is $P(A \\cap C) = 0.2$ and inluding a sunroof is $P(A \\cap B \\cap C) = 0.1$ so removing the sunroof probability is \n",
    "\n",
    "$P(A \\cap B) - P(A \\cap B \\cap C) = 0.2 - 0.1 = 0.1$"
   ]
  },
  {
   "cell_type": "markdown",
   "metadata": {},
   "source": [
    "### Problem 6:\n",
    "Three popular options on a certain type of car are $A$ (leather seats), $B$ (a sunroof), and $C$ (heated seats). In the past:\n",
    "\n",
    "- $P(A) = 0.55$ (i.e., 55% of the customers have requested option A),\n",
    "- $P(B) = 0.45$,\n",
    "- $P(C) = 0.4$.\n",
    "\n",
    "Furthermore:\n",
    "- $P(A \\cap B) = 0.25$,\n",
    "- $P(A \\cap C) = 0.2$,\n",
    "- $P(B \\cap C) = 0.15$,\n",
    "- $P(A \\cap B \\cap C) = 0.1$.\n",
    "\n",
    "Find the probability that a customer will ask for **at most two** of the options.\n",
    "\n",
    "<details>\n",
    "  <summary>Answer</summary>\n",
    "  0.9\n",
    "\n",
    "This is the probability of everything but asking for all 3 options (don't forget that asking for none of them counts in this case, \"at most 2, inluding 0.)\n",
    "\n",
    "So it's just $1 - P(A \\cap B \\cap C) = 0.9$ "
   ]
  },
  {
   "cell_type": "markdown",
   "metadata": {},
   "source": [
    "### Problem 7:\n",
    "Three popular options on a certain type of car are $A$ (leather seats), $B$ (a sunroof), and $C$ (heated seats). In the past:\n",
    "\n",
    "- $P(A) = 0.55$ (i.e., 55% of the customers have requested option A),\n",
    "- $P(B) = 0.45$,\n",
    "- $P(C) = 0.4$.\n",
    "\n",
    "Furthermore:\n",
    "- $P(A \\cap B) = 0.25$,\n",
    "- $P(A \\cap C) = 0.2$,\n",
    "- $P(B \\cap C) = 0.15$,\n",
    "- $P(A \\cap B \\cap C) = 0.1$.\n",
    "\n",
    "Find the probability that a customer will ask for **exactly two** of the options.\n",
    "\n",
    "<details>\n",
    "  <summary>Answer</summary>\n",
    "  0.3\n",
    "\n",
    "This is just the total of all of the double overlaps minuse the triple overlap, so it can be subracted from each before adding or subtracted 3 times on it's own (for each overcounting.)\n",
    "\n",
    "$P(A \\cap B) + P(A \\cap C) + P(B \\cap C) - 3 \\cdot P(A \\cap B \\cap C)$\n",
    "\n",
    "$(P(A \\cap B) - P(A \\cap B \\cap C)) + (P(A \\cap C) - P(A \\cap B \\cap C)) + (P(B \\cap C) - P(A \\cap B \\cap C))$\n",
    "\n",
    "$0.25 + 0.2 + 0.15 - (3 * 0.1) = 0.3$"
   ]
  },
  {
   "cell_type": "markdown",
   "metadata": {},
   "source": [
    "### Problem 8:\n",
    "A message of length 5 digits is to be sent. Each digit can be a 0, 1, or 2.\n",
    "\n",
    "What is the cardinality of the sample space?\n",
    "\n",
    "<details>\n",
    "  <summary>Answer</summary>\n",
    "  243\n",
    "\n",
    "Just the number of possible options\n",
    "\n",
    "$3^5 = 243$"
   ]
  },
  {
   "cell_type": "markdown",
   "metadata": {},
   "source": [
    "### Problem 9:\n",
    "A message of length 5 digits is to be sent. Each digit can be a 0, 1, or 2.\n",
    "\n",
    "If every message is equally likely, what is the probability that the message consists of 2 zeros, 2 ones, and 1 two? Round your answer to four decimal places.\n",
    "\n",
    "<details>\n",
    "  <summary>Answer</summary>\n",
    "  0.1235\n",
    "\n",
    "A single two can assume 5 different positions. The number of ways that the two remaining digits can occupy four spaces is $\\binom{4}{2} = 6$ so the overall probability is \n",
    "\n",
    "$$\\frac {5 \\cdot \\binom{4}{2}}{3^5} = \\frac{30}{243} \\approx 0.1235$$"
   ]
  },
  {
   "cell_type": "markdown",
   "metadata": {},
   "source": [
    "### Problem 10:\n",
    "A message of length 5 digits is to be sent. Each digit can be a 0, 1, or 2.\n",
    "\n",
    "What is the probability that the message contains **at least one zero**? Round your answer to three decimal places.\n",
    "\n",
    "<details>\n",
    "   <summary>Answer</summary>\n",
    "0.868\n",
    "\n",
    "Direct calculation:\n",
    "All possibilities is $3^5 = 243$ and all possibilities using only ones and twos is $2^5 = 32$ so the total minus the non-zeroes options is \n",
    "\n",
    "$$\\frac {3^5 - 2^5}{3^5} = \\frac {243 - 32}{243} \\approx 0.869$$\n",
    "\n",
    "Complement approach:\n",
    "\n",
    "$P(\\text{no zeros}) = \\frac{2^5}{3^5} = \\frac{32}{243}$\n",
    "\n",
    "\n",
    "$P(\\text{at least one zero}) = 1 - P(\\text{no zeros}) = 1 - \\frac{32}{243} = \\frac{243 - 32}{243} = \\frac{211}{243}$\n",
    "\n",
    "\n"
   ]
  },
  {
   "cell_type": "markdown",
   "metadata": {},
   "source": [
    "# Week 2"
   ]
  },
  {
   "cell_type": "markdown",
   "metadata": {},
   "source": [
    "## Module 2 Quiz"
   ]
  },
  {
   "cell_type": "markdown",
   "metadata": {},
   "source": [
    "### Question 1:\n",
    "For each of the following scenarios, answer the question with a numerical answer or a “Yes” or “No”. If you do not have enough information, write “Can’t tell”. For all situations, assume $0 < P(A) < 1$ and $0 < P(B) < 1$.\n",
    "\n",
    "If $A$ and $B$ are two events such that:\n",
    "- $P(A) = 0.7$,\n",
    "- $P(B) = 0.5$,\n",
    "- $P(B \\mid A) = 0.6$,\n",
    "\n",
    "Find $P(A \\cup B)$. If possible, round your answer to two decimal places.\n",
    "\n",
    "<details>\n",
    "   <summary>Answer</summary>\n",
    "   0.78"
   ]
  },
  {
   "cell_type": "markdown",
   "metadata": {},
   "source": [
    "\n",
    "### Question 2:\n",
    "For each of the following scenarios, answer the question with a numerical answer or a “Yes” or “No”. If you do not have enough information, write “Can’t tell”. For all situations, assume $0 < P(A) < 1$ and $0 < P(B) < 1$.\n",
    "\n",
    "If $A$ is a subset of $B$, can $A$ and $B$ be independent? (Answer Yes, No, or Can’t tell.)\n",
    "\n",
    "<details>\n",
    "   <summary>Answer</summary>\n",
    "   No"
   ]
  },
  {
   "cell_type": "markdown",
   "metadata": {},
   "source": [
    "\n",
    "### Question 3:\n",
    "For each of the following scenarios, answer the question with a numerical answer or a “Yes” or “No”. If you do not have enough information, write “Can’t tell”. For all situations, assume $0 < P(A) < 1$ and $0 < P(B) < 1$.\n",
    "\n",
    "If $A$ is a subset of $B$, calculate $P(B \\mid A)$, if you can. (If you can’t, answer Can’t tell.)\n",
    "\n",
    "<details>\n",
    "   <summary>Answer</summary>\n",
    "   1"
   ]
  },
  {
   "cell_type": "markdown",
   "metadata": {},
   "source": [
    "\n",
    "### Question 4:\n",
    "For each of the following scenarios, answer the question with a numerical answer or a “Yes” or “No”. If you do not have enough information, write “Can’t tell”. For all situations, assume $0 < P(A) < 1$ and $0 < P(B) < 1$.\n",
    "\n",
    "If $A$ is a subset of $B$, calculate $P(A \\mid B)$, if you can. (If you can’t, answer Can’t tell.)\n",
    "\n",
    "<details>\n",
    "   <summary>Answer</summary>\n",
    "   Can't tell"
   ]
  },
  {
   "cell_type": "markdown",
   "metadata": {},
   "source": [
    "\n",
    "### Question 5:\n",
    "For each of the following scenarios, answer the question with a numerical answer or a “Yes” or “No”. If you do not have enough information, write “Can’t tell”. For all situations, assume $0 < P(A) < 1$ and $0 < P(B) < 1$.\n",
    "\n",
    "If $P(A) = 0.8$, $P(B \\mid A) = 0.5$, and $A$ and $B$ are dependent (not independent), then is $P(B) \\leq P(A)$? (Answer Yes, No, or Can’t tell.)\n",
    "\n",
    "<details>\n",
    "   <summary>Answer</summary>\n",
    "Can't Tell (too many missing variable)"
   ]
  },
  {
   "cell_type": "markdown",
   "metadata": {},
   "source": [
    "\n",
    "### Question 6:\n",
    "An unfair coin is flipped four times. The probability of heads is $0.6$ and the probability of tails is $0.4$. Every flip is independent of every other flip.\n",
    "\n",
    "Find the probability of getting exactly 2 heads and 2 tails. Round your answer to four decimal places.\n",
    "\n",
    "<details>\n",
    "   <summary>Answer</summary>\n",
    "   0.3456\n",
    "\n",
    "Probability of that outcome\n",
    "\n",
    "$$0.6 \\times 0.6 \\times 0.4 \\times 0.4 = 0.0576$$\n",
    "\n",
    "then multiply that by the number of ways to arrange that result\n",
    "\n",
    "$$\\binom {4}{2} = 6$$\n",
    "\n",
    "$$((0.6)^2 \\times (0.4)^2) \\times \\binom{4}{2} \\approx 0.3456$$\n",
    "\n",
    "or\n",
    "\n",
    "```r\n",
    "round(((0.6 * 0.6 * 0.4 * 0.4) * 6),4)\n",
    "```"
   ]
  },
  {
   "cell_type": "code",
   "execution_count": null,
   "metadata": {
    "vscode": {
     "languageId": "r"
    }
   },
   "outputs": [],
   "source": []
  },
  {
   "cell_type": "markdown",
   "metadata": {},
   "source": [
    "\n",
    "### Question 7:\n",
    "An unfair coin is flipped four times. The probability of heads is $0.6$ and the probability of tails is $0.4$. Every flip is independent of every other flip.\n",
    "\n",
    "Find the probability of getting exactly 2 heads and 2 tails given that the first coin flip was a head. Round your answer to three decimal places.\n",
    "\n",
    "<details>\n",
    "   <summary>Answer</summary>\n",
    "   0.288\n",
    "\n",
    "The same as the previous with different numbers\n",
    "\n",
    "Probability of that outcome\n",
    "\n",
    "$$0.6 \\times 0.4 \\times 0.4$$\n",
    "\n",
    "then multiply that by the number of ways to arrange that result\n",
    "\n",
    "$$\\binom {3}{2} = 3$$\n",
    "\n",
    "$$((0.6) \\times (0.4)^2) \\times \\binom{3}{2} \\approx 0.288$$\n",
    "\n",
    "or\n",
    "\n",
    "```r\n",
    "p <- 0.6 * 0.4 * 0.4\n",
    "arrange <- choose(3,2)\n",
    "total <- p * arrange\n",
    "\n",
    "p\n",
    "arrange\n",
    "total\n",
    "```"
   ]
  },
  {
   "cell_type": "markdown",
   "metadata": {},
   "source": [
    "\n",
    "### Question 8:\n",
    "$70\\%$ of the light aircraft that disappear while in flight in a certain country are subsequently found. Of the aircraft that are found, $60\\%$ have an emergency locator, whereas only $10\\%$ of the aircraft not found have such a locator. Suppose a light aircraft has disappeared.\n",
    "\n",
    "If the aircraft has an emergency locator, what is the probability that it will not be found? Round your answer to three decimal places.\n",
    "\n",
    "<details>\n",
    "   <summary>Answer</summary>\n",
    "   0.067"
   ]
  },
  {
   "cell_type": "code",
   "execution_count": 17,
   "metadata": {
    "vscode": {
     "languageId": "r"
    }
   },
   "outputs": [
    {
     "data": {
      "text/html": [
       "0.067"
      ],
      "text/latex": [
       "0.067"
      ],
      "text/markdown": [
       "0.067"
      ],
      "text/plain": [
       "[1] 0.067"
      ]
     },
     "metadata": {},
     "output_type": "display_data"
    }
   ],
   "source": [
    "p_found_locator <- (0.60 * 0.70) / ((0.60 * 0.70) + (0.10 * 0.30))\n",
    "\n",
    "p_not_found_loc <- 1 - p_found_locator\n",
    "round(p_not_found_loc,3)"
   ]
  },
  {
   "cell_type": "markdown",
   "metadata": {},
   "source": [
    "\n",
    "### Question 9:\n",
    "$70\\%$ of the light aircraft that disappear while in flight in a certain country are subsequently found. Of the aircraft that are found, $60\\%$ have an emergency locator, whereas only $10\\%$ of the aircraft not found have such a locator. Suppose a light aircraft has disappeared.\n",
    "\n",
    "Are the two events $L = $ the plane has a locator and $F = $ the plane is found independent? (Answer Yes or No.)\n",
    "\n",
    "<details>\n",
    "   <summary>Answer</summary>\n",
    "   No"
   ]
  },
  {
   "cell_type": "markdown",
   "metadata": {},
   "source": [
    "# Week 3"
   ]
  },
  {
   "cell_type": "markdown",
   "metadata": {},
   "source": [
    "## Module 3 Quiz"
   ]
  },
  {
   "cell_type": "markdown",
   "metadata": {},
   "source": [
    "### Question 1:\n",
    "A critical system has 5 different components, each of which works with probability 0.90. Assume each component works independently of the others. Let $X$ be the number of components that are working.\n",
    "\n",
    "Find $P(X=2)$. Round your answer to four decimal places.\n",
    "\n",
    "<details>\n",
    "  <summary>Answer</summary>\n",
    "  0.0081\n",
    "</details>\n",
    "\n",
    "---\n"
   ]
  },
  {
   "cell_type": "code",
   "execution_count": 33,
   "metadata": {
    "vscode": {
     "languageId": "r"
    }
   },
   "outputs": [
    {
     "data": {
      "text/html": [
       "0.0081"
      ],
      "text/latex": [
       "0.0081"
      ],
      "text/markdown": [
       "0.0081"
      ],
      "text/plain": [
       "[1] 0.0081"
      ]
     },
     "metadata": {},
     "output_type": "display_data"
    },
    {
     "data": {
      "text/html": [
       "0.0081"
      ],
      "text/latex": [
       "0.0081"
      ],
      "text/markdown": [
       "0.0081"
      ],
      "text/plain": [
       "[1] 0.0081"
      ]
     },
     "metadata": {},
     "output_type": "display_data"
    }
   ],
   "source": [
    "round(dbinom(2, 5, 0.90),4)\n",
    "\n",
    "choose(5,2) * 0.90^2 * ((1-0.90)^(5-2))"
   ]
  },
  {
   "cell_type": "markdown",
   "metadata": {},
   "source": [
    "\n",
    "### Question 2:\n",
    "A critical system has 5 different components, each of which works with probability 0.90. Assume each component works independently of the others. Let $X$ be the number of components that are working.\n",
    "\n",
    "Find $E(X)$.\n",
    "\n",
    "<details>\n",
    "  <summary>Answer</summary>\n",
    "  4.5\n",
    "</details>\n",
    "\n",
    "---\n"
   ]
  },
  {
   "cell_type": "markdown",
   "metadata": {},
   "source": [
    "\n",
    "### Question 3:\n",
    "A critical system has 5 different components, each of which works with probability 0.90. Assume each component works independently of the others. Let $X$ be the number of components that are working.\n",
    "\n",
    "Find $V(X)$. Round your answer to two decimal places.\n",
    "\n",
    "<details>\n",
    "  <summary>Answer</summary>\n",
    "  0.45\n",
    "</details>\n",
    "\n",
    "---\n"
   ]
  },
  {
   "cell_type": "markdown",
   "metadata": {},
   "source": [
    "\n",
    "### Question 4:\n",
    "A certain type of item produced by a factory has a 6% chance of being defective. Draw a random sample until you get the first defective. Let $X$ be the number of items that are drawn.\n",
    "\n",
    "Find $P(X=2)$. Round your answer to four decimal places.\n",
    "\n",
    "<details>\n",
    "  <summary>Answer</summary>\n",
    "  0.0564\n",
    "</details>\n",
    "\n",
    "---\n"
   ]
  },
  {
   "cell_type": "markdown",
   "metadata": {},
   "source": [
    "\n",
    "### Question 5:\n",
    "A certain type of item produced by a factory has a 6% chance of being defective. Draw a random sample until you get the first defective. Let $X$ be the number of items that are drawn.\n",
    "\n",
    "Find $E(X)$. Round your answer to two decimal places.\n",
    "\n",
    "<details>\n",
    "  <summary>Answer</summary>\n",
    "  16.67\n",
    "</details>\n",
    "\n",
    "---\n"
   ]
  },
  {
   "cell_type": "markdown",
   "metadata": {},
   "source": [
    "\n",
    "### Question 6:\n",
    "A certain type of item produced by a factory has a 6% chance of being defective. Draw a random sample until you get the first defective. Let $X$ be the number of items that are drawn.\n",
    "\n",
    "Find $V(X)$. Round your answer to two decimal places.\n",
    "\n",
    "<details>\n",
    "  <summary>Answer</summary>\n",
    "  261.11\n",
    "</details>\n",
    "\n",
    "---\n"
   ]
  },
  {
   "cell_type": "markdown",
   "metadata": {},
   "source": [
    "\n",
    "### Question 7:\n",
    "A certain system can experience three different types of defects. Let $A_i$, $i = 1, 2, 3$ be the event that the system has a defect of type $i$. Suppose that:\n",
    "- $P(A_1) = 0.17$\n",
    "- $P(A_2) = 0.07$\n",
    "- $P(A_3) = 0.13$\n",
    "- $P(A_1 \\cup A_2) = 0.18$\n",
    "- $P(A_2 \\cup A_3) = 0.18$\n",
    "- $P(A_1 \\cup A_3) = 0.19$\n",
    "- $P(A_1 \\cap A_2 \\cap A_3) = 0.01$\n",
    "\n",
    "Let the random variable $X$ be the number of defects that are present.\n",
    "\n",
    "Calculate $P(X=0)$.\n",
    "\n",
    "<details>\n",
    "  <summary>Answer</summary>\n",
    "  0.81\n",
    "</details>\n",
    "\n",
    "---\n"
   ]
  },
  {
   "cell_type": "markdown",
   "metadata": {},
   "source": [
    "\n",
    "### Question 8:\n",
    "A certain system can experience three different types of defects. Let $A_i$, $i = 1, 2, 3$ be the event that the system has a defect of type $i$. Given the same information as Question 7, calculate $P(X=1)$.\n",
    "\n",
    "<details>\n",
    "  <summary>Answer</summary>\n",
    "  0.02\n",
    "</details>\n",
    "\n",
    "---\n"
   ]
  },
  {
   "cell_type": "markdown",
   "metadata": {},
   "source": [
    "\n",
    "### Question 9:\n",
    "A certain system can experience three different types of defects. Let $A_i$, $i = 1, 2, 3$ be the event that the system has a defect of type $i$. Given the same information as Question 7, calculate $P(X=2)$.\n",
    "\n",
    "<details>\n",
    "  <summary>Answer</summary>\n",
    "  0.16\n",
    "</details>\n",
    "\n",
    "---\n"
   ]
  },
  {
   "cell_type": "code",
   "execution_count": null,
   "metadata": {
    "vscode": {
     "languageId": "r"
    }
   },
   "outputs": [],
   "source": []
  },
  {
   "cell_type": "markdown",
   "metadata": {},
   "source": [
    "\n",
    "### Question 10:\n",
    "A certain system can experience three different types of defects. Let $A_i$, $i = 1, 2, 3$ be the event that the system has a defect of type $i$. Given the same information as Question 7, calculate $P(X=3)$.\n",
    "\n",
    "<details>\n",
    "  <summary>Answer</summary>\n",
    "  0.01\n",
    "</details>\n",
    "\n",
    "---\n"
   ]
  },
  {
   "cell_type": "markdown",
   "metadata": {},
   "source": [
    "\n",
    "### Question 11:\n",
    "A certain system can experience three different types of defects. Let $A_i$, $i = 1, 2, 3$ be the event that the system has a defect of type $i$. Given the same information as Question 7, find $E(X)$.\n",
    "\n",
    "<details>\n",
    "  <summary>Answer</summary>\n",
    "  0.37\n",
    "</details>\n",
    "\n",
    "---\n"
   ]
  },
  {
   "cell_type": "markdown",
   "metadata": {},
   "source": [
    "\n",
    "### Question 12:\n",
    "A certain system can experience three different types of defects. Let $A_i$, $i = 1, 2, 3$ be the event that the system has a defect of type $i$. Given the same information as Question 7, find $V(X)$. Round your answer to four decimal places.\n",
    "\n",
    "<details>\n",
    "  <summary>Answer</summary>\n",
    "  0.6131\n",
    "</details>\n",
    "\n",
    "---\n"
   ]
  },
  {
   "cell_type": "markdown",
   "metadata": {},
   "source": [
    "\n",
    "### Question 13:\n",
    "A certain system can experience three different types of defects. Let $A_i$, $i = 1, 2, 3$ be the event that the system has a defect of type $i$. Given the same information as Question 7, find $\\sigma$, the standard deviation of $X$. Round your answer to three decimal places.\n",
    "\n",
    "<details>\n",
    "  <summary>Answer</summary>\n",
    "  0.783\n",
    "</details>"
   ]
  },
  {
   "cell_type": "markdown",
   "metadata": {},
   "source": [
    "# Week 4"
   ]
  },
  {
   "cell_type": "markdown",
   "metadata": {},
   "source": [
    "## Module 4 Quiz"
   ]
  },
  {
   "cell_type": "markdown",
   "metadata": {},
   "source": [
    "### Question 1:\n",
    "A skilled worker requires at least 10 minutes, and no more than 20 minutes, to complete a certain task. The completion time $X$ is a continuous random variable with density function:\n",
    "\n",
    "$$\n",
    "f(x) = \\frac{c}{x^2} \\text{ for } 10 \\leq x \\leq 20\n",
    "$$\n",
    "and\n",
    "$$\n",
    "f(x) = 0 \\text{ for all other values of } x.\n",
    "$$\n",
    "\n",
    "What is the value of $c$?\n",
    "\n",
    "<details>\n",
    "  <summary>Answer</summary>\n",
    "  20\n",
    "</details>\n",
    "\n",
    "---\n"
   ]
  },
  {
   "cell_type": "markdown",
   "metadata": {},
   "source": [
    "\n",
    "### Question 2:\n",
    "A skilled worker requires at least 10 minutes, and no more than 20 minutes, to complete a certain task. The completion time $X$ is a continuous random variable with density function:\n",
    "\n",
    "$\n",
    "f(x) = \\frac{c}{x^2} \\text{ for } 10 \\leq x \\leq 20\n",
    "$\n",
    "and\n",
    "$\n",
    "f(x) = 0 \\text{ for all other values of } x.\n",
    "$\n",
    "\n",
    "Find the probability that the worker completes the task in 15 minutes or less. Round your answer to three decimal places.\n",
    "\n",
    "<details>\n",
    "  <summary>Answer</summary>\n",
    "  0.667\n",
    "</details>\n",
    "\n",
    "---\n"
   ]
  },
  {
   "cell_type": "markdown",
   "metadata": {},
   "source": [
    "\n",
    "### Question 3:\n",
    "A skilled worker requires at least 10 minutes, and no more than 20 minutes, to complete a certain task. The completion time $X$ is a continuous random variable with density function:\n",
    "\n",
    "$\n",
    "f(x) = \\frac{c}{x^2} \\text{ for } 10 \\leq x \\leq 20\n",
    "$\n",
    "and\n",
    "$\n",
    "f(x) = 0 \\text{ for all other values of } x.\n",
    "$\n",
    "\n",
    "Find the expected time for the worker to complete the task. Round your answer to three decimal places.\n",
    "\n",
    "<details>\n",
    "  <summary>Answer</summary>\n",
    "  13.863\n",
    "</details>\n",
    "\n",
    "---\n"
   ]
  },
  {
   "cell_type": "markdown",
   "metadata": {},
   "source": [
    "\n",
    "### Question 4:\n",
    "The number of eggs laid on a tree leaf by an insect of a certain type is a Poisson random variable, $X$, with parameter $c$, where $E(X) = c$. However, such a random variable can only be observed if it is positive, since if it is 0, then we cannot know that such an insect was on the leaf. If we let $Y$ denote the observed number of eggs, then:\n",
    "\n",
    "$\n",
    "P(Y = i) = P(X = i \\mid X > 0)\n",
    "$\n",
    "\n",
    "where $X$ is Poisson with parameter $c$.\n",
    "\n",
    "Find $E(Y)$.\n",
    "\n",
    "(Note 1: your answer will be a mathematical expression with $c$. When you type in your answer, the preview box will display what the mathematical expression looks like.)\n",
    "\n",
    "<details>\n",
    "  <summary>Answer</summary>\n",
    "\n",
    "$\\frac{c}{1 - e^{-c}}$\n",
    "\n",
    "\n",
    "</details>\n",
    "\n",
    "---\n"
   ]
  },
  {
   "cell_type": "markdown",
   "metadata": {},
   "source": [
    "\n",
    "### Question 5:\n",
    "Suppose $X$ is a random variable $X \\sim N(12, 4)$.\n",
    "\n",
    "Find the probability that $X$ is within 1.5 standard deviations of the mean. Round your answer to four decimal places.\n",
    "\n",
    "$\n",
    "P(9 \\leq X \\leq 15) = P(-1.5 \\leq Z \\leq 1.5) = \\Phi(1.5) - \\Phi(-1.5) \\approx 0.9332 - 0.0668 = 0.8664\n",
    "$\n",
    "\n",
    "<details>\n",
    "  <summary>Answer</summary>\n",
    "  0.8664\n",
    "</details>\n",
    "\n",
    "---\n"
   ]
  },
  {
   "cell_type": "markdown",
   "metadata": {},
   "source": [
    "\n",
    "### Question 6:\n",
    "Suppose $X$ is a random variable $X \\sim N(12, 4)$.\n",
    "\n",
    "Find $k$ such that $P(X > k) = 0.10$. Round your answer to two decimal places.\n",
    "\n",
    "<details>\n",
    "  <summary>Answer</summary>\n",
    "  14.56\n",
    "</details>"
   ]
  },
  {
   "cell_type": "markdown",
   "metadata": {},
   "source": [
    "# Week 5"
   ]
  },
  {
   "cell_type": "markdown",
   "metadata": {},
   "source": [
    "## Module 5 Quiz"
   ]
  },
  {
   "cell_type": "markdown",
   "metadata": {},
   "source": [
    "### Question 1:\n",
    "A store orders 10 units of a certain item. For each unit sold, it makes $10. For each item that remains unsold, it loses $5. Let $X$ be the number of items sold in a week. If the store knows that $X$ is a discrete uniform random variable, with $X$ taking values $\\{0,1,\\dots,10\\}$, find the expected profit.\n",
    "\n",
    "<details>\n",
    "  <summary>Answer</summary>\n",
    "  25\n",
    "</details>\n",
    "\n",
    "---\n"
   ]
  },
  {
   "cell_type": "markdown",
   "metadata": {},
   "source": [
    "\n",
    "### Question 2:\n",
    "Suppose that the service time at a call center is exponentially distributed with the average call lasting 10 minutes. If 3 workers are each on a call, what is the probability that they have each completed their service in 12 minutes? Assume that the length of each call is independent of every other call. Round your answer to four decimal places.\n",
    "\n",
    "<details>\n",
    "  <summary>Answer</summary>\n",
    "  0.3412\n",
    "</details>\n",
    "\n",
    "---\n"
   ]
  },
  {
   "cell_type": "markdown",
   "metadata": {},
   "source": [
    "\n",
    "### Question 3:\n",
    "Suppose that $X$ and $Y$ are random variables with the joint probability mass function given by the table below.\n",
    "\n",
    "|-| $y=1$ | $y=4$ | $y=16$ |\n",
    "|---|-------|-------|--------|\n",
    "| $x=1$ | 0.20  | 0.25  | 0.05   |\n",
    "| $x=5$ | 0.10  | 0.15  | 0.25   |\n",
    "\n",
    "Find $P(X = 1)$.\n",
    "\n",
    "<details>\n",
    "  <summary>Answer</summary>\n",
    "  0.5\n",
    "</details>\n",
    "\n",
    "---\n"
   ]
  },
  {
   "cell_type": "markdown",
   "metadata": {},
   "source": [
    "\n",
    "### Question 4:\n",
    "Suppose that $X$ and $Y$ are random variables with the joint probability mass function given by the table below.\n",
    "\n",
    "|---| $y=1$ | $y=4$ | $y=16$ |\n",
    "|---|-------|-------|--------|\n",
    "| $x=1$ | 0.20  | 0.25  | 0.05 |\n",
    "| $x=5$ | 0.10  | 0.15  | 0.25 |\n",
    "\n",
    "Find $P(X > Y)$.\n",
    "\n",
    "\n",
    "<details>\n",
    "  <summary>Answer</summary>\n",
    "  0.25\n",
    "</details>\n",
    "\n",
    "---\n"
   ]
  },
  {
   "cell_type": "markdown",
   "metadata": {},
   "source": [
    "\n",
    "### Question 5:\n",
    "Suppose that $X$ and $Y$ are random variables with the joint probability mass function given by the table below.\n",
    "\n",
    "| - | $y=1$ | $y=4$ | $y=16$ |\n",
    "|---|-------|-------|--------|\n",
    "| $x=1$ | 0.20  | 0.25  | 0.05   |\n",
    "| $x=5$ | 0.10  | 0.15  | 0.25   |\n",
    "\n",
    "Determine $Cov(X, Y)$.\n",
    "\n",
    "<details>\n",
    "  <summary>Answer</summary>\n",
    "  5.4\n",
    "</details>\n",
    "\n",
    "---\n"
   ]
  },
  {
   "cell_type": "markdown",
   "metadata": {},
   "source": [
    "\n",
    "### Question 6:\n",
    "Suppose that $X$ and $Y$ are random variables with the joint probability mass function given by the table below.\n",
    "\n",
    "| - | $y=1$ | $y=4$ | $y=16$ |\n",
    "|---|-------|-------|--------|\n",
    "| $x=1$ | 0.20  | 0.25  | 0.05   |\n",
    "| $x=5$ | 0.10  | 0.15  | 0.25   |\n",
    "\n",
    "Find $\\rho$, the correlation coefficient of $X$ and $Y$. Round your answer to four decimal places.\n",
    "\n",
    "<details>\n",
    "  <summary>Answer</summary>\n",
    "  0.4345\n",
    "</details>\n",
    "\n",
    "---\n"
   ]
  },
  {
   "cell_type": "markdown",
   "metadata": {},
   "source": [
    "\n",
    "### Question 7:\n",
    "Suppose that $X$ and $Y$ are random variables with the joint probability mass function given by the table below.\n",
    "\n",
    "| - | $y=1$ | $y=4$ | $y=16$ |\n",
    "|---|-------|-------|--------|\n",
    "| $x=1$ | 0.20  | 0.25  | 0.05   |\n",
    "| $x=5$ | 0.10  | 0.15  | 0.25   |\n",
    "\n",
    "Are $X$ and $Y$ independent? (Answer \"Yes\", \"No\", or \"Can't determine\")\n",
    "\n",
    "<details>\n",
    "  <summary>Answer</summary>\n",
    "  No\n",
    "</details>"
   ]
  },
  {
   "cell_type": "markdown",
   "metadata": {},
   "source": [
    "# Week 6"
   ]
  },
  {
   "cell_type": "markdown",
   "metadata": {},
   "source": [
    "## Module 6 Quiz"
   ]
  },
  {
   "cell_type": "markdown",
   "metadata": {},
   "source": [
    "### Question 1:\n",
    "Suppose 30 numbers are selected at random from the interval $[0, 1]$. That is, $X_i \\sim U[0, 1]$ for $i = 1, 2, \\dots, 30$. Given\n",
    "\n",
    "$$\n",
    "\\overline{X} = \\frac{1}{30} \\sum_{i=1}^{30} X_i\n",
    "$$\n",
    "\n",
    "estimate $P(0.5 \\leq \\overline{X} \\leq 0.6)$. Round your answer to three decimal places.\n",
    "\n",
    "<details>\n",
    "  <summary>Answer</summary>\n",
    "  0.471\n",
    "</details>\n",
    "\n",
    "---\n"
   ]
  },
  {
   "cell_type": "code",
   "execution_count": 1,
   "metadata": {
    "vscode": {
     "languageId": "r"
    }
   },
   "outputs": [
    {
     "data": {
      "text/html": [
       "0.6"
      ],
      "text/latex": [
       "0.6"
      ],
      "text/markdown": [
       "0.6"
      ],
      "text/plain": [
       "[1] 0.6"
      ]
     },
     "metadata": {},
     "output_type": "display_data"
    }
   ],
   "source": [
    "punif(0.6)\n"
   ]
  },
  {
   "cell_type": "markdown",
   "metadata": {},
   "source": [
    "\n",
    "### Question 2:\n",
    "A company wants to compare the efficiency of two types of fuel for a car. 5 identical cars will be driven 500 kilometers each, two with the first type of fuel and three with the second type. Let $X_1$ and $X_2$ be the observed fuel efficiency for the first type and $Y_1$, $Y_2$, and $Y_3$ be the efficiency for the second type. Suppose these variables are independent and:\n",
    "\n",
    "- $X_i \\sim N(20, 4)$ for $i = 1, 2$\n",
    "- $Y_j \\sim N(18, 9)$ for $j = 1, 2, 3$\n",
    "\n",
    "Define a new random variable:\n",
    "\n",
    "$$\n",
    "W = \\frac{X_1 + X_2}{2} - \\frac{Y_1 + Y_2 + Y_3}{3}\n",
    "$$\n",
    "\n",
    "Find $E(W)$.\n",
    "\n",
    "<details>\n",
    "  <summary>Answer</summary>\n",
    "  2\n",
    "</details>\n",
    "\n",
    "---\n"
   ]
  },
  {
   "cell_type": "markdown",
   "metadata": {},
   "source": [
    "\n",
    "### Question 3:\n",
    "A company wants to compare the efficiency of two types of fuel for a car. 5 identical cars will be driven 500 kilometers each, two with the first type of fuel and three with the second type. Let $X_1$ and $X_2$ be the observed fuel efficiency for the first type and $Y_1$, $Y_2$, and $Y_3$ be the efficiency for the second type. Suppose these variables are independent and:\n",
    "\n",
    "- $X_i \\sim N(20, 4)$ for $i = 1, 2$\n",
    "- $Y_j \\sim N(18, 9)$ for $j = 1, 2, 3$\n",
    "\n",
    "Define a new random variable:\n",
    "\n",
    "$$\n",
    "W = \\frac{X_1 + X_2}{2} - \\frac{Y_1 + Y_2 + Y_3}{3}\n",
    "$$\n",
    "\n",
    "Find $Var(W)$.\n",
    "\n",
    "<details>\n",
    "  <summary>Answer</summary>\n",
    "  5\n",
    "</details>\n",
    "\n",
    "---\n"
   ]
  },
  {
   "cell_type": "markdown",
   "metadata": {},
   "source": [
    "\n",
    "### Question 4:\n",
    "A company wants to compare the efficiency of two types of fuel for a car. 5 identical cars will be driven 500 kilometers each, two with the first type of fuel and three with the second type. Let $X_1$ and $X_2$ be the observed fuel efficiency for the first type and $Y_1$, $Y_2$, and $Y_3$ be the efficiency for the second type. Suppose these variables are independent and:\n",
    "\n",
    "- $X_i \\sim N(20, 4)$ for $i = 1, 2$\n",
    "- $Y_j \\sim N(18, 9)$ for $j = 1, 2, 3$\n",
    "\n",
    "Define a new random variable:\n",
    "\n",
    "$$\n",
    "W = \\frac{X_1 + X_2}{2} - \\frac{Y_1 + Y_2 + Y_3}{3}\n",
    "$$\n",
    "\n",
    "Find $P(W \\geq 0)$. Round your answer to four decimal places.\n",
    "\n",
    "<details>\n",
    "  <summary>Answer</summary>\n",
    "  0.8145\n",
    "</details>"
   ]
  }
 ],
 "metadata": {
  "kernelspec": {
   "display_name": "R",
   "language": "R",
   "name": "ir"
  },
  "language_info": {
   "codemirror_mode": "r",
   "file_extension": ".r",
   "mimetype": "text/x-r-source",
   "name": "R",
   "pygments_lexer": "r",
   "version": "4.4.1"
  }
 },
 "nbformat": 4,
 "nbformat_minor": 2
}
