{
 "cells": [
  {
   "cell_type": "raw",
   "metadata": {
    "vscode": {
     "languageId": "raw"
    }
   },
   "source": [
    "---\n",
    "title: \"Course 1 prep\"\n",
    "author: CS\n",
    "format: html\n",
    "---"
   ]
  },
  {
   "cell_type": "markdown",
   "metadata": {},
   "source": [
    "# Week 1"
   ]
  },
  {
   "cell_type": "markdown",
   "metadata": {},
   "source": [
    "## Module 1 Quiz"
   ]
  },
  {
   "cell_type": "markdown",
   "metadata": {},
   "source": [
    "### Problem 1:\n",
    "For each of the following scenarios, find the requested probability. Assume the sets $A$, $B$, and $C$ are events from the same sample space $S$. (Hint: Venn diagrams may help with the visualization, although they are not required to answer the questions.)\n",
    "\n",
    "Given the following probabilities:\n",
    "- $P(A) = 0.4$\n",
    "- $P(B^c) = 0.7$\n",
    "- $P(A \\cap B^c) = 0.2$\n",
    "\n",
    "Find $P(A \\cap B)$.\n",
    "\n",
    "<details>\n",
    "<summary>Answer</summary>\n",
    "0.2\n",
    "\n",
    "The entire A circle is 0.4, the entire A circle minus the overlapping section is 0.2, meaning the leftover A section is 0.2\n",
    "\n",
    "$P(A) - P(A \\cap B^c) = P(A \\cap B) = 0.4 - 0.2 = 0.2$"
   ]
  },
  {
   "cell_type": "code",
   "execution_count": null,
   "metadata": {
    "vscode": {
     "languageId": "r"
    }
   },
   "outputs": [],
   "source": []
  },
  {
   "cell_type": "markdown",
   "metadata": {},
   "source": [
    "### Problem 2: \n",
    "For each of the following scenarios, find the requested probability. Assume the sets $A$, $B$, and $C$ are events from the same sample space $S$. (Hint: Venn diagrams may help with the visualization, although they are not required to answer the questions.)\n",
    "\n",
    "Given the following probabilities:\n",
    "- $P(A) = 0.9$\n",
    "- $P(B) = 0.9$\n",
    "\n",
    "What is the lower bound for $P(A \\cup B)$?\n",
    "\n",
    "<details>\n",
    "  <summary>Answer</summary>\n",
    "  0.9\n",
    "\n",
    "This is just the likelihood of either complete circle, so the lower bound will always be the lowest individual probability when phrased this way."
   ]
  },
  {
   "cell_type": "markdown",
   "metadata": {},
   "source": [
    "### Problem 3:\n",
    "Three popular options on a certain type of car are $A$ (leather seats), $B$ (a sunroof), and $C$ (heated seats). In the past:\n",
    "\n",
    "- $P(A) = 0.55$ (i.e., 55% of the customers have requested option A),\n",
    "- $P(B) = 0.45$,\n",
    "- $P(C) = 0.4$.\n",
    "\n",
    "Furthermore:\n",
    "- $P(A \\cap B) = 0.25$,\n",
    "- $P(A \\cap C) = 0.2$,\n",
    "- $P(B \\cap C) = 0.15$, \n",
    "- $P(A \\cap B \\cap C) = 0.1$.\n",
    "\n",
    "Find the probability that a customer will ask for **at least one** of the three options.\n",
    "\n",
    "<details>\n",
    "  <summary>Answer</summary>\n",
    "  0.9\n",
    "\n",
    "This is the total of each individual circle, minus each overlapping section of two circles, and then re-adding in the center overlap of all three because it is getting subtracted out 3 times when it only needs to be subtracted out twice.\n",
    "\n",
    "$P(at least one) = P(A) + P(B) + P(C) - P(A \\cap B) - (A \\cap C) - (B \\cap C) + P(A \\cap B \\cap C)$\n",
    "\n",
    "$0.55 + 0.45 + 0.4 - 0.25 - 0.20 - 0.15 + 0.1$ "
   ]
  },
  {
   "cell_type": "code",
   "execution_count": 1,
   "metadata": {
    "vscode": {
     "languageId": "r"
    }
   },
   "outputs": [
    {
     "data": {
      "text/html": [
       "0.9"
      ],
      "text/latex": [
       "0.9"
      ],
      "text/markdown": [
       "0.9"
      ],
      "text/plain": [
       "[1] 0.9"
      ]
     },
     "metadata": {},
     "output_type": "display_data"
    }
   ],
   "source": [
    "a <- 0.55\n",
    "b <- 0.45\n",
    "c <- 0.4\n",
    "\n",
    "a_and_b <- 0.25\n",
    "a_and_c <- 0.20\n",
    "b_and_c <- 0.15\n",
    "a_and_b_and_c <- 0.1\n",
    "\n",
    "a_or_b <- a + b - a_and_b\n",
    "a_or_c <- a + c - a_and_c\n",
    "b_or_c <- b + c - b_and_c\n",
    "\n",
    "at_least_one <- a + b + c - a_and_b - a_and_c - b_and_c + a_and_b_and_c\n",
    "at_least_one"
   ]
  },
  {
   "cell_type": "markdown",
   "metadata": {},
   "source": [
    "### Problem 4:\n",
    "Three popular options on a certain type of car are $A$ (leather seats), $B$ (a sunroof), and $C$ (heated seats). In the past:\n",
    "\n",
    "- $P(A) = 0.55$ (i.e., 55% of the customers have requested option A),\n",
    "- $P(B) = 0.45$,\n",
    "- $P(C) = 0.4$.\n",
    "\n",
    "Furthermore:\n",
    "- $P(A \\cap B) = 0.25$,\n",
    "- $P(A \\cap C) = 0.2$,\n",
    "- $P(B \\cap C) = 0.15$, \n",
    "- $P(A \\cap B \\cap C) = 0.1$.\n",
    "\n",
    "Find the probability that a customer will **not** ask for any of these three options.\n",
    "\n",
    "<details>\n",
    "  <summary>Answer</summary>\n",
    "  0.1\n",
    "\n",
    "This is just the complement of the above answer (the alternative to asking for at least one of something is to ask for nothing.)"
   ]
  },
  {
   "cell_type": "code",
   "execution_count": 2,
   "metadata": {
    "vscode": {
     "languageId": "r"
    }
   },
   "outputs": [
    {
     "data": {
      "text/html": [
       "0.1"
      ],
      "text/latex": [
       "0.1"
      ],
      "text/markdown": [
       "0.1"
      ],
      "text/plain": [
       "[1] 0.1"
      ]
     },
     "metadata": {},
     "output_type": "display_data"
    }
   ],
   "source": [
    "none <- 1 - at_least_one\n",
    "none"
   ]
  },
  {
   "cell_type": "markdown",
   "metadata": {},
   "source": [
    "### Problem 5:\n",
    "Three popular options on a certain type of car are $A$ (leather seats), $B$ (a sunroof), and $C$ (heated seats). In the past:\n",
    "\n",
    "- $P(A) = 0.55$ (i.e., 55% of the customers have requested option A),\n",
    "- $P(B) = 0.45$,\n",
    "- $P(C) = 0.4$.\n",
    "\n",
    "Furthermore:\n",
    "- $P(A \\cap B) = 0.25$,\n",
    "- $P(A \\cap C) = 0.2$,\n",
    "- $P(B \\cap C) = 0.15$,\n",
    "- $P(A \\cap B \\cap C) = 0.1$.\n",
    "\n",
    "Find the probability that a customer will ask for **heated leather seats** but **not** a sunroof.\n",
    "\n",
    "<details>\n",
    "  <summary>Answer</summary>\n",
    "  0.1\n",
    "\n",
    "Heated Leather seats is $P(A \\cap C) = 0.2$ and inluding a sunroof is $P(A \\cap B \\cap C) = 0.1$ so removing the sunroof probability is \n",
    "\n",
    "$P(A \\cap B) - P(A \\cap B \\cap C) = 0.2 - 0.1 = 0.1$"
   ]
  },
  {
   "cell_type": "markdown",
   "metadata": {},
   "source": [
    "### Problem 6:\n",
    "Three popular options on a certain type of car are $A$ (leather seats), $B$ (a sunroof), and $C$ (heated seats). In the past:\n",
    "\n",
    "- $P(A) = 0.55$ (i.e., 55% of the customers have requested option A),\n",
    "- $P(B) = 0.45$,\n",
    "- $P(C) = 0.4$.\n",
    "\n",
    "Furthermore:\n",
    "- $P(A \\cap B) = 0.25$,\n",
    "- $P(A \\cap C) = 0.2$,\n",
    "- $P(B \\cap C) = 0.15$,\n",
    "- $P(A \\cap B \\cap C) = 0.1$.\n",
    "\n",
    "Find the probability that a customer will ask for **at most two** of the options.\n",
    "\n",
    "<details>\n",
    "  <summary>Answer</summary>\n",
    "  0.9\n",
    "\n",
    "This is the probability of everything but asking for all 3 options (don't forget that asking for none of them counts in this case, \"at most 2, inluding 0.)\n",
    "\n",
    "So it's just $1 - P(A \\cap B \\cap C) = 0.9$ "
   ]
  },
  {
   "cell_type": "markdown",
   "metadata": {},
   "source": [
    "### Problem 7:\n",
    "Three popular options on a certain type of car are $A$ (leather seats), $B$ (a sunroof), and $C$ (heated seats). In the past:\n",
    "\n",
    "- $P(A) = 0.55$ (i.e., 55% of the customers have requested option A),\n",
    "- $P(B) = 0.45$,\n",
    "- $P(C) = 0.4$.\n",
    "\n",
    "Furthermore:\n",
    "- $P(A \\cap B) = 0.25$,\n",
    "- $P(A \\cap C) = 0.2$,\n",
    "- $P(B \\cap C) = 0.15$,\n",
    "- $P(A \\cap B \\cap C) = 0.1$.\n",
    "\n",
    "Find the probability that a customer will ask for **exactly two** of the options.\n",
    "\n",
    "<details>\n",
    "  <summary>Answer</summary>\n",
    "  0.3\n",
    "\n",
    "This is just the total of all of the double overlaps minus the triple overlap, so it can be subracted from each before adding or subtracted 3 times on it's own (for each overcounting.)\n",
    "\n",
    "$P(A \\cap B) + P(A \\cap C) + P(B \\cap C) - 3 \\cdot P(A \\cap B \\cap C)$\n",
    "\n",
    "$(P(A \\cap B) - P(A \\cap B \\cap C)) + (P(A \\cap C) - P(A \\cap B \\cap C)) + (P(B \\cap C) - P(A \\cap B \\cap C))$\n",
    "\n",
    "$0.25 + 0.2 + 0.15 - (3 \\cdot 0.1) = 0.3$"
   ]
  },
  {
   "cell_type": "code",
   "execution_count": 3,
   "metadata": {
    "vscode": {
     "languageId": "r"
    }
   },
   "outputs": [
    {
     "data": {
      "text/html": [
       "0.3"
      ],
      "text/latex": [
       "0.3"
      ],
      "text/markdown": [
       "0.3"
      ],
      "text/plain": [
       "[1] 0.3"
      ]
     },
     "metadata": {},
     "output_type": "display_data"
    }
   ],
   "source": [
    "exactly_two <- a_and_b + a_and_c + b_and_c - 3 * a_and_b_and_c\n",
    "exactly_two"
   ]
  },
  {
   "cell_type": "markdown",
   "metadata": {},
   "source": [
    "### Problem 8:\n",
    "A message of length 5 digits is to be sent. Each digit can be a 0, 1, or 2.\n",
    "\n",
    "What is the cardinality of the sample space?\n",
    "\n",
    "<details>\n",
    "  <summary>Answer</summary>\n",
    "  243\n",
    "\n",
    "Just the number of possible options\n",
    "\n",
    "$3^5 = 243$"
   ]
  },
  {
   "cell_type": "markdown",
   "metadata": {},
   "source": [
    "### Problem 9:\n",
    "A message of length 5 digits is to be sent. Each digit can be a 0, 1, or 2.\n",
    "\n",
    "If every message is equally likely, what is the probability that the message consists of 2 zeros, 2 ones, and 1 two? Round your answer to four decimal places.\n",
    "\n",
    "<details>\n",
    "  <summary>Answer</summary>\n",
    "  0.1235\n",
    "\n",
    "A single two can assume 5 different positions. The number of ways that the two remaining digits can occupy four spaces is $\\binom{4}{2} = 6$ so the overall probability is \n",
    "\n",
    "$$\\frac {5 \\cdot \\binom{4}{2}}{3^5} = \\frac{30}{243} \\approx 0.1235$$"
   ]
  },
  {
   "cell_type": "markdown",
   "metadata": {},
   "source": [
    "### Problem 10:\n",
    "A message of length 5 digits is to be sent. Each digit can be a 0, 1, or 2.\n",
    "\n",
    "What is the probability that the message contains **at least one zero**? Round your answer to three decimal places.\n",
    "\n",
    "<details>\n",
    "   <summary>Answer</summary>\n",
    "0.868\n",
    "\n",
    "Direct calculation:\n",
    "All possibilities is $3^5 = 243$ and all possibilities using only ones and twos is $2^5 = 32$ so the total minus the non-zeroes options is \n",
    "\n",
    "$$\\frac {3^5 - 2^5}{3^5} = \\frac {243 - 32}{243} \\approx 0.868$$\n",
    "\n",
    "Complement approach:\n",
    "\n",
    "$P(\\text{no zeros}) = \\frac{2^5}{3^5} = \\frac{32}{243}$\n",
    "\n",
    "\n",
    "$P(\\text{at least one zero}) = 1 - P(\\text{no zeros}) = 1 - \\frac{32}{243} = \\frac{243 - 32}{243} = \\frac{211}{243}$\n",
    "\n",
    "\n"
   ]
  },
  {
   "cell_type": "code",
   "execution_count": 4,
   "metadata": {
    "vscode": {
     "languageId": "r"
    }
   },
   "outputs": [
    {
     "data": {
      "text/html": [
       "0.868312757201646"
      ],
      "text/latex": [
       "0.868312757201646"
      ],
      "text/markdown": [
       "0.868312757201646"
      ],
      "text/plain": [
       "[1] 0.8683128"
      ]
     },
     "metadata": {},
     "output_type": "display_data"
    }
   ],
   "source": [
    "all <- 3^5\n",
    "no_zero <- 2^5\n",
    "\n",
    "(all - no_zero) / all\n",
    "\n"
   ]
  },
  {
   "cell_type": "markdown",
   "metadata": {},
   "source": [
    "# Week 2"
   ]
  },
  {
   "cell_type": "markdown",
   "metadata": {},
   "source": [
    "## Module 2 Quiz"
   ]
  },
  {
   "cell_type": "markdown",
   "metadata": {},
   "source": [
    "### Question 1: STUDY\n",
    "For each of the following scenarios, answer the question with a numerical answer or a “Yes” or “No”. If you do not have enough information, write “Can’t tell”. For all situations, assume $0 < P(A) < 1$ and $0 < P(B) < 1$.\n",
    "\n",
    "If $A$ and $B$ are two events such that:\n",
    "- $P(A) = 0.7$,\n",
    "- $P(B) = 0.5$,\n",
    "- $P(B \\mid A) = 0.6$,\n",
    "\n",
    "Find $P(A \\cup B)$. If possible, round your answer to two decimal places.\n",
    "\n",
    "<details>\n",
    "   <summary>Answer</summary>\n",
    "   0.78\n",
    "\n",
    "   Requires Inclusion exclusion and intersection from conditional formulas\n",
    "\n",
    "$$P(A \\cup B) = P(A) + P(B) - P(A \\cap B)$$\n",
    "\n",
    "To determine the overall probability of all the things in $A$ and $B$ you can just add together $P(A)$ and $P(B)$, but you counted the overlapping part twice so you have to remove it once.\n",
    "\n",
    "but we have to get $P(A \\cap B)$ first.\n",
    "\n",
    "$$ P(A \\cap B) = P(B|A) \\cdot P(A)$$\n",
    "\n",
    "we get this by rearranging the conditional probability formula \n",
    "\n",
    "$$P(B|A) = \\frac{P(A \\cap B)}{P(A)}$$\n",
    "\n",
    "This give us the overlapping part of the circles. \n",
    "\n",
    "$$P(A \\cap B) = 0.6 \\cdot 0.7 = 0.42$$\n",
    "\n",
    "$$P(A \\cup B) = 0.7 + 0.5 - 0.42$$\n",
    "\n",
    "(This is just the sum of the two circles minus the overlapping part since it was counted twice.)"
   ]
  },
  {
   "cell_type": "markdown",
   "metadata": {},
   "source": [
    "\n",
    "### Question 2:\n",
    "For each of the following scenarios, answer the question with a numerical answer or a “Yes” or “No”. If you do not have enough information, write “Can’t tell”. For all situations, assume $0 < P(A) < 1$ and $0 < P(B) < 1$.\n",
    "\n",
    "If $A$ is a subset of $B$, can $A$ and $B$ be independent? (Answer Yes, No, or Can’t tell.)\n",
    "\n",
    "<details>\n",
    "   <summary>Answer</summary>\n",
    "   No"
   ]
  },
  {
   "cell_type": "markdown",
   "metadata": {},
   "source": [
    "\n",
    "### Question 3:\n",
    "For each of the following scenarios, answer the question with a numerical answer or a “Yes” or “No”. If you do not have enough information, write “Can’t tell”. For all situations, assume $0 < P(A) < 1$ and $0 < P(B) < 1$.\n",
    "\n",
    "If $A$ is a subset of $B$, calculate $P(B \\mid A)$, if you can. (If you can’t, answer Can’t tell.)\n",
    "\n",
    "<details>\n",
    "   <summary>Answer</summary>\n",
    "   1"
   ]
  },
  {
   "cell_type": "markdown",
   "metadata": {},
   "source": [
    "\n",
    "### Question 4:\n",
    "For each of the following scenarios, answer the question with a numerical answer or a “Yes” or “No”. If you do not have enough information, write “Can’t tell”. For all situations, assume $0 < P(A) < 1$ and $0 < P(B) < 1$.\n",
    "\n",
    "If $A$ is a subset of $B$, calculate $P(A \\mid B)$, if you can. (If you can’t, answer Can’t tell.)\n",
    "\n",
    "<details>\n",
    "   <summary>Answer</summary>\n",
    "   Can't tell"
   ]
  },
  {
   "cell_type": "markdown",
   "metadata": {},
   "source": [
    "\n",
    "### Question 5:\n",
    "For each of the following scenarios, answer the question with a numerical answer or a “Yes” or “No”. If you do not have enough information, write “Can’t tell”. For all situations, assume $0 < P(A) < 1$ and $0 < P(B) < 1$.\n",
    "\n",
    "If $$P(A) = 0.8$$\n",
    "$$P(B \\mid A) = 0.5$$\n",
    "and \n",
    "$A$ and $B$ are dependent (not independent), then is \n",
    "$$P(B) \\leq P(A)$$\n",
    "(Answer Yes, No, or Can’t tell.)\n",
    "\n",
    "<details>\n",
    "   <summary>Answer</summary>\n",
    "Yes\n",
    "\n",
    "If $A$ happens, then $B$ happens 50% of the time. $P(A)$ is 0.8, so that's pretty likely, so that 50% chance of B is the overwhelming outcome. If $A$ does not happen, then at most $B$ will occur 100% of that 20% of the time, which would keep the total $P(B)$ well below 80%. IOW - 50% of 80% + any % of 20% will always be less than 80% total.\n",
    "\n",
    "In fact, we can calculate the upper bound on $P(B)$\n",
    "\n",
    "$$P(B) = P(B \\mid A) \\cdot P(A) + P(B \\mid A^C) \\cdot P(A^C)$$\n",
    "\n",
    "$$P(B) = 0.5 \\cdot 0.8 + P(B \\mid A^C) \\cdot 0.2$$\n",
    "\n",
    "$$P(B) \\leq 0.4 + 0.2 \\cdot 1$$\n",
    "\n",
    "$$P(B) \\leq 0.6$$"
   ]
  },
  {
   "cell_type": "markdown",
   "metadata": {},
   "source": [
    "\n",
    "### Question 6:\n",
    "An unfair coin is flipped four times. The probability of heads is $0.6$ and the probability of tails is $0.4$. Every flip is independent of every other flip.\n",
    "\n",
    "Find the probability of getting exactly 2 heads and 2 tails. Round your answer to four decimal places.\n",
    "\n",
    "<details>\n",
    "   <summary>Answer</summary>\n",
    "   0.3456\n",
    "\n",
    "Probability of that outcome\n",
    "\n",
    "$$0.6 \\times 0.6 \\times 0.4 \\times 0.4 = 0.0576$$\n",
    "\n",
    "then multiply that by the number of ways to arrange that result\n",
    "\n",
    "$$\\binom {4}{2} = 6$$\n",
    "\n",
    "$$((0.6)^2 \\times (0.4)^2) \\times \\binom{4}{2} \\approx 0.3456$$\n",
    "\n",
    "or\n",
    "\n",
    "```r\n",
    "round(((0.6 * 0.6 * 0.4 * 0.4) * 6),4)\n",
    "```"
   ]
  },
  {
   "cell_type": "markdown",
   "metadata": {},
   "source": [
    "\n",
    "### Question 7:\n",
    "An unfair coin is flipped four times. The probability of heads is $0.6$ and the probability of tails is $0.4$. Every flip is independent of every other flip.\n",
    "\n",
    "Find the probability of getting exactly 2 heads and 2 tails given that the first coin flip was a head. Round your answer to three decimal places.\n",
    "\n",
    "<details>\n",
    "   <summary>Answer</summary>\n",
    "   0.288\n",
    "\n",
    "The same as the previous with different numbers\n",
    "\n",
    "Probability of that outcome\n",
    "\n",
    "$$0.6 \\times 0.4 \\times 0.4$$\n",
    "\n",
    "then multiply that by the number of ways to arrange that result\n",
    "\n",
    "$$\\binom {3}{2} = 3$$\n",
    "\n",
    "$$((0.6) \\times (0.4)^2) \\times \\binom{3}{2} \\approx 0.288$$\n",
    "\n",
    "or\n",
    "\n",
    "```r\n",
    "p <- 0.6 * 0.4 * 0.4\n",
    "arrange <- choose(3,2)\n",
    "total <- p * arrange\n",
    "\n",
    "p\n",
    "arrange\n",
    "total\n",
    "```"
   ]
  },
  {
   "cell_type": "code",
   "execution_count": 5,
   "metadata": {
    "vscode": {
     "languageId": "r"
    }
   },
   "outputs": [
    {
     "data": {
      "text/html": [
       "0.288"
      ],
      "text/latex": [
       "0.288"
      ],
      "text/markdown": [
       "0.288"
      ],
      "text/plain": [
       "[1] 0.288"
      ]
     },
     "metadata": {},
     "output_type": "display_data"
    }
   ],
   "source": [
    "choose(3,2) * 0.6^1 * 0.4^2"
   ]
  },
  {
   "cell_type": "markdown",
   "metadata": {},
   "source": [
    "\n",
    "### Question 8: STUDY\n",
    "$70\\%$ of the light aircraft that disappear while in flight in a certain country are subsequently found. Of the aircraft that are found, $60\\%$ have an emergency locator, whereas only $10\\%$ of the aircraft not found have such a locator. Suppose a light aircraft has disappeared.\n",
    "\n",
    "If the aircraft has an emergency locator, what is the probability that it will not be found? Round your answer to three decimal places.\n",
    "\n",
    "<details>\n",
    "   <summary>Answer</summary>\n",
    "   0.067\n",
    "\n",
    "1. Law of Total Probability to find $P(E)$ followed by \n",
    "2. Baye's Theorem to find $P(N|E)$\n",
    "\n",
    "$$P(F) = 0.7$$\n",
    "$$P(N) = 0.3$$\n",
    "$$P(E|F) = 0.6$$\n",
    "$$P(E|N) = 0.1$$\n",
    "\n",
    "Want to find\n",
    "\n",
    "$$P(N|E) = \\frac {P(E|N) \\cdot P(N)}{P(E)}$$\n",
    "\n",
    "Need to find $P(E)$ using the law of total probability\n",
    "\n",
    "$$P(E) = P(E|F) \\cdot P(F) + P(E|N) \\cdot P(N)$$\n",
    "\n",
    "$$P(E) = 0.6 \\cdot 0.7 + 0.1 \\cdot 0.3 = 0.45$$\n",
    "\n",
    "$$P(N|E) = \\frac {0.1 \\cdot 0.3}{0.45}$$\n",
    "\n",
    "or\n",
    "\n",
    "$$1 - \\frac {P(E|F) \\cdot P(F)}{P(E)} = 1 - \\frac {0.6 \\cdot 0.7}{0.45}$$"
   ]
  },
  {
   "cell_type": "code",
   "execution_count": 6,
   "metadata": {
    "vscode": {
     "languageId": "r"
    }
   },
   "outputs": [
    {
     "data": {
      "text/html": [
       "0.067"
      ],
      "text/latex": [
       "0.067"
      ],
      "text/markdown": [
       "0.067"
      ],
      "text/plain": [
       "[1] 0.067"
      ]
     },
     "metadata": {},
     "output_type": "display_data"
    }
   ],
   "source": [
    "ans <- (0.1 * 0.3) / ((0.6 * 0.7) + (0.1 * 0.3))\n",
    "round(ans, 3)"
   ]
  },
  {
   "cell_type": "markdown",
   "metadata": {},
   "source": [
    "\n",
    "### Question 9:\n",
    "$70\\%$ of the light aircraft that disappear while in flight in a certain country are subsequently found. Of the aircraft that are found, $60\\%$ have an emergency locator, whereas only $10\\%$ of the aircraft not found have such a locator. Suppose a light aircraft has disappeared.\n",
    "\n",
    "Are the two events $L = $ the plane has a locator and $F = $ the plane is found independent? (Answer Yes or No.)\n",
    "\n",
    "<details>\n",
    "   <summary>Answer</summary>\n",
    "   No"
   ]
  },
  {
   "cell_type": "markdown",
   "metadata": {},
   "source": [
    "# Week 3"
   ]
  },
  {
   "cell_type": "markdown",
   "metadata": {},
   "source": [
    "## Module 3 Quiz"
   ]
  },
  {
   "cell_type": "markdown",
   "metadata": {},
   "source": [
    "### Question 1:\n",
    "A critical system has 5 different components, each of which works with probability 0.90. Assume each component works independently of the others. Let $X$ be the number of components that are working.\n",
    "\n",
    "Find $P(X=2)$. Round your answer to four decimal places.\n",
    "\n",
    "<details>\n",
    "  <summary>Answer</summary>\n",
    "  0.0081\n",
    "\n",
    "  ```r\n",
    "  round(dbinom(2, 5, 0.90),4)\n",
    "```\n",
    "\n",
    "The probably of the number of sucesses is $p^k = 0.90^2$ the probability of the number of failures is $(1-p)^{n-k} = (1-0.90)^{5-2}$ and the ways to arrange those is ${n \\choose k}  = {5 \\choose 2}$ which give the entire pdf\n",
    "\n",
    "$$ P(X=x) = {n \\choose k}p^k (1-p)^{n - k}$$ \n",
    "\n",
    "</details>\n",
    "\n",
    "---\n"
   ]
  },
  {
   "cell_type": "markdown",
   "metadata": {},
   "source": [
    "\n",
    "### Question 2:\n",
    "A critical system has 5 different components, each of which works with probability 0.90. Assume each component works independently of the others. Let $X$ be the number of components that are working.\n",
    "\n",
    "Find $E(X)$.\n",
    "\n",
    "<details>\n",
    "  <summary>Answer</summary>\n",
    "  4.5\n",
    "\n",
    "  This one can be worked out logically. For binomial $E[X] = np$\n",
    "</details>\n",
    "\n",
    "---\n"
   ]
  },
  {
   "cell_type": "code",
   "execution_count": 7,
   "metadata": {
    "vscode": {
     "languageId": "r"
    }
   },
   "outputs": [
    {
     "data": {
      "text/html": [
       "4.5"
      ],
      "text/latex": [
       "4.5"
      ],
      "text/markdown": [
       "4.5"
      ],
      "text/plain": [
       "[1] 4.5"
      ]
     },
     "metadata": {},
     "output_type": "display_data"
    }
   ],
   "source": [
    "5*0.9"
   ]
  },
  {
   "cell_type": "markdown",
   "metadata": {},
   "source": [
    "\n",
    "### Question 3:\n",
    "A critical system has 5 different components, each of which works with probability 0.90. Assume each component works independently of the others. Let $X$ be the number of components that are working.\n",
    "\n",
    "Find $V(X)$. Round your answer to two decimal places.\n",
    "\n",
    "<details>\n",
    "  <summary>Answer</summary>\n",
    "  0.45\n",
    "\n",
    "  For Binomial $Var[X] = np(1-p)$ and will just come from the sheet.\n",
    "</details>\n",
    "\n",
    "---\n"
   ]
  },
  {
   "cell_type": "code",
   "execution_count": 8,
   "metadata": {
    "vscode": {
     "languageId": "r"
    }
   },
   "outputs": [
    {
     "data": {
      "text/html": [
       "45"
      ],
      "text/latex": [
       "45"
      ],
      "text/markdown": [
       "45"
      ],
      "text/plain": [
       "[1] 45"
      ]
     },
     "metadata": {},
     "output_type": "display_data"
    }
   ],
   "source": [
    "(5*0.9) / (1-0.9)"
   ]
  },
  {
   "cell_type": "markdown",
   "metadata": {},
   "source": [
    "\n",
    "### Question 4: STUDY\n",
    "A certain type of item produced by a factory has a 6% chance of being defective. Draw a random sample until you get the first defective. Let $X$ be the number of items that are drawn.\n",
    "\n",
    "Find $P(X=2)$. Round your answer to four decimal places.\n",
    "\n",
    "<details>\n",
    "  <summary>Answer</summary>\n",
    "  0.0564\n",
    "\n",
    "  This is the first success variation on a geometric distribution\n",
    "  $$P(X=x) = (1-p)^{x-1}p$$\n",
    "\n",
    "  $$P(X=2) = (1-0.06)^{2-1}\\times 0.06 = 0.0564$$\n",
    "\n",
    "  The only difference from the standard Geometric is subtracting 1 from the $x$ in the exponent and adding 1 to calculate $E[X]$\n",
    "\n",
    "This can be done in code if you remember to offset since the the geom() function uses the standard geometric.\n",
    "\n",
    "```r\n",
    "p <- 0.06\n",
    "x <- 2\n",
    "dgeom(x-1, 0.06)\n",
    "```\n",
    "</details>\n",
    "\n",
    "---\n"
   ]
  },
  {
   "cell_type": "code",
   "execution_count": 9,
   "metadata": {
    "vscode": {
     "languageId": "r"
    }
   },
   "outputs": [
    {
     "data": {
      "text/html": [
       "0.0564"
      ],
      "text/latex": [
       "0.0564"
      ],
      "text/markdown": [
       "0.0564"
      ],
      "text/plain": [
       "[1] 0.0564"
      ]
     },
     "metadata": {},
     "output_type": "display_data"
    }
   ],
   "source": [
    "p <- 0.06\n",
    "x <- 2\n",
    "\n",
    "(1-p)^(x-1) * p"
   ]
  },
  {
   "cell_type": "markdown",
   "metadata": {},
   "source": [
    "\n",
    "### Question 5:\n",
    "A certain type of item produced by a factory has a 6% chance of being defective. Draw a random sample until you get the first defective. Let $X$ be the number of items that are drawn.\n",
    "\n",
    "Find $E(X)$. Round your answer to two decimal places.\n",
    "\n",
    "<details>\n",
    "  <summary>Answer</summary>\n",
    "  16.67\n",
    "\n",
    "  $E[X]$ for the Geometric distribution is $\\frac {1}{p} - 1$, for the first sucess variation you just have to add one to account for the additional count of including the success $$\\frac{1}{p}$$.\n",
    "</details>\n",
    "\n",
    "---\n"
   ]
  },
  {
   "cell_type": "code",
   "execution_count": 10,
   "metadata": {
    "vscode": {
     "languageId": "r"
    }
   },
   "outputs": [
    {
     "data": {
      "text/html": [
       "16.6666666666667"
      ],
      "text/latex": [
       "16.6666666666667"
      ],
      "text/markdown": [
       "16.6666666666667"
      ],
      "text/plain": [
       "[1] 16.66667"
      ]
     },
     "metadata": {},
     "output_type": "display_data"
    }
   ],
   "source": [
    "1 / p"
   ]
  },
  {
   "cell_type": "markdown",
   "metadata": {},
   "source": [
    "\n",
    "### Question 6:\n",
    "A certain type of item produced by a factory has a 6% chance of being defective. Draw a random sample until you get the first defective. Let $X$ be the number of items that are drawn.\n",
    "\n",
    "Find $V(X)$. Round your answer to two decimal places.\n",
    "\n",
    "<details>\n",
    "  <summary>Answer</summary>\n",
    "  261.11\n",
    "\n",
    "  The variance of the first success Geometric and standard Geometric will be the same, since inluding the success just shifts the distribution, but doesn't change the spread.\n",
    "\n",
    "  $$\\frac{1-p}{p^2} = \\frac{1-0.06}{0.06^2} = 261.11$$\n",
    "</details>\n",
    "\n",
    "---\n"
   ]
  },
  {
   "cell_type": "code",
   "execution_count": 11,
   "metadata": {
    "vscode": {
     "languageId": "r"
    }
   },
   "outputs": [
    {
     "data": {
      "text/html": [
       "261.111111111111"
      ],
      "text/latex": [
       "261.111111111111"
      ],
      "text/markdown": [
       "261.111111111111"
      ],
      "text/plain": [
       "[1] 261.1111"
      ]
     },
     "metadata": {},
     "output_type": "display_data"
    }
   ],
   "source": [
    "(1 - p) / p^2"
   ]
  },
  {
   "cell_type": "markdown",
   "metadata": {},
   "source": [
    "\n",
    "### Question 7:\n",
    "A certain system can experience three different types of defects. Let $A_i$, $i = 1, 2, 3$ be the event that the system has a defect of type $i$. Suppose that:\n",
    "- $P(A_1) = 0.17$\n",
    "- $P(A_2) = 0.07$\n",
    "- $P(A_3) = 0.13$\n",
    "- $P(A_1 \\cup A_2) = 0.18$\n",
    "- $P(A_2 \\cup A_3) = 0.18$\n",
    "- $P(A_1 \\cup A_3) = 0.19$\n",
    "- $P(A_1 \\cap A_2 \\cap A_3) = 0.01$\n",
    "\n",
    "Let the random variable $X$ be the number of defects that are present.\n",
    "\n",
    "Calculate $P(X=0)$.\n",
    "\n",
    "<details>\n",
    "  <summary>Answer</summary>\n",
    "  0.81\n",
    "\n",
    "  Add together all of the single occurrence probabilities, subtract all of the two-occurrence probabilities because they all got counted twice, then add back in the three-occurence probability because it got added in three times and then subtracted three times but needs to be counted once. Then subtract that from 1 to get the probability of no occurrence. (Draw a picture.)\n",
    "\n",
    "  $$1 - P(A_1) + P(A_2) + P(A_3) - P(A_1 \\cap A_2) - P(A_2 \\cap A_3) - P(A_1 \\cap A_3) + P(A_1 \\cap A_2 \\cap A_3)$$\n",
    "\n",
    "  Pair wise intersections aren't given, so they have to be calculated from the unions (convert cups to caps)\n",
    "\n",
    "  $$P(A_1 \\cap A_2) = P(A) + P(B) - P(A_1 \\cup A_2)$$\n",
    "\n",
    "  repeated for every pair.\n",
    "</details>\n",
    "\n",
    "---\n"
   ]
  },
  {
   "cell_type": "code",
   "execution_count": 12,
   "metadata": {
    "vscode": {
     "languageId": "r"
    }
   },
   "outputs": [
    {
     "data": {
      "text/html": [
       "0.81"
      ],
      "text/latex": [
       "0.81"
      ],
      "text/markdown": [
       "0.81"
      ],
      "text/plain": [
       "[1] 0.81"
      ]
     },
     "metadata": {},
     "output_type": "display_data"
    }
   ],
   "source": [
    "one <- 0.17\n",
    "two <- 0.07\n",
    "three <- 0.13\n",
    "\n",
    "one_or_two <- 0.18\n",
    "two_or_three <- 0.18\n",
    "one_or_three <- 0.19\n",
    "\n",
    "one_and_two <- one + two - one_or_two\n",
    "two_and_three <- two + three - two_or_three\n",
    "one_and_three <- one + three - one_or_three\n",
    "\n",
    "all_three <- 0.01\n",
    "\n",
    "any_defect <- (one + two + three - one_and_two - two_and_three - one_and_three + all_three)\n",
    "none <- 1 - any_defect\n",
    "none\n"
   ]
  },
  {
   "cell_type": "markdown",
   "metadata": {},
   "source": [
    "\n",
    "### Question 8: STUDY **\n",
    "A certain system can experience three different types of defects. Let $A_i$, $i = 1, 2, 3$ be the event that the system has a defect of type $i$. Given the same information as Question 7, calculate $P(X=1)$.\n",
    "\n",
    "<details>\n",
    "  <summary>Answer</summary>\n",
    "  0.02\n",
    "\n",
    " Take the total probability of any type of defect occurring from the previous quesion (0.19) and subtract all the two-defect probabilities, then re-add the three-defect option twice because it got subtracted too many times.\n",
    "\n",
    " $$P(X=1) = P(X>0) - P(A_1 \\cap A_2) - P(A_2 \\cap A_3) - P(A_1 \\cap A_3) + (2 \\times P(A_1 \\cap A_2 \\cap A_3))$$\n",
    "\n",
    " or \n",
    "\n",
    " ```r\n",
    " round(\n",
    "total - one_and_two - one_and_three - two_and_three + (2 * one_two_threes),\n",
    "    3\n",
    ")\n",
    "```\n",
    "Alternatively you can subtract everything directly from 1, including the $P(X=0)$\n",
    "\n",
    "$$P(X=1) = 1 - P(X=0) - P(A_1 \\cap A_2) - P(A_2 \\cap A_3) - P(A_1 \\cap A_3) + (2 \\times P(A_1 \\cap A_2 \\cap A_3))$$ \n",
    "\n",
    "and final alternative you can do it additively - pairwise intersection is added twice so each needs to be removed twice, but that removes the three-way intersection 6 times and it only needed to be removed 3, so it has to be adde back 3.\n",
    "\n",
    "$$P(X = 1) = P(A_1) + P(A_2) + P(A_3) \n",
    "- 2 \\cdot P(A_1 \\cap A_2) - 2 \\cdot P(A_1 \\cap A_3) - 2 \\cdot P(A_2 \\cap A_3) \n",
    "+ 3 \\cdot P(A_1 \\cap A_2 \\cap A_3)$$\n",
    "\n",
    "</details>\n",
    "\n",
    "---\n"
   ]
  },
  {
   "cell_type": "code",
   "execution_count": 13,
   "metadata": {
    "vscode": {
     "languageId": "r"
    }
   },
   "outputs": [
    {
     "data": {
      "text/html": [
       "0.0199999999999998"
      ],
      "text/latex": [
       "0.0199999999999998"
      ],
      "text/markdown": [
       "0.0199999999999998"
      ],
      "text/plain": [
       "[1] 0.02"
      ]
     },
     "metadata": {},
     "output_type": "display_data"
    }
   ],
   "source": [
    "x1 <- one + two + three - one_and_two - two_and_three - one_and_three\n",
    "x1.1 <- any_defect - one_and_two - two_and_three - one_and_three + (2 * all_three)\n",
    "x1.1"
   ]
  },
  {
   "cell_type": "markdown",
   "metadata": {},
   "source": [
    "\n",
    "### Question 9:\n",
    "A certain system can experience three different types of defects. Let $A_i$, $i = 1, 2, 3$ be the event that the system has a defect of type $i$. Given the same information as Question 7, calculate $P(X=2)$.\n",
    "\n",
    "<details>\n",
    "  <summary>Answer</summary>\n",
    "  0.16\n",
    "\n",
    "  Similar to before, but just add together all the two-defect possibilities, then subtract the three-defect option three times because it got added in each time. NOTE THAT THE TWO-DEFECT PROBABILITIES ARE NOT GIVEN AND MUST BE CALCULATED (cups to caps)\n",
    "\n",
    "  $$P(X=2) = P(A_1 \\cap A_2) + P(A_2 \\cap A_3) + P(A_1 \\cap A_3) - (3 \\times P(A_1 \\cap A_2 \\cap A_3))$$\n",
    "\n",
    "  $$P(X=2) = 0.06 + 0.02 + 0.11 - 3(0.01) = 0.16$$\n",
    "\n",
    "  ```r\n",
    "  one_and_two + one_and_three + two_and_three - (3 * one_two_threes)\n",
    "```\n",
    "  \n",
    "</details>\n",
    "\n",
    "---\n"
   ]
  },
  {
   "cell_type": "markdown",
   "metadata": {},
   "source": [
    "\n",
    "### Question 10:\n",
    "A certain system can experience three different types of defects. Let $A_i$, $i = 1, 2, 3$ be the event that the system has a defect of type $i$. Given the same information as Question 7, calculate $P(X=3)$.\n",
    "\n",
    "<details>\n",
    "  <summary>Answer</summary>\n",
    "  0.01\n",
    "\n",
    "  This is just the overlapping of all three circles.\n",
    "\n",
    "  $$P(X=3) = P(A_1 \\cap A_2 \\cap A_3) = 0.01$$\n",
    "</details>\n",
    "\n",
    "---\n"
   ]
  },
  {
   "cell_type": "markdown",
   "metadata": {},
   "source": [
    "\n",
    "### Question 11:\n",
    "A certain system can experience three different types of defects. Let $A_i$, $i = 1, 2, 3$ be the event that the system has a defect of type $i$. Given the same information as Question 7, find $E(X)$.\n",
    "\n",
    "<details>\n",
    "  <summary>Answer</summary>\n",
    "  0.37\n",
    "\n",
    "This is the probability weight average of each outcome value\n",
    "$$P(X=0) = 0.81$$\n",
    "$$P(X=1) = 0.02$$\n",
    "$$P(X=2) = 0.16$$\n",
    "$$P(X=3) = 0.01$$\n",
    "\n",
    "$$E[X] = 0\\times(0.81) + 1\\times(0.02) + 2\\times(0.16) + 3\\times(0.01) = 0.37$$\n",
    "</details>\n",
    "\n",
    "---\n"
   ]
  },
  {
   "cell_type": "markdown",
   "metadata": {},
   "source": [
    "\n",
    "### Question 12:\n",
    "A certain system can experience three different types of defects. Let $A_i$, $i = 1, 2, 3$ be the event that the system has a defect of type $i$. Given the same information as Question 7, find $V(X)$. Round your answer to four decimal places.\n",
    "\n",
    "<details>\n",
    "  <summary>Answer</summary>\n",
    "  0.6131\n",
    "\n",
    "$$Var[X] = E[X^2] - E[X]^2$$\n",
    "\n",
    "$$0^2 \\times(0.81) + 1^2 \\times(0.02) + 2^2\\times(0.16) + 3^2\\times(0.01) - (0.37)^2$$\n",
    "\n",
    "```r\n",
    "probs <- c(0.81, 0.02, 0.16, 0.01)\n",
    "vals <- c(0, 1, 2, 3)\n",
    "\n",
    "exp_x_squared <- sum(vals^2 * probs)\n",
    "exp_x <- 0.37\n",
    "\n",
    "exp_x_squared - exp_x^2 \n",
    "```\n",
    "\n",
    "\n",
    "</details>\n",
    "\n",
    "---\n"
   ]
  },
  {
   "cell_type": "markdown",
   "metadata": {},
   "source": [
    "\n",
    "### Question 13:\n",
    "A certain system can experience three different types of defects. Let $A_i$, $i = 1, 2, 3$ be the event that the system has a defect of type $i$. Given the same information as Question 7, find $\\sigma$, the standard deviation of $X$. Round your answer to three decimal places.\n",
    "\n",
    "<details>\n",
    "  <summary>Answer</summary>\n",
    "  0.783\n",
    "\n",
    "$$\\sigma = \\sqrt{(Var[X])} = \\sqrt{0.6131} = 0.7830$$\n",
    "</details>"
   ]
  },
  {
   "cell_type": "code",
   "execution_count": 14,
   "metadata": {
    "vscode": {
     "languageId": "r"
    }
   },
   "outputs": [
    {
     "data": {
      "text/html": [
       "0.783007024234138"
      ],
      "text/latex": [
       "0.783007024234138"
      ],
      "text/markdown": [
       "0.783007024234138"
      ],
      "text/plain": [
       "[1] 0.783007"
      ]
     },
     "metadata": {},
     "output_type": "display_data"
    }
   ],
   "source": [
    "sqrt(0.6131)"
   ]
  },
  {
   "cell_type": "markdown",
   "metadata": {},
   "source": [
    "# Week 4"
   ]
  },
  {
   "cell_type": "markdown",
   "metadata": {},
   "source": [
    "## Module 4 Quiz"
   ]
  },
  {
   "cell_type": "markdown",
   "metadata": {},
   "source": [
    "### Question 1:\n",
    "A skilled worker requires at least 10 minutes, and no more than 20 minutes, to complete a certain task. The completion time $X$ is a continuous random variable with density function:\n",
    "\n",
    "$$\n",
    "f(x) = \\frac{c}{x^2} \\text{ for } 10 \\leq x \\leq 20\n",
    "$$\n",
    "and\n",
    "$$\n",
    "f(x) = 0 \\text{ for all other values of } x.\n",
    "$$\n",
    "\n",
    "What is the value of $c$?\n",
    "\n",
    "<details>\n",
    "  <summary>Answer</summary>\n",
    "  20\n",
    "\n",
    "The integral over that range must equal one since it is a complete probability.\n",
    "\n",
    "$$\\int_{10}^{20}\\frac{c}{x^2}\\,dx = c\\int_{10}^{20}x^{-2}\\,dx = 1$$\n",
    "\n",
    "$$c \\cdot[-\\frac{1}{x}] \\big|_{10}^{20} = c\\cdot \\frac{1}{20} = 1$$\n",
    "\n",
    "$$c = 20$$\n",
    "\n",
    "or\n",
    "\n",
    "```r\n",
    "f <- function(x) {\n",
    "  1/(x^2)\n",
    "}\n",
    "\n",
    "integrate(f, 10, 20)\n",
    "\n",
    "```\n",
    "\n",
    "</details>\n",
    "\n",
    "---\n"
   ]
  },
  {
   "cell_type": "markdown",
   "metadata": {},
   "source": [
    "\n",
    "### Question 2:\n",
    "A skilled worker requires at least 10 minutes, and no more than 20 minutes, to complete a certain task. The completion time $X$ is a continuous random variable with density function:\n",
    "\n",
    "$$\n",
    "f(x) = \\frac{c}{x^2} \\text{ for } 10 \\leq x \\leq 20\n",
    "$$\n",
    "and\n",
    "$$\n",
    "f(x) = 0 \\text{ for all other values of } x.\n",
    "$$\n",
    "\n",
    "Find the probability that the worker completes the task in 15 minutes or less. Round your answer to three decimal places.\n",
    "\n",
    "<details>\n",
    "  <summary>Answer</summary>\n",
    "  0.667\n",
    "\n",
    "Now we know the actual function we can integrate over any range of interest.\n",
    "\n",
    "$$\\int_{10}^{15}\\frac{20}{x^2}\\,dx = \\frac{2}{3} \\approx 0.667$$\n",
    "\n",
    "```r\n",
    "f <- function (x) {\n",
    "    20 / x^2\n",
    "}\n",
    "\n",
    "integrate(f, 10, 15)\n",
    "```\n",
    "</details>\n",
    "\n",
    "---\n"
   ]
  },
  {
   "cell_type": "code",
   "execution_count": 15,
   "metadata": {
    "vscode": {
     "languageId": "r"
    }
   },
   "outputs": [
    {
     "data": {
      "text/plain": [
       "0.6666667 with absolute error < 7.4e-15"
      ]
     },
     "metadata": {},
     "output_type": "display_data"
    }
   ],
   "source": [
    "solved <- function (x) {\n",
    "    20 / x^2\n",
    "}\n",
    "\n",
    "integrate(solved, 10, 15)"
   ]
  },
  {
   "cell_type": "markdown",
   "metadata": {},
   "source": [
    "\n",
    "### Question 3:\n",
    "A skilled worker requires at least 10 minutes, and no more than 20 minutes, to complete a certain task. The completion time $X$ is a continuous random variable with density function:\n",
    "\n",
    "$$\n",
    "f(x) = \\frac{c}{x^2} \\text{ for } 10 \\leq x \\leq 20\n",
    "$$\n",
    "and\n",
    "$$\n",
    "f(x) = 0 \\text{ for all other values of } x.\n",
    "$$\n",
    "\n",
    "Find the expected time for the worker to complete the task. Round your answer to three decimal places.\n",
    "\n",
    "<details>\n",
    "  <summary>Answer</summary>\n",
    "  13.863\n",
    "\n",
    "The expectation formula is the integral of the distribution function multiplied by $x$ over the relevant domain.\n",
    "\n",
    "$$E[X] = \\int_{a}^{b} x \\cdot f(x)\\,dx$$\n",
    "\n",
    "$$E[X] = \\int_{10}^{20} x \\cdot \\frac{20}{x^2}\\,dx$$\n",
    "\n",
    "$$E[X] = \\int_{10}^{20} \\frac{20}{x}\\,dx$$\n",
    "\n",
    "$$E[X] = 20 \\cdot \\int_{10}^{20} \\frac{1}{x}\\,dx$$\n",
    "\n",
    "$$E[X] = 20 \\cdot (\\ln{20} - \\ln{10}) \\approx 13.863$$\n",
    "\n",
    "or\n",
    "\n",
    "```r\n",
    "# if you have the integral basically solved\n",
    "(log(20) - log(10)) * 20\n",
    "\n",
    "# whole thing\n",
    "f <- function(x) {\n",
    "    x * (20/x^2)\n",
    "}\n",
    "\n",
    "integrate(f, 10, 20)\n",
    "```\n",
    "</details>\n",
    "\n",
    "---\n"
   ]
  },
  {
   "cell_type": "code",
   "execution_count": 16,
   "metadata": {
    "vscode": {
     "languageId": "r"
    }
   },
   "outputs": [
    {
     "data": {
      "text/html": [
       "13.8629436111989"
      ],
      "text/latex": [
       "13.8629436111989"
      ],
      "text/markdown": [
       "13.8629436111989"
      ],
      "text/plain": [
       "[1] 13.86294"
      ]
     },
     "metadata": {},
     "output_type": "display_data"
    }
   ],
   "source": [
    "20 * (log(20) - log(10))"
   ]
  },
  {
   "cell_type": "markdown",
   "metadata": {},
   "source": [
    "\n",
    "### Question 4:\n",
    "The number of eggs laid on a tree leaf by an insect of a certain type is a Poisson random variable, $X$, with parameter $c$, where $E(X) = c$. However, such a random variable can only be observed if it is positive, since if it is 0, then we cannot know that such an insect was on the leaf. If we let $Y$ denote the observed number of eggs, then:\n",
    "\n",
    "$$\n",
    "P(Y = i) = P(X = i \\mid X > 0)\n",
    "$$\n",
    "\n",
    "where $X$ is Poisson with parameter $c$.\n",
    "\n",
    "Find $E(Y)$.\n",
    "\n",
    "(Note 1: your answer will be a mathematical expression with $c$. When you type in your answer, the preview box will display what the mathematical expression looks like.)\n",
    "\n",
    "<details>\n",
    "  <summary>Answer</summary>\n",
    "WTF probably just skip this one\n",
    "\n",
    "The Poisson PDF is $P(X = k) = \\frac{\\lambda^k e^{-\\lambda}}{k!}, \\quad k = 0, 1, 2, \\ldots$\n",
    "\n",
    "or in this case\n",
    "\n",
    "$$P(X = i) = \\frac{c^i e^{-c}}{i!}, \\quad i = 0, 1, 2, \\ldots$$\n",
    "\n",
    "We have to offset everything to exclude the 0 option.\n",
    "$$P(Y = i) = P(X = i \\mid X > 0)$$\n",
    "\n",
    "is a conditional probability, so we can use the conditional probability equation to get\n",
    "\n",
    "$$P(Y = i) = \\frac{P(X = i)}{P(X > 0)} = \\frac{\\frac{e^{-c} c^i}{i!}}{1 - e^{-c}}$$\n",
    "\n",
    "Note: The bottom term comes from \n",
    "\n",
    "$$P(X=0) = e^{-c}$$\n",
    "\n",
    "so the probability that $PX(>0)$ is the complement\n",
    "\n",
    "$$1 - e^{-c}$$\n",
    "\n",
    "End Note.\n",
    "\n",
    "$$\\frac{\\frac{e^{-c} c^i}{i!}}{1 - e^{-c}}$$\n",
    "\n",
    "Then we calculate the expectation\n",
    "\n",
    "\n",
    "$$E(Y) = \\frac{1}{1 - e^{-c}} \\sum_{i=1}^\\infty \\frac{i c^i}{i!}$$\n",
    "\n",
    "Simplify the series:\n",
    "The term \n",
    "$$\\sum_{i=1}^\\infty \\frac{i c^i}{i!}$$ \n",
    "\n",
    "can be rewritten as:\n",
    "\n",
    "$$\\sum_{i=1}^\\infty \\frac{i c^i}{i!} = c \\sum_{i=1}^\\infty \\frac{c^{i-1}}{(i-1)!} = c \\cdot \\sum_{k=0}^\\infty \\frac{c^k}{k!} = c \\cdot e^c$$\n",
    "\n",
    "So:\n",
    "\n",
    "$$E(Y) = \\frac{1}{1 - e^{-c}} \\cdot c$$\n",
    "\n",
    "Simplify the expression:\n",
    "\n",
    "$$E(Y) = \\frac{c}{1 - e^{-c}}$$\n",
    "\n",
    "\n",
    "</details>\n",
    "\n",
    "---\n"
   ]
  },
  {
   "cell_type": "markdown",
   "metadata": {},
   "source": [
    "\n",
    "### Question 5:\n",
    "Suppose $X$ is a random variable $X \\sim N(12, 4)$.\n",
    "\n",
    "Find the probability that $X$ is within 1.5 standard deviations of the mean. Round your answer to four decimal places.\n",
    "\n",
    "\n",
    "<details>\n",
    "  <summary>Answer</summary>\n",
    "  0.8664\n",
    "\n",
    "$$\n",
    "P(9 \\leq X \\leq 15) = P(-1.5 \\leq Z \\leq 1.5) = \\Phi(1.5) - \\Phi(-1.5) \\approx 0.9332 - 0.0668 = 0.8664\n",
    "$$\n",
    "\n",
    "The variance is 4, so so the standard deviation is 2, so 1.5 SD is 3 in each direction around the mean, giving a range of 9-15. From there it's just pnorm lookups. (Don't forget that pnorm() asks for SD but notation give variance.)\n",
    "\n",
    "```r\n",
    "# quick\n",
    "pnorm(15, 12, 2) - pnorm(9, 12, 2)\n",
    "\n",
    "# or long form\n",
    "mean <- 12\n",
    "var <- 4\n",
    "sd <- sqrt(var)\n",
    "\n",
    "pnorm(mean + (1.5 * sd), mean, var) - pnorm(mean - (1.5 * sd), mean, var)\n",
    "```\n",
    "</details>\n",
    "\n",
    "---\n"
   ]
  },
  {
   "cell_type": "markdown",
   "metadata": {},
   "source": [
    "\n",
    "### Question 6:\n",
    "Suppose $X$ is a random variable $X \\sim N(12, 4)$.\n",
    "\n",
    "Find $k$ such that $P(X > k) = 0.10$. Round your answer to two decimal places.\n",
    "\n",
    "<details>\n",
    "  <summary>Answer</summary>\n",
    "  14.56\n",
    "\n",
    "  Just a cdf lookup (qnorm()). Don't forget the direction - this is asking for 10% over, qnorm() looks up the value cumulative probability under, so need to do 1-prob in this case.\n",
    "\n",
    "```r\n",
    "mean <- 12\n",
    "var <- 4\n",
    "sd <- sqrt(var)\n",
    "\n",
    "cutoff <- qnorm(0.90, mean, sd)\n",
    "```\n",
    "\n",
    "</details>"
   ]
  },
  {
   "cell_type": "code",
   "execution_count": null,
   "metadata": {
    "vscode": {
     "languageId": "r"
    }
   },
   "outputs": [],
   "source": []
  },
  {
   "cell_type": "markdown",
   "metadata": {},
   "source": [
    "# Week 5"
   ]
  },
  {
   "cell_type": "markdown",
   "metadata": {},
   "source": [
    "## Module 5 Quiz"
   ]
  },
  {
   "cell_type": "markdown",
   "metadata": {},
   "source": [
    "### Question 1:\n",
    "A store orders 10 units of a certain item. For each unit sold, it makes $10. For each item that remains unsold, it loses $5. Let $X$ be the number of items sold in a week. If the store knows that $X$ is a discrete uniform random variable, with $X$ taking values $\\{0,1,\\dots,10\\}$, find the expected profit.\n",
    "\n",
    "<details>\n",
    "  <summary>Answer</summary>\n",
    "  25\n",
    "\n",
    "The intuitive approach is to combine the average gain and the average loss. Since these are simple distributions the expected gain over all outcomes is $50 and the expected loss is -$25, so the overall expected gain is $25.\n",
    "\n",
    "This only works because they are linear operators.\n",
    "</details>\n",
    "\n",
    "---\n"
   ]
  },
  {
   "cell_type": "markdown",
   "metadata": {},
   "source": [
    "\n",
    "### Question 2:\n",
    "Suppose that the service time at a call center is exponentially distributed with the average call lasting 10 minutes. If 3 workers are each on a call, what is the probability that they have each completed their service in 12 minutes? Assume that the length of each call is independent of every other call. Round your answer to four decimal places.\n",
    "\n",
    "<details>\n",
    "  <summary>Answer</summary>\n",
    "  0.3412\n",
    "\n",
    "Since the average time is 10 minutes then the rate $\\lambda$ is 1 every 10 minutes $\\lambda = 1/10$\n",
    "\n",
    "The probability that an individual worker finishes in under 12 minutes can be calculated from the CDF\n",
    "\n",
    "$$P(X\\leq x) = 1 - e^{-\\lambda x}$$\n",
    "\n",
    "$$P(X\\leq 12) = 1-e^{-\\frac{1}{10} \\cdot 12} \\approx 0.6988$$\n",
    "\n",
    "or with pexp()\n",
    "\n",
    "```r\n",
    "lambda <- 1/10\n",
    "\n",
    "pexp(12, lambda)\n",
    "```\n",
    "\n",
    "Then since each worker is independent the probability that all of them finish in under 12 minutes is just each probability multiplied together, $(P \\leq 12)^3 \\approx 0.3412$ \n",
    "\n",
    "</details>\n",
    "\n",
    "---\n"
   ]
  },
  {
   "cell_type": "markdown",
   "metadata": {},
   "source": [
    "\n",
    "### Question 3:\n",
    "Suppose that $X$ and $Y$ are random variables with the joint probability mass function given by the table below.\n",
    "\n",
    "|-| $y=1$ | $y=4$ | $y=16$ |\n",
    "|---|-------|-------|--------|\n",
    "| $x=1$ | 0.20  | 0.25  | 0.05   |\n",
    "| $x=5$ | 0.10  | 0.15  | 0.25   |\n",
    "\n",
    "Find $P(X = 1)$.\n",
    "\n",
    "<details>\n",
    "  <summary>Answer</summary>\n",
    "  0.5\n",
    "\n",
    "Add up all the marginal probabilities for which $x=1$. \n",
    "\n",
    "$$0.20 + 0.25 + 0.05 = 0.50$$\n",
    "</details>\n",
    "\n",
    "---\n"
   ]
  },
  {
   "cell_type": "markdown",
   "metadata": {},
   "source": [
    "\n",
    "### Question 4:\n",
    "Suppose that $X$ and $Y$ are random variables with the joint probability mass function given by the table below.\n",
    "\n",
    "|---| $y=1$ | $y=4$ | $y=16$ |\n",
    "|---|-------|-------|--------|\n",
    "| $x=1$ | 0.20  | 0.25  | 0.05 |\n",
    "| $x=5$ | 0.10  | 0.15  | 0.25 |\n",
    "\n",
    "Find $P(X > Y)$.\n",
    "\n",
    "\n",
    "<details>\n",
    "  <summary>Answer</summary>\n",
    "  0.25\n",
    "\n",
    "Just add up marginal probabilities.\n",
    "\n",
    "|---| $y=1$ | $y=4$ | $y=16$ |\n",
    "|---|-------|-------|--------|\n",
    "| $x=1$ | 0.20  | 0.25  | 0.05 |\n",
    "| $x=5$ | **0.10**  | **0.15**  | 0.25 |\n",
    "\n",
    "$$0.10 + 0.15 = 0.25$$\n",
    "</details>\n",
    "\n",
    "---\n"
   ]
  },
  {
   "cell_type": "markdown",
   "metadata": {},
   "source": [
    "\n",
    "### Question 5: STUDY COVARIANCE FORMULA\n",
    "\n",
    "Suppose that $X$ and $Y$ are random variables with the joint probability mass function given by the table below.\n",
    "\n",
    "| - | $y=1$ | $y=4$ | $y=16$ |\n",
    "|---|-------|-------|--------|\n",
    "| $x=1$ | 0.20  | 0.25  | 0.05   |\n",
    "| $x=5$ | 0.10  | 0.15  | 0.25   |\n",
    "\n",
    "Determine $Cov(X, Y)$.\n",
    "\n",
    "<details>\n",
    "  <summary>Answer</summary>\n",
    "  5.4\n",
    "\n",
    "$$Cov(X,Y) = E\\Big(\\big(X-E(X)\\big)\\big(Y - E(Y)\\big)\\Big)$$\n",
    "\n",
    "which simplifies to \n",
    "\n",
    "$$Cov(X,Y) = E[XY] - E[X] \\cdot E[Y]$$\n",
    "\n",
    "by hand this looks like\n",
    "\n",
    "$$ E[X] = (1)(0.50) + (5)(0.50) = 3$$\n",
    "$$ E[Y] = (1)(0.30) + (4)(0.40) + (16)(0.30) = 6.7$$\n",
    "$$ \\begin{align*}\n",
    "E[XY] = & \\, (1)(1)(0.20) + (1)(4)(0.25) + (1)(16)(0.05) + \\\\\n",
    "        & \\, (5)(1)(0.10) + (5)(4)(0.15) + (5)(16)(0.25) = 25.5\n",
    "\\end{align*}$$\n",
    "\n",
    "$$Cov(X,Y) = 25.5 - (3 \\cdot 6.7) = 5.4$$\n",
    "\n",
    "Programmatically\n",
    "\n",
    "```r\n",
    "x <- c(1, 5)\n",
    "y <- c(1, 4, 16)\n",
    "\n",
    "x_prob <- c(0.5, 0.5)\n",
    "y_prob <- c(0.30, 0.40, 0.30)\n",
    "\n",
    "exp_x <- sum(x * x_prob)\n",
    "exp_y <- sum(y * y_prob)\n",
    "\n",
    "# this part is tricky, might have to do it by hand instead\n",
    "prob_matrix <- matrix(c(0.20, 0.25, 0.05, \n",
    "                        0.10, 0.15, 0.25),\n",
    "                        nrow = 2, byrow = TRUE)\n",
    "\n",
    "exp_x_y <- sum(outer(x, y, \"*\") * prob_matrix)\n",
    "\n",
    "covariance_x_y <- exp_x_y - (exp_x * exp_y)\n",
    "covariance_x_y #5.4\n",
    "```\n",
    "\n",
    "</details>\n",
    "\n",
    "---\n"
   ]
  },
  {
   "cell_type": "code",
   "execution_count": 17,
   "metadata": {
    "vscode": {
     "languageId": "r"
    }
   },
   "outputs": [
    {
     "data": {
      "text/html": [
       "3"
      ],
      "text/latex": [
       "3"
      ],
      "text/markdown": [
       "3"
      ],
      "text/plain": [
       "[1] 3"
      ]
     },
     "metadata": {},
     "output_type": "display_data"
    },
    {
     "data": {
      "text/html": [
       "6.7"
      ],
      "text/latex": [
       "6.7"
      ],
      "text/markdown": [
       "6.7"
      ],
      "text/plain": [
       "[1] 6.7"
      ]
     },
     "metadata": {},
     "output_type": "display_data"
    },
    {
     "data": {
      "text/html": [
       "25.5"
      ],
      "text/latex": [
       "25.5"
      ],
      "text/markdown": [
       "25.5"
      ],
      "text/plain": [
       "[1] 25.5"
      ]
     },
     "metadata": {},
     "output_type": "display_data"
    },
    {
     "data": {
      "text/html": [
       "5.4"
      ],
      "text/latex": [
       "5.4"
      ],
      "text/markdown": [
       "5.4"
      ],
      "text/plain": [
       "[1] 5.4"
      ]
     },
     "metadata": {},
     "output_type": "display_data"
    }
   ],
   "source": [
    "eX <- (1 * 0.20) + (1 * 0.25) + (1 * 0.05) +\n",
    "      (5 * 0.10) + (5 * 0.15) + (5 * 0.25)\n",
    "\n",
    "eY <- (1 * 0.20) + (1 * 0.10) +\n",
    "      (4 * 0.25) + (4 * 0.15) +\n",
    "      (16 * 0.05) + (16 * 0.25) \n",
    "\n",
    "eXY <- (1 * 1 * 0.20) +\n",
    "       (1 * 4 * 0.25) +\n",
    "       (1 * 16 * 0.05) +\n",
    "       (5 * 1 * 0.10) +\n",
    "       (5 * 4 * 0.15) +\n",
    "       (5 * 16 * 0.25)\n",
    "\n",
    "eX\n",
    "eY\n",
    "eXY\n",
    "\n",
    "eXY - (eX * eY) "
   ]
  },
  {
   "cell_type": "markdown",
   "metadata": {},
   "source": [
    "\n",
    "### Question 6: STUDY CORRELATION FORMULA\n",
    "Suppose that $X$ and $Y$ are random variables with the joint probability mass function given by the table below.\n",
    "\n",
    "| - | $y=1$ | $y=4$ | $y=16$ |\n",
    "|---|-------|-------|--------|\n",
    "| $x=1$ | 0.20  | 0.25  | 0.05   |\n",
    "| $x=5$ | 0.10  | 0.15  | 0.25   |\n",
    "\n",
    "Find $\\rho$, the correlation coefficient of $X$ and $Y$. Round your answer to four decimal places.\n",
    "\n",
    "<details>\n",
    "  <summary>Answer</summary>\n",
    "  0.4345\n",
    "\n",
    "$$\\rho = Corr(X,Y) = \\frac{Cov(X,Y)}{\\sigma(x)\\sigma(y)}$$\n",
    "\n",
    "We already have $Cov(X,Y)$ so we just have to calculate the variance of $X$ and $Y$.\n",
    "\n",
    "$$Var(X) = E[X^2] - (E[X])^2$$\n",
    "\n",
    "$$Var(X) = ((1^2)(0.50) + (5^2)(0.50)) - 3^2 = 4$$ \n",
    "\n",
    "$$Var(Y) = ((1^2)(0.30) + (4^2)(0.40) + (16^2)(0.30)) - 6.7^2 = 38.61$$ \n",
    "\n",
    "$$Corr(X,Y) = \\frac {5.4}{\\sqrt{4} \\cdot \\sqrt{38.61}} \\approx 0.4345$$\n",
    "\n",
    "```r\n",
    "x <- c(1, 5)\n",
    "y <- c(1, 4, 16)\n",
    "\n",
    "x_prob <- c(0.5, 0.5)\n",
    "y_prob <- c(0.30, 0.40, 0.30)\n",
    "\n",
    "exp_x <- sum(x * x_prob)\n",
    "exp_y <- sum(y * y_prob)\n",
    "\n",
    "var_x <- (sum(x^2 * x_prob)) - exp_x^2\n",
    "var_y <- (sum(y^2 * y_prob)) - exp_y^2\n",
    "\n",
    "covariance_x_y <- exp_x_y - (exp_x * exp_y)\n",
    "\n",
    "corr_x_y <- covariance_x_y / (sqrt(var_x) * sqrt(var_y))\n",
    "```\n",
    "</details>\n",
    "\n",
    "---\n"
   ]
  },
  {
   "cell_type": "markdown",
   "metadata": {},
   "source": [
    "\n",
    "### Question 7:\n",
    "Suppose that $X$ and $Y$ are random variables with the joint probability mass function given by the table below.\n",
    "\n",
    "| - | $y=1$ | $y=4$ | $y=16$ |\n",
    "|---|-------|-------|--------|\n",
    "| $x=1$ | 0.20  | 0.25  | 0.05   |\n",
    "| $x=5$ | 0.10  | 0.15  | 0.25   |\n",
    "\n",
    "Are $X$ and $Y$ independent? (Answer \"Yes\", \"No\", or \"Can't determine\")\n",
    "\n",
    "<details>\n",
    "  <summary>Answer</summary>\n",
    "  No\n",
    "\n",
    "  Using a table like above the independence of X and Y can be checked by if the total probability of a given X value times the total probability of a give Y value (the marginal probabilities) equal the probability where those two X and Y meet. This must be true for every cell.\n",
    "\n",
    "$$\n",
    "P(Y=4) = 0.40 \\\\\n",
    "P(X=5) = 0.50 \\\\\n",
    "P(Y=4,X=5) = 0.15 \\\\\n",
    "P(Y=4) \\cdot P(X=5) = 0.20 \\\\\n",
    "0.15 \\neq 0.20\n",
    "$$\n",
    "</details>"
   ]
  },
  {
   "cell_type": "markdown",
   "metadata": {},
   "source": [
    "# Week 6"
   ]
  },
  {
   "cell_type": "markdown",
   "metadata": {},
   "source": [
    "## Module 6 Quiz"
   ]
  },
  {
   "cell_type": "markdown",
   "metadata": {},
   "source": [
    "### Question 1:\n",
    "Suppose 30 numbers are selected at random from the interval $[0, 1]$. That is, $X_i \\sim U[0, 1]$ for $i = 1, 2, \\dots, 30$. Given\n",
    "\n",
    "$$\n",
    "\\overline{X} = \\frac{1}{30} \\sum_{i=1}^{30} X_i\n",
    "$$\n",
    "\n",
    "estimate $P(0.5 \\leq \\overline{X} \\leq 0.6)$. Round your answer to three decimal places.\n",
    "\n",
    "<details>\n",
    "  <summary>Answer</summary>\n",
    "  0.471\n",
    "\n",
    "  Calculate expectation and variance for the uniform distribution. Approximate the distribution of results using the Central Limit Theorem (expectation becomes the mean but the variance of the sample mean is $Var[X] / n$)\n",
    "\n",
    "```r\n",
    "mean <- 0.5\n",
    "var <- (1 / 12) / 30\n",
    "sd <- sqrt(var)\n",
    "\n",
    "pnorm(0.6, mean, sd) - pnorm(0.5, mean, sd)\n",
    "``` \n",
    "</details>\n",
    "\n",
    "---\n"
   ]
  },
  {
   "cell_type": "code",
   "execution_count": 18,
   "metadata": {
    "vscode": {
     "languageId": "r"
    }
   },
   "outputs": [],
   "source": [
    "n <- 30\n"
   ]
  },
  {
   "cell_type": "markdown",
   "metadata": {},
   "source": [
    "\n",
    "### Question 2:\n",
    "A company wants to compare the efficiency of two types of fuel for a car. 5 identical cars will be driven 500 kilometers each, two with the first type of fuel and three with the second type. Let $X_1$ and $X_2$ be the observed fuel efficiency for the first type and $Y_1$, $Y_2$, and $Y_3$ be the efficiency for the second type. Suppose these variables are independent and:\n",
    "\n",
    "- $X_i \\sim N(20, 4)$ for $i = 1, 2$\n",
    "- $Y_j \\sim N(18, 9)$ for $j = 1, 2, 3$\n",
    "\n",
    "Define a new random variable:\n",
    "\n",
    "$$\n",
    "W = \\frac{X_1 + X_2}{2} - \\frac{Y_1 + Y_2 + Y_3}{3}\n",
    "$$\n",
    "\n",
    "Find $E(W)$.\n",
    "\n",
    "<details>\n",
    "  <summary>Answer</summary>\n",
    "  2\n",
    "\n",
    "Expectation is a linear operator so in in this case where sample are only being added, subtracted, and multiplied by constants the expectation/mean can be plugged in.\n",
    "\n",
    "$$E[W] = \\frac{E[X] + E[X]}{2} - \\frac{E[Y] + E[Y]  + E[Y]}{3}$$\n",
    "\n",
    "$$E[W] = \\frac{1}{2}(E[X] + E[X]) - \\frac{1}{3}(E[Y] + E[Y]  + E[Y])$$\n",
    "\n",
    "$$E[W] = \\frac{1}{2}(20 + 20) - \\frac{1}{3}(18 + 18 + 18) = 2$$\n",
    "\n",
    "</details>\n",
    "\n",
    "---\n"
   ]
  },
  {
   "cell_type": "code",
   "execution_count": 19,
   "metadata": {
    "vscode": {
     "languageId": "r"
    }
   },
   "outputs": [
    {
     "data": {
      "text/html": [
       "2"
      ],
      "text/latex": [
       "2"
      ],
      "text/markdown": [
       "2"
      ],
      "text/plain": [
       "[1] 2"
      ]
     },
     "metadata": {},
     "output_type": "display_data"
    }
   ],
   "source": [
    "e_w <- 20 - 18\n",
    "e_w"
   ]
  },
  {
   "cell_type": "markdown",
   "metadata": {},
   "source": [
    "\n",
    "### Question 3:\n",
    "A company wants to compare the efficiency of two types of fuel for a car. 5 identical cars will be driven 500 kilometers each, two with the first type of fuel and three with the second type. Let $X_1$ and $X_2$ be the observed fuel efficiency for the first type and $Y_1$, $Y_2$, and $Y_3$ be the efficiency for the second type. Suppose these variables are independent and:\n",
    "\n",
    "- $X_i \\sim N(20, 4)$ for $i = 1, 2$\n",
    "- $Y_j \\sim N(18, 9)$ for $j = 1, 2, 3$\n",
    "\n",
    "Define a new random variable:\n",
    "\n",
    "$$\n",
    "W = \\frac{X_1 + X_2}{2} - \\frac{Y_1 + Y_2 + Y_3}{3}\n",
    "$$\n",
    "\n",
    "Find $Var(W)$.\n",
    "\n",
    "<details>\n",
    "  <summary>Answer</summary>\n",
    "  5\n",
    "  \n",
    "Variances don't subtract, they only add and variance is not a linear operator, so we have to do the following.\n",
    "\n",
    "$$Var(X - Y) = Var(X) + Var(Y) - 2 \\cdot Cov(X,Y)$$\n",
    "in this case $X$ and $Y$ are independent so $Cov(X,Y) = 0$\n",
    "\n",
    "$$Var(X - Y) = Var(X) + Var(Y)$$\n",
    "\n",
    "and to account for the constant terms\n",
    "\n",
    "$$Var(aZ) = a^2Var(Z)$$\n",
    "\n",
    "Plugging it all in\n",
    "\n",
    "$$W = \\frac{X + X}{2} - \\frac{Y + Y + Y}{3}$$\n",
    "\n",
    "$$W = \\frac{1}{2}(X + X) - \\frac{1}{3}(Y + Y + Y)$$\n",
    "\n",
    "$$\n",
    "Var[W] = \\left(\\frac{1}{2}\\right)^2 (Var[X] + Var[X])\n",
    "\\underbrace{+}_{\\text{change to +}} \n",
    "\\left(\\frac{1}{3}\\right)^2 (Var[Y] + Var[Y] + Var[Y])\n",
    "$$\n",
    "\n",
    "$$Var[W] = \\frac{1}{4}(4 + 4) + \\frac{1}{9}(9 + 9 + 9)$$\n",
    "\n",
    "$$Var[W] = \\frac{8}{4} + \\frac{27}{9} = 5$$\n",
    "\n",
    "\n",
    "</details>\n",
    "\n",
    "---\n"
   ]
  },
  {
   "cell_type": "code",
   "execution_count": 1,
   "metadata": {
    "vscode": {
     "languageId": "r"
    }
   },
   "outputs": [
    {
     "data": {
      "text/html": [
       "5"
      ],
      "text/latex": [
       "5"
      ],
      "text/markdown": [
       "5"
      ],
      "text/plain": [
       "[1] 5"
      ]
     },
     "metadata": {},
     "output_type": "display_data"
    }
   ],
   "source": [
    "var_w <- (1 / 2)^2 * (2 * 4) + (1 / 3)^2 * (3 * 9) \n",
    "var_w"
   ]
  },
  {
   "cell_type": "markdown",
   "metadata": {},
   "source": [
    "\n",
    "### Question 4:\n",
    "A company wants to compare the efficiency of two types of fuel for a car. 5 identical cars will be driven 500 kilometers each, two with the first type of fuel and three with the second type. Let $X_1$ and $X_2$ be the observed fuel efficiency for the first type and $Y_1$, $Y_2$, and $Y_3$ be the efficiency for the second type. Suppose these variables are independent and:\n",
    "\n",
    "- $X_i \\sim N(20, 4)$ for $i = 1, 2$\n",
    "- $Y_j \\sim N(18, 9)$ for $j = 1, 2, 3$\n",
    "\n",
    "Define a new random variable:\n",
    "\n",
    "$$\n",
    "W = \\frac{X_1 + X_2}{2} - \\frac{Y_1 + Y_2 + Y_3}{3}\n",
    "$$\n",
    "\n",
    "Find $P(W \\geq 0)$. Round your answer to four decimal places.\n",
    "\n",
    "<details>\n",
    "  <summary>Answer</summary>\n",
    "  0.8145\n",
    "\n",
    "We've now fully defined $W \\sim N(2, 5)$\n",
    "\n",
    "So it's just the ```pnorm()``` lookup. (1 - the result since it's asking for the right side.) Don't forget to change var to SD.\n",
    "\n",
    "```r\n",
    "mean_W <- 2\n",
    "var_W <- 5\n",
    "sd_W <- sqrt(var_W)\n",
    "\n",
    "1 - pnorm(0, mean_W, sd_W)\n",
    "```\n",
    "</details>"
   ]
  },
  {
   "cell_type": "code",
   "execution_count": 1,
   "metadata": {
    "vscode": {
     "languageId": "r"
    }
   },
   "outputs": [
    {
     "data": {
      "text/html": [
       "0.814453315238651"
      ],
      "text/latex": [
       "0.814453315238651"
      ],
      "text/markdown": [
       "0.814453315238651"
      ],
      "text/plain": [
       "[1] 0.8144533"
      ]
     },
     "metadata": {},
     "output_type": "display_data"
    }
   ],
   "source": [
    "1 - pnorm(0, 2, sqrt(5))"
   ]
  },
  {
   "cell_type": "markdown",
   "metadata": {},
   "source": [
    "# Exam"
   ]
  },
  {
   "cell_type": "markdown",
   "metadata": {},
   "source": [
    "## Exam"
   ]
  },
  {
   "cell_type": "markdown",
   "metadata": {},
   "source": [
    "### Question 1\n",
    "Suppose that $A$ and $B$ are events with:\n",
    "\n",
    "- $P(A) = 0.5$  \n",
    "- $P(A \\cup B) = 0.8$\n",
    "\n",
    "What is $P(B)$, assuming that $A$ and $B$ are **mutually exclusive**?\n",
    "\n",
    "<details>\n",
    "  <summary>Answer</summary>\n",
    " \n",
    "</details>"
   ]
  },
  {
   "cell_type": "markdown",
   "metadata": {},
   "source": [
    "### Question 2\n",
    "\n",
    "Suppose that $A$ and $B$ are events with:\n",
    "\n",
    "- $P(A) = 0.5$  \n",
    "- $P(A \\cup B) = 0.8$\n",
    "\n",
    "What is $P(B)$, assuming that $A$ and $B$ are **independent**?\n",
    "\n",
    "<details>\n",
    "  <summary>Answer</summary>\n",
    " \n",
    "</details>"
   ]
  },
  {
   "cell_type": "markdown",
   "metadata": {},
   "source": [
    "### Question 3\n",
    "\n",
    "The weekly amount of sales at a certain restaurant is modeled by a normal random variable with:\n",
    "\n",
    "- Mean: $22,000  \n",
    "- Standard deviation: $2,000\n",
    "\n",
    "(Assume that weekly sales are independent.)\n",
    "\n",
    "What is the probability the sales exceed $23,000 in a randomly selected week?  \n",
    "*Round your answer to three decimal places.*\n",
    "\n",
    "<details>\n",
    "  <summary>Answer</summary>\n",
    " \n",
    "</details>"
   ]
  },
  {
   "cell_type": "markdown",
   "metadata": {},
   "source": [
    "### Question 4\n",
    "\n",
    "The weekly amount of sales at a certain restaurant is modeled by a normal random variable with:\n",
    "\n",
    "- Mean: $22,000  \n",
    "- Standard deviation: $2,000\n",
    "\n",
    "(Assume that weekly sales are independent.)\n",
    "\n",
    "Estimate the probability that the sales exceed $23,000 in **at least 3 of the next 4 weeks**.  \n",
    "*Round your answer to two decimal places.*\n",
    "\n",
    "<details>\n",
    "  <summary>Answer</summary>\n",
    " \n",
    "</details>"
   ]
  },
  {
   "cell_type": "markdown",
   "metadata": {},
   "source": [
    "### Question 5\n",
    "\n",
    "The weekly amount of sales at a certain restaurant is modeled by a normal random variable with:\n",
    "\n",
    "- Mean: $22,000  \n",
    "- Standard deviation: $2,000\n",
    "\n",
    "(Assume that weekly sales are independent.)\n",
    "\n",
    "Estimate the probability that **total sales for the next 50 weeks will exceed $1,200,000**.  \n",
    "*Round your answer to two decimal places.*\n",
    "\n",
    "Hint: Let $X_i$ be the sales in week $i$.\n",
    "\n",
    "<details>\n",
    "  <summary>Answer</summary>\n",
    " \n",
    "</details>"
   ]
  },
  {
   "cell_type": "markdown",
   "metadata": {},
   "source": [
    "### Question 6\n",
    "\n",
    "You have a deck of 52 playing cards: 26 red and 26 black.  \n",
    "You shuffle the deck and draw 4 cards from the top.\n",
    "\n",
    "What is the probability that **all 4 cards are the same color**?  \n",
    "*Round your answer to two decimal places.*\n",
    "\n",
    "<details>\n",
    "  <summary>Answer</summary>\n",
    " \n",
    "</details>"
   ]
  },
  {
   "cell_type": "markdown",
   "metadata": {},
   "source": [
    "### Question 7\n",
    "\n",
    "You have a deck of 52 playing cards: 26 red and 26 black.  \n",
    "You shuffle the deck and draw 4 cards from the top.\n",
    "\n",
    "If the drawn cards aren't all the same color, you put them back, reshuffle, and draw 4 more.\n",
    "\n",
    "What is the **expected number of draws** it will take to get 4 cards of the same color (all red or all black)?  \n",
    "*Round your answer to two decimal places.*\n",
    "\n",
    "<details>\n",
    "  <summary>Answer</summary>\n",
    " \n",
    "</details>"
   ]
  },
  {
   "cell_type": "markdown",
   "metadata": {},
   "source": [
    "### Question 8\n",
    "\n",
    "It is estimated that 10% of people contract disease $A$.  \n",
    "A test for disease $A$ has:\n",
    "\n",
    "- 99% accuracy if the person **has** the disease  \n",
    "- 5% false positive rate if the person **does not** have the disease\n",
    "\n",
    "What is the **probability a person has the disease given that they test positive**?  \n",
    "*Round your answer to four decimal places.*\n",
    "\n",
    "<details>\n",
    "  <summary>Answer</summary>\n",
    " \n",
    "</details>"
   ]
  },
  {
   "cell_type": "markdown",
   "metadata": {},
   "source": [
    "### Question 9\n",
    "\n",
    "Let $X$ and $Y$ be discrete random variables with joint probability function:\n",
    "\n",
    "|  -  | $y=3$ | $y=6$ | $y=9$ |\n",
    "|-----|-------|-------|-------|\n",
    "| $x=2$ | 0.27  | 0.08  | 0.03  |\n",
    "| $x=3$ | 0.15  | 0.04  | 0.18  |\n",
    "| $x=5$ | 0.11  | 0     | 0.14  |\n",
    "\n",
    "What is the probability that $X = Y$?\n",
    "\n",
    "<details>\n",
    "  <summary>Answer</summary>\n",
    " \n",
    "</details>"
   ]
  },
  {
   "cell_type": "markdown",
   "metadata": {},
   "source": [
    "### Question 10\n",
    "\n",
    "Using the same joint probability function:\n",
    "\n",
    "|  -  | $y=3$ | $y=6$ | $y=9$ |\n",
    "|-----|-------|-------|-------|\n",
    "| $x=2$ | 0.27  | 0.08  | 0.03  |\n",
    "| $x=3$ | 0.15  | 0.04  | 0.18  |\n",
    "| $x=5$ | 0.11  | 0     | 0.14  |\n",
    "\n",
    "What is the probability that $X \\geq 3$ and $Y < 7$?\n",
    "\n",
    "<details>\n",
    "  <summary>Answer</summary>\n",
    " \n",
    "</details>"
   ]
  },
  {
   "cell_type": "markdown",
   "metadata": {},
   "source": [
    "### Question 11\n",
    "\n",
    "Using the same joint probability function:\n",
    "\n",
    "|  -  | $y=3$ | $y=6$ | $y=9$ |\n",
    "|-----|-------|-------|-------|\n",
    "| $x=2$ | 0.27  | 0.08  | 0.03  |\n",
    "| $x=3$ | 0.15  | 0.04  | 0.18  |\n",
    "| $x=5$ | 0.11  | 0     | 0.14  |\n",
    "\n",
    "What is $\\mathrm{Cov}(X, Y)$?  \n",
    "*Round your answer to three decimal places.*\n",
    "\n",
    "<details>\n",
    "  <summary>Answer</summary>\n",
    " \n",
    "</details>"
   ]
  },
  {
   "cell_type": "markdown",
   "metadata": {},
   "source": [
    "### Question 12\n",
    "\n",
    "Using the same joint probability function:\n",
    "\n",
    "|  -  | $y=3$ | $y=6$ | $y=9$ |\n",
    "|-----|-------|-------|-------|\n",
    "| $x=2$ | 0.27  | 0.08  | 0.03  |\n",
    "| $x=3$ | 0.15  | 0.04  | 0.18  |\n",
    "| $x=5$ | 0.11  | 0     | 0.14  |\n",
    "\n",
    "What is $\\rho(X, Y)$ (the correlation coefficient)?  \n",
    "*Round your answer to four decimal places.*\n",
    "\n",
    "<details>\n",
    "  <summary>Answer</summary>\n",
    " \n",
    "</details>"
   ]
  },
  {
   "cell_type": "markdown",
   "metadata": {},
   "source": [
    "### Question 13\n",
    "\n",
    "Let $X$ be a random variable with PDF:\n",
    "\n",
    "$$\n",
    "f(x) = \\frac{1}{c(1 - x)^3} \\quad \\text{for } -1 \\leq x \\leq 1\n",
    "$$\n",
    "\n",
    "and $f(x) = 0$ otherwise.\n",
    "\n",
    "Solve for $c$.\n",
    "\n",
    "<details>\n",
    "  <summary>Answer</summary>\n",
    " \n",
    "</details>"
   ]
  },
  {
   "cell_type": "markdown",
   "metadata": {},
   "source": [
    "### Question 14\n",
    "\n",
    "Let $X$ be a random variable with PDF:\n",
    "\n",
    "$$\n",
    "f(x) = \\frac{1}{c(1 - x)^3} \\quad \\text{for } -1 \\leq x \\leq 1\n",
    "$$\n",
    "\n",
    "and $f(x) = 0$ otherwise.\n",
    "\n",
    "Find the **CDF** of $X$ for $-1 \\leq x \\leq 1$.  \n",
    "*Your answer should be in terms of $x$.*\n",
    "\n",
    "<details>\n",
    "  <summary>Answer</summary>\n",
    " \n",
    "</details>"
   ]
  },
  {
   "cell_type": "markdown",
   "metadata": {},
   "source": [
    "### Question 15\n",
    "\n",
    "Let $X$ be a random variable with PDF:\n",
    "\n",
    "$$\n",
    "f(x) = \\frac{1}{c(1 - x)^3} \\quad \\text{for } -1 \\leq x \\leq 1\n",
    "$$\n",
    "\n",
    "and $f(x) = 0$ otherwise.\n",
    "\n",
    "What is $P(X \\leq 0)$?  \n",
    "*Round your answer to four decimal places.*\n",
    "\n",
    "<details>\n",
    "  <summary>Answer</summary>\n",
    " \n",
    "</details>"
   ]
  },
  {
   "cell_type": "markdown",
   "metadata": {},
   "source": []
  }
 ],
 "metadata": {
  "kernelspec": {
   "display_name": "R",
   "language": "R",
   "name": "ir"
  },
  "language_info": {
   "codemirror_mode": "r",
   "file_extension": ".r",
   "mimetype": "text/x-r-source",
   "name": "R",
   "pygments_lexer": "r",
   "version": "4.5.0"
  }
 },
 "nbformat": 4,
 "nbformat_minor": 2
}
