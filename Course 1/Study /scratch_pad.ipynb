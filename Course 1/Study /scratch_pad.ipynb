{
 "cells": [
  {
   "cell_type": "markdown",
   "metadata": {},
   "source": [
    "Minor surgery on horses under field conditions requires a reliable short-term anesthetic producing good muscle relaxation, minimal cardiovascular and respiratory changes, and a quick, smooth recovery with minimal aftereffects so that horses can be left unattended.\n",
    "\n",
    "A study reports that for a sample of $n = 73$ horses to which ketamine is administered under certain conditions, the sample average lateral recumbency (lying-down) time was 18.86 min. Lateral recumbency time is known to be normally distributed with a standard deviation of $\\sigma = 8.6$ min.\n",
    "\n",
    "Do these data suggest that true average lateral recumbency time under these conditions is less than 20 min? Test the hypotheses:\n",
    "\n",
    "$H_0: \\mu = 20$ versus $H_1: \\mu < 20$.\n"
   ]
  },
  {
   "cell_type": "code",
   "execution_count": 56,
   "metadata": {
    "vscode": {
     "languageId": "r"
    }
   },
   "outputs": [
    {
     "data": {
      "text/html": [
       "-1.2815515655446"
      ],
      "text/latex": [
       "-1.2815515655446"
      ],
      "text/markdown": [
       "-1.2815515655446"
      ],
      "text/plain": [
       "[1] -1.281552"
      ]
     },
     "metadata": {},
     "output_type": "display_data"
    }
   ],
   "source": [
    "horses_rec_mu <- 20\n",
    "horse_xbar <- 18.86\n",
    "horse_n <- 73\n",
    "horse_sd <- 8.6\n",
    "sig_level <- 0.10\n",
    "\n",
    "z <- qnorm(sig_level)\n",
    "z"
   ]
  },
  {
   "cell_type": "code",
   "execution_count": 57,
   "metadata": {
    "vscode": {
     "languageId": "r"
    }
   },
   "outputs": [
    {
     "data": {
      "text/html": [
       "18.71"
      ],
      "text/latex": [
       "18.71"
      ],
      "text/markdown": [
       "18.71"
      ],
      "text/plain": [
       "[1] 18.71"
      ]
     },
     "metadata": {},
     "output_type": "display_data"
    }
   ],
   "source": [
    "cutoff <- z * (horse_sd / sqrt(horse_n)) + horses_rec_mu\n",
    "\n",
    "round(cutoff, 2)"
   ]
  },
  {
   "cell_type": "markdown",
   "metadata": {},
   "source": [
    "**Question 3**\n",
    "\n",
    "The recommended daily dietary allowance for zinc among males older than age 50 years is 15 mg/day. A study reports the following summary data on intake for a sample of 12 males age 65-74 years:\n",
    "\n",
    "$\n",
    "\\overline{x} = 11.3\n",
    "$\n",
    "\n",
    "Assuming that the true distribution for zinc intake is normally distributed with variance $( \\sigma^2 = 6.43 $), does the data indicate that the average daily zinc intake in the population of all males 65-74 falls below the recommended allowance? \n",
    "\n",
    "Consider testing the hypotheses:\n",
    "\n",
    "$\n",
    "H_0: \\mu = 15 \\quad \\text{(null hypothesis)}\n",
    "$\n",
    "$\n",
    "H_1: \\mu < 15 \\quad \\text{(alternative hypothesis)}\n",
    "$\n",
    "\n",
    "at level of significance $( \\alpha = 0.05 $).\n",
    "\n",
    "Below what value does $( \\overline{x} $) need to be for us to reject $( H_0 $) in favor of $( H_1 $)? Give your answer to two decimal places.\n"
   ]
  },
  {
   "cell_type": "code",
   "execution_count": 52,
   "metadata": {
    "vscode": {
     "languageId": "r"
    }
   },
   "outputs": [
    {
     "data": {
      "text/html": [
       "-1.64485362695147"
      ],
      "text/latex": [
       "-1.64485362695147"
      ],
      "text/markdown": [
       "-1.64485362695147"
      ],
      "text/plain": [
       "[1] -1.644854"
      ]
     },
     "metadata": {},
     "output_type": "display_data"
    }
   ],
   "source": [
    "zinc_mu <- 15\n",
    "zinc_xbar <- 11.3\n",
    "zinc_n <- 12\n",
    "zinc_variance <- 6.43\n",
    "zinc_sig_level <- 0.05\n",
    "# pay attention to sig_level or 1-sig_level\n",
    "z <- qnorm(zinc_sig_level)\n",
    "z"
   ]
  },
  {
   "cell_type": "code",
   "execution_count": 53,
   "metadata": {
    "vscode": {
     "languageId": "r"
    }
   },
   "outputs": [
    {
     "data": {
      "text/html": [
       "13.8"
      ],
      "text/latex": [
       "13.8"
      ],
      "text/markdown": [
       "13.8"
      ],
      "text/plain": [
       "[1] 13.8"
      ]
     },
     "metadata": {},
     "output_type": "display_data"
    }
   ],
   "source": [
    "cutoff <- (z * (sqrt(zinc_variance) / sqrt(zinc_n))) + zinc_mu\n",
    "\n",
    "round(cutoff, 2)"
   ]
  },
  {
   "cell_type": "markdown",
   "metadata": {
    "vscode": {
     "languageId": "raw"
    }
   },
   "source": [
    "The director of manufacturing for ACME industries is interested in an online training program that can be used to train the firm's maintenence employees for machine-repair operations. \n",
    "\n",
    "To evaluate the training method, the director of manufacturing has agreed to train 15 employees with the new approach. The director will approve the program as long as the mean training time stays below 50 days. However, the director firmly believes that it will take, on average, 50 or more days.\n",
    "\n",
    "Assuming that training times are normally distributed with a standard deviation of \n",
    "$\\sigma =3.2$ days, what is the largest sample mean that could be observed that will make the company switch to the online program when testing the relevant hypotheses at level $\\alpha = 0.01$\n",
    "\n",
    "\n",
    "Round your answer to 2 decimal places.\n"
   ]
  },
  {
   "cell_type": "code",
   "execution_count": 14,
   "metadata": {
    "vscode": {
     "languageId": "r"
    }
   },
   "outputs": [
    {
     "data": {
      "text/html": [
       "-2.32634787404084"
      ],
      "text/latex": [
       "-2.32634787404084"
      ],
      "text/markdown": [
       "-2.32634787404084"
      ],
      "text/plain": [
       "[1] -2.326348"
      ]
     },
     "metadata": {},
     "output_type": "display_data"
    }
   ],
   "source": [
    "n_training <- 15\n",
    "training_sd <- 3.2\n",
    "alpha <- 0.01\n",
    "mu_target <- 50\n",
    "# pay attention to if you are using alpha or 1-alpha based on which side each hypothesis is on\n",
    "z_score <- qnorm(0.01)\n",
    "z_score"
   ]
  },
  {
   "cell_type": "code",
   "execution_count": 15,
   "metadata": {
    "vscode": {
     "languageId": "r"
    }
   },
   "outputs": [
    {
     "data": {
      "text/html": [
       "48.08"
      ],
      "text/latex": [
       "48.08"
      ],
      "text/markdown": [
       "48.08"
      ],
      "text/plain": [
       "[1] 48.08"
      ]
     },
     "metadata": {},
     "output_type": "display_data"
    }
   ],
   "source": [
    "# solving for mu this time, not c?\n",
    "\n",
    "cutoff <- z_score * (training_sd / sqrt(n_training)) + mu_target\n",
    "\n",
    "round(cutoff, 2)"
   ]
  },
  {
   "cell_type": "code",
   "execution_count": 3,
   "metadata": {
    "vscode": {
     "languageId": "r"
    }
   },
   "outputs": [
    {
     "data": {
      "text/html": [
       "-0.707106781186548"
      ],
      "text/latex": [
       "-0.707106781186548"
      ],
      "text/markdown": [
       "-0.707106781186548"
      ],
      "text/plain": [
       "[1] -0.7071068"
      ]
     },
     "metadata": {},
     "output_type": "display_data"
    },
    {
     "data": {
      "text/html": [
       "0.707106781186548"
      ],
      "text/latex": [
       "0.707106781186548"
      ],
      "text/markdown": [
       "0.707106781186548"
      ],
      "text/plain": [
       "[1] 0.7071068"
      ]
     },
     "metadata": {},
     "output_type": "display_data"
    },
    {
     "data": {
      "text/html": [
       "0.251177008539959"
      ],
      "text/latex": [
       "0.251177008539959"
      ],
      "text/markdown": [
       "0.251177008539959"
      ],
      "text/plain": [
       "[1] 0.251177"
      ]
     },
     "metadata": {},
     "output_type": "display_data"
    },
    {
     "data": {
      "text/html": [
       "0.748822991460041"
      ],
      "text/latex": [
       "0.748822991460041"
      ],
      "text/markdown": [
       "0.748822991460041"
      ],
      "text/plain": [
       "[1] 0.748823"
      ]
     },
     "metadata": {},
     "output_type": "display_data"
    }
   ],
   "source": [
    "# Given data\n",
    "x_bar <- 14\n",
    "s <- sqrt(4)\n",
    "n <- 8\n",
    "df <- n - 1\n",
    "\n",
    "# Calculate t-values\n",
    "t_value_14_5 <- (x_bar - 14.5) / (s / sqrt(n))\n",
    "t_value_13_5 <- (x_bar - 13.5) / (s / sqrt(n))\n",
    "\n",
    "t_value_14_5\n",
    "t_value_13_5\n",
    "\n",
    "# Calculate p-values\n",
    "p_value_14_5 <- pt(t_value_14_5, df)  # Upper tail probability for mu_0 = 14.5\n",
    "p_value_13_5 <- pt(t_value_13_5, df)  # Lower tail probability for mu_0 = 13.5\n",
    "\n",
    "# Output p-values\n",
    "p_value_14_5\n",
    "p_value_13_5\n"
   ]
  },
  {
   "cell_type": "code",
   "execution_count": 1,
   "metadata": {
    "vscode": {
     "languageId": "r"
    }
   },
   "outputs": [
    {
     "data": {
      "text/html": [
       "11.9368968689108"
      ],
      "text/latex": [
       "11.9368968689108"
      ],
      "text/markdown": [
       "11.9368968689108"
      ],
      "text/plain": [
       "[1] 11.9369"
      ]
     },
     "metadata": {},
     "output_type": "display_data"
    }
   ],
   "source": [
    "qnorm(0.1, 14.5, 2)"
   ]
  },
  {
   "cell_type": "code",
   "execution_count": 9,
   "metadata": {
    "vscode": {
     "languageId": "r"
    }
   },
   "outputs": [
    {
     "data": {
      "text/html": [
       "6119.31829743533"
      ],
      "text/latex": [
       "6119.31829743533"
      ],
      "text/markdown": [
       "6119.31829743533"
      ],
      "text/plain": [
       "[1] 6119.318"
      ]
     },
     "metadata": {},
     "output_type": "display_data"
    },
    {
     "data": {
      "text/html": [
       "6119.192"
      ],
      "text/latex": [
       "6119.192"
      ],
      "text/markdown": [
       "6119.192"
      ],
      "text/plain": [
       "[1] 6119.192"
      ]
     },
     "metadata": {},
     "output_type": "display_data"
    }
   ],
   "source": [
    "z_round <- round(qnorm(0.90),2)\n",
    "qnorm(0.9, 6015, (814/sqrt(100)))\n",
    "\n",
    "z_round * (814/sqrt(100)) + 6015"
   ]
  },
  {
   "cell_type": "markdown",
   "metadata": {},
   "source": [
    "A commonly prescribed drug for relieving anxiety is believed to 60% effective. Experimental results with a new drug administered to a random sample of 100 adults  who are suffering with anxiety showed that 68 experienced relief.\n",
    "\n",
    "Is this sufficient evidence to conclude that the new drug is superior to the one commonly prescribed?\n",
    "\n",
    "Carry out the relevant hypothesis test using a 0.03 level of significance. Give the appropriate critical value and decision."
   ]
  },
  {
   "cell_type": "code",
   "execution_count": 34,
   "metadata": {
    "vscode": {
     "languageId": "r"
    }
   },
   "outputs": [
    {
     "data": {
      "text/html": [
       "1.88079360815125"
      ],
      "text/latex": [
       "1.88079360815125"
      ],
      "text/markdown": [
       "1.88079360815125"
      ],
      "text/plain": [
       "[1] 1.880794"
      ]
     },
     "metadata": {},
     "output_type": "display_data"
    },
    {
     "data": {
      "text/html": [
       "0.68"
      ],
      "text/latex": [
       "0.68"
      ],
      "text/markdown": [
       "0.68"
      ],
      "text/plain": [
       "[1] 0.68"
      ]
     },
     "metadata": {},
     "output_type": "display_data"
    },
    {
     "data": {
      "text/html": [
       "0.692139693029173"
      ],
      "text/latex": [
       "0.692139693029173"
      ],
      "text/markdown": [
       "0.692139693029173"
      ],
      "text/plain": [
       "[1] 0.6921397"
      ]
     },
     "metadata": {},
     "output_type": "display_data"
    }
   ],
   "source": [
    "null <- 0.60\n",
    "alt_hyp <- 0.68\n",
    "n <- 100\n",
    "alpha <- 0.03\n",
    "\n",
    "z_a <-qnorm(1-alpha)\n",
    "\n",
    "cutoff <- null + (z_a * (sqrt((null * (1 - null)) / n)))\n",
    "z_a\n",
    "alt_hyp\n",
    "cutoff\n"
   ]
  },
  {
   "cell_type": "markdown",
   "metadata": {},
   "source": [
    "\"Hardness\" of a material in engineering is defined as the resistance to indentation. It is determined by measuring the permanent depth of the indentation.\n",
    "\n",
    "An engineer measured the \"Brinell hardness\" of 6 pieces of ductile iron \n",
    "that were subcritically annealed. The resulting data were:\n",
    "\n",
    "179, 156, 167,183, 178, 165\n",
    "\n",
    "Assuming that Brinell hardness is normally distributed with standard deviation \n",
    "σ=4.2\n",
    " consider testing\n",
    "\n",
    "H0:μ =170\n",
    "versus \n",
    "H1:μ > 170 \n",
    "​\n",
    "\n",
    "What is the P-Value for this test and what is the conclusion based on this data set at 0.20 level of significance?"
   ]
  },
  {
   "cell_type": "code",
   "execution_count": 52,
   "metadata": {
    "vscode": {
     "languageId": "r"
    }
   },
   "outputs": [
    {
     "data": {
      "text/html": [
       "0.841621233572914"
      ],
      "text/latex": [
       "0.841621233572914"
      ],
      "text/markdown": [
       "0.841621233572914"
      ],
      "text/plain": [
       "[1] 0.8416212"
      ]
     },
     "metadata": {},
     "output_type": "display_data"
    },
    {
     "data": {
      "text/html": [
       "'mean is 171.333333333333'"
      ],
      "text/latex": [
       "'mean is 171.333333333333'"
      ],
      "text/markdown": [
       "'mean is 171.333333333333'"
      ],
      "text/plain": [
       "[1] \"mean is 171.333333333333\""
      ]
     },
     "metadata": {},
     "output_type": "display_data"
    },
    {
     "data": {
      "text/html": [
       "'cutoff is 171.443079805262'"
      ],
      "text/latex": [
       "'cutoff is 171.443079805262'"
      ],
      "text/markdown": [
       "'cutoff is 171.443079805262'"
      ],
      "text/plain": [
       "[1] \"cutoff is 171.443079805262\""
      ]
     },
     "metadata": {},
     "output_type": "display_data"
    },
    {
     "data": {
      "text/html": [
       "0.777615791359744"
      ],
      "text/latex": [
       "0.777615791359744"
      ],
      "text/markdown": [
       "0.777615791359744"
      ],
      "text/plain": [
       "[1] 0.7776158"
      ]
     },
     "metadata": {},
     "output_type": "display_data"
    },
    {
     "data": {
      "text/html": [
       "0.218397774374922"
      ],
      "text/latex": [
       "0.218397774374922"
      ],
      "text/markdown": [
       "0.218397774374922"
      ],
      "text/plain": [
       "[1] 0.2183978"
      ]
     },
     "metadata": {},
     "output_type": "display_data"
    }
   ],
   "source": [
    "data <- c(179, 156, 167, 183, 178, 165)\n",
    "x_bar <- mean(data)\n",
    "sd <- 4.2\n",
    "null <- 170\n",
    "alpha <- 0.20\n",
    "n <- length(data)\n",
    "\n",
    "# right test so alpha not 1-alpha\n",
    "crit <- qnorm(1-alpha)\n",
    "\n",
    "cutoff <- crit * (sd / sqrt(n)) + null\n",
    "\n",
    "crit\n",
    "paste('mean is',x_bar)\n",
    "paste('cutoff is',cutoff)\n",
    "\n",
    "z <- (x_bar - null) / (sd / sqrt(n))\n",
    "\n",
    "# this is a right tail test so 1-pnorm()\n",
    "p_value <- 1-pnorm(z)\n",
    "z\n",
    "p_value\n",
    "\n"
   ]
  },
  {
   "cell_type": "markdown",
   "metadata": {},
   "source": [
    "Question 5\n",
    "A manufacturer of ketchup uses a machine to automatically dispense \n",
    "ingredients into bottles that move along an assembly line. The machine is working properly when 14 ounces are dispensed. \n",
    "\n",
    "Suppose that the amount dispensed is normally distributed with a true standard deviation of 0.08 ounces. A random sample of 20 bottles had a sample mean of 13.8 ounces per bottle.\n",
    "\n",
    "\n",
    " Is there evidence that the machine should be stopped and recalibrated? Test the relevant hypotheses at 0.05 level of significance. \n",
    "\n",
    "Which of the following is true.\n",
    "5 points\n",
    "\n",
    "Reject that the machine is properly calibrated if the sample mean is below 13.96 ounces or above 14.04 ounces.\n",
    "\n",
    "Reject that the machine is properly calibrated if the sample mean is below 13.88 ounces or above 14.12 ounces.\n",
    "\n",
    "Reject that the machine is properly callibrated if the sample mean is below 13.76 ounces or above 14.84 ounces.\n",
    "\n",
    "Reject that the machine is properly callibrated if the sample mean is below 13.6 ounces or above 14.4 ounces."
   ]
  },
  {
   "cell_type": "code",
   "execution_count": 31,
   "metadata": {
    "vscode": {
     "languageId": "r"
    }
   },
   "outputs": [
    {
     "data": {
      "text/html": [
       "-1.95996398454005"
      ],
      "text/latex": [
       "-1.95996398454005"
      ],
      "text/markdown": [
       "-1.95996398454005"
      ],
      "text/plain": [
       "[1] -1.959964"
      ]
     },
     "metadata": {},
     "output_type": "display_data"
    },
    {
     "data": {
      "text/html": [
       "14.04"
      ],
      "text/latex": [
       "14.04"
      ],
      "text/markdown": [
       "14.04"
      ],
      "text/plain": [
       "[1] 14.04"
      ]
     },
     "metadata": {},
     "output_type": "display_data"
    },
    {
     "data": {
      "text/html": [
       "13.96"
      ],
      "text/latex": [
       "13.96"
      ],
      "text/markdown": [
       "13.96"
      ],
      "text/plain": [
       "[1] 13.96"
      ]
     },
     "metadata": {},
     "output_type": "display_data"
    }
   ],
   "source": [
    "u <- 14.0\n",
    "xbar <- 13.8\n",
    "sd <- 0.08\n",
    "n <- 20\n",
    "alpha <- 0.05\n",
    "\n",
    "z_ketchup <- qnorm(alpha/2)\n",
    "z_ketchup\n",
    "\n",
    "cutoff_hi <- u + (z_ketchup) * (sd/sqrt(n))\n",
    "cutoff_low <- u - (z_ketchup) * (sd/sqrt(n))\n",
    "\n",
    "round(cutoff_low,2)\n",
    "round(cutoff_hi,2)\n",
    "\n"
   ]
  },
  {
   "cell_type": "markdown",
   "metadata": {},
   "source": [
    "Question 1\n",
    "A manufacturer of 40-amp fuses wants to make sure that the mean amperage at which its fuses burn out is in fact 40. \n",
    "\n",
    "If the mean amperage is lower than 40, customers will complain because the fuses require replacement too often. If the mean amperage is higher than 40, the manufacturer might be liable for damage to an electrical system due to fuse malfunction. \n",
    "\n",
    "To verify the amperage of the fuses, a sample of 10 fuses are selected and inspected. The average amperage at which fuses in the sample burned out was 38.8. The sample variance was 2.8.\n",
    "\n",
    "Assuming burn out amperage is normally distributed, consider testing the hypotheses\n",
    "H0 : u=40  H1 : u not 40\n",
    "find the p-value"
   ]
  },
  {
   "cell_type": "code",
   "execution_count": 47,
   "metadata": {
    "vscode": {
     "languageId": "r"
    }
   },
   "outputs": [
    {
     "data": {
      "text/html": [
       "-2.26778683805537"
      ],
      "text/latex": [
       "-2.26778683805537"
      ],
      "text/markdown": [
       "-2.26778683805537"
      ],
      "text/plain": [
       "[1] -2.267787"
      ]
     },
     "metadata": {},
     "output_type": "display_data"
    },
    {
     "data": {
      "text/html": [
       "0.0495419929614544"
      ],
      "text/latex": [
       "0.0495419929614544"
      ],
      "text/markdown": [
       "0.0495419929614544"
      ],
      "text/plain": [
       "[1] 0.04954199"
      ]
     },
     "metadata": {},
     "output_type": "display_data"
    }
   ],
   "source": [
    "xbar_fuse <- 38.8\n",
    "u_0 <- 40\n",
    "variance_fuse <- 2.8\n",
    "sd_fuse <- sqrt(variance_fuse)\n",
    "n_fuse <- 10\n",
    "\n",
    "t_stat_fuse <- (xbar_fuse - u_0) / (sqrt(variance_fuse) / sqrt(n_fuse))\n",
    "t_stat_fuse\n",
    "\n",
    "# two tailed test\n",
    "\n",
    "2 * pt(-abs(t_stat_fuse), n_fuse-1)"
   ]
  },
  {
   "cell_type": "markdown",
   "metadata": {},
   "source": [
    "The director of manufacturing for ACME industries is interested in a computer-assisted training program that can be used to train the firm's maintenence employees for machine-repair operations. To evaluate the training method, the director of manufacturing has requested an estimate of the mean training time required with the computer assisted program.\n",
    "\n",
    "Suppose that management has agreed to train 15 employees with the new approach. The resulting sample mean training time is 53.87 days and the resulting sample standard deviation is 6.82 days. \n",
    "\n",
    "Assuming that training times are normally distributed, is there evidence in the data to conclude that the true mean training time is greater than 50?\n",
    "\n",
    "Use \n",
    "\n",
    "α=0.05.\n",
    "\n",
    "Give the appropriate test statistic, critical value, and conclusion."
   ]
  },
  {
   "cell_type": "code",
   "execution_count": 24,
   "metadata": {
    "vscode": {
     "languageId": "r"
    }
   },
   "outputs": [
    {
     "data": {
      "text/html": [
       "'t critical = 1.76131013577489'"
      ],
      "text/latex": [
       "'t critical = 1.76131013577489'"
      ],
      "text/markdown": [
       "'t critical = 1.76131013577489'"
      ],
      "text/plain": [
       "[1] \"t critical = 1.76131013577489\""
      ]
     },
     "metadata": {},
     "output_type": "display_data"
    },
    {
     "data": {
      "text/html": [
       "<span style=white-space:pre-wrap>'cutoff =  53.1015199530221'</span>"
      ],
      "text/latex": [
       "'cutoff =  53.1015199530221'"
      ],
      "text/markdown": [
       "<span style=white-space:pre-wrap>'cutoff =  53.1015199530221'</span>"
      ],
      "text/plain": [
       "[1] \"cutoff =  53.1015199530221\""
      ]
     },
     "metadata": {},
     "output_type": "display_data"
    },
    {
     "data": {
      "text/html": [
       "<span style=white-space:pre-wrap>'t stat =  2.19771928883031'</span>"
      ],
      "text/latex": [
       "'t stat =  2.19771928883031'"
      ],
      "text/markdown": [
       "<span style=white-space:pre-wrap>'t stat =  2.19771928883031'</span>"
      ],
      "text/plain": [
       "[1] \"t stat =  2.19771928883031\""
      ]
     },
     "metadata": {},
     "output_type": "display_data"
    },
    {
     "data": {
      "text/html": [
       "'p value = 0.022646742498007'"
      ],
      "text/latex": [
       "'p value = 0.022646742498007'"
      ],
      "text/markdown": [
       "'p value = 0.022646742498007'"
      ],
      "text/plain": [
       "[1] \"p value = 0.022646742498007\""
      ]
     },
     "metadata": {},
     "output_type": "display_data"
    }
   ],
   "source": [
    "n <- 15\n",
    "xbar <- 53.87\n",
    "sd <- 6.82\n",
    "h0 <- 50\n",
    "alpha <- 0.05\n",
    "\n",
    "t_crit <- qt(1-alpha, n-1)\n",
    "paste('t critical =',t_crit)\n",
    "\n",
    "c <- (t_crit * (sd / sqrt(n))) + h0\n",
    "paste('cutoff = ',c)\n",
    "\n",
    "t_stat_edu <- (xbar - h0) / (sd / sqrt(n))\n",
    "paste('t stat = ',t_stat_edu)\n",
    "\n",
    "# right test\n",
    "\n",
    "paste('p value =',1-(pt(t_stat_edu, n-1)))"
   ]
  },
  {
   "cell_type": "code",
   "execution_count": 45,
   "metadata": {
    "vscode": {
     "languageId": "r"
    }
   },
   "outputs": [
    {
     "data": {
      "text/html": [
       "3.29"
      ],
      "text/latex": [
       "3.29"
      ],
      "text/markdown": [
       "3.29"
      ],
      "text/plain": [
       "[1] 3.29"
      ]
     },
     "metadata": {},
     "output_type": "display_data"
    }
   ],
   "source": [
    "# get the value of the test statistic\n",
    "\n",
    "nA <- 120\n",
    "xbarA <- 4.1\n",
    "sdA <- 2.1\n",
    "\n",
    "nB <- 100\n",
    "xbarB <- 3.3\n",
    "sdB <- 1.5\n",
    "\n",
    "# sample variances, large, \n",
    "test_stat <- (xbarA - xbarB) / (sqrt((sdA^2 / nA) + (sdB^2 / nB)))\n",
    "round(t_stat,2)"
   ]
  },
  {
   "cell_type": "code",
   "execution_count": 9,
   "metadata": {
    "vscode": {
     "languageId": "r"
    }
   },
   "outputs": [
    {
     "data": {
      "text/html": [
       "21.6659943334619"
      ],
      "text/latex": [
       "21.6659943334619"
      ],
      "text/markdown": [
       "21.6659943334619"
      ],
      "text/plain": [
       "[1] 21.66599"
      ]
     },
     "metadata": {},
     "output_type": "display_data"
    },
    {
     "data": {
      "text/html": [
       "-1.43975574726515"
      ],
      "text/latex": [
       "-1.43975574726515"
      ],
      "text/markdown": [
       "-1.43975574726515"
      ],
      "text/plain": [
       "[1] -1.439756"
      ]
     },
     "metadata": {},
     "output_type": "display_data"
    },
    {
     "data": {
      "text/html": [
       "20.23"
      ],
      "text/latex": [
       "20.23"
      ],
      "text/markdown": [
       "20.23"
      ],
      "text/plain": [
       "[1] 20.23"
      ]
     },
     "metadata": {},
     "output_type": "display_data"
    }
   ],
   "source": [
    "chis <- qchisq(1 - 0.01,9)\n",
    "t <- qt(1 - 0.90,6)\n",
    "\n",
    "chis\n",
    "t\n",
    "round(chis + t, 2)"
   ]
  },
  {
   "cell_type": "markdown",
   "metadata": {
    "vscode": {
     "languageId": "r"
    }
   },
   "source": [
    "### Question 3\n",
    "\n",
    "A random sample of size $n_1 = 8$ from the $N(\\mu_1, \\sigma_1^2)$ distribution has a sample variance of $s_1^2 = 13.2$.\n",
    "\n",
    "An independent random sample of size $n_2 = 6$ from the $N(\\mu_2, \\sigma_2^2)$ distribution has a sample variance of $s_2^2 = 15.1$.\n",
    "\n",
    "Is there evidence to suggest that $\\sigma_1^2 \\neq \\sigma_2^2$?\n",
    "\n",
    "Use $\\alpha = 0.03$ level of significance."
   ]
  },
  {
   "cell_type": "code",
   "execution_count": 29,
   "metadata": {
    "vscode": {
     "languageId": "r"
    }
   },
   "outputs": [
    {
     "data": {
      "text/html": [
       "<span style=white-space:pre-wrap>'F =  1.14393939393939'</span>"
      ],
      "text/latex": [
       "'F =  1.14393939393939'"
      ],
      "text/markdown": [
       "<span style=white-space:pre-wrap>'F =  1.14393939393939'</span>"
      ],
      "text/plain": [
       "[1] \"F =  1.14393939393939\""
      ]
     },
     "metadata": {},
     "output_type": "display_data"
    },
    {
     "data": {
      "text/html": [
       "<span style=white-space:pre-wrap>'cutoff =  6.42870287921042'</span>"
      ],
      "text/latex": [
       "'cutoff =  6.42870287921042'"
      ],
      "text/markdown": [
       "<span style=white-space:pre-wrap>'cutoff =  6.42870287921042'</span>"
      ],
      "text/plain": [
       "[1] \"cutoff =  6.42870287921042\""
      ]
     },
     "metadata": {},
     "output_type": "display_data"
    }
   ],
   "source": [
    "n1 <- 8\n",
    "dof1 <- n1 - 1\n",
    "variance1 <- 13.2\n",
    "n2 <- 6\n",
    "dof2 <- n2 - 1\n",
    "variance2 <- 15.1\n",
    "alpha <- 0.03\n",
    "\n",
    "Fstat <- variance2 / variance1\n",
    "\n",
    "# must divide alpha by 2 for f-tests!!\n",
    "crit <- qf(1-(alpha/2), dof2, dof1)\n",
    "\n",
    "paste('F = ',Fstat)\n",
    "paste('cutoff = ',crit)"
   ]
  },
  {
   "cell_type": "markdown",
   "metadata": {},
   "source": [
    "### Question 1\n",
    "\n",
    "A teacher believes that the standard deviation of scores for a particular midterm that he gives every semester is 4 points. His current students claim that the standard deviation is more than 4 points.\n",
    "\n",
    "Let $\\sigma^2$ be the true variance for the midterm scores.\n",
    "\n",
    "A random sample of 10 midterm scores from the current semester has an observed standard deviation of $s = 5.2$ points.\n",
    "\n",
    "Assuming that test scores are normally distributed, consider testing the hypotheses\n",
    "\n",
    "$$H_0: \\sigma^2 = 16 \\quad \\text{versus} \\quad H_1: \\sigma^2 > 16.$$\n",
    "\n",
    "Give the P-value for the appropriate test, rounded to 3 decimal places."
   ]
  },
  {
   "cell_type": "code",
   "execution_count": 28,
   "metadata": {
    "vscode": {
     "languageId": "r"
    }
   },
   "outputs": [
    {
     "data": {
      "text/html": [
       "<span style=white-space:pre-wrap>'sample variance =  27.04'</span>"
      ],
      "text/latex": [
       "'sample variance =  27.04'"
      ],
      "text/markdown": [
       "<span style=white-space:pre-wrap>'sample variance =  27.04'</span>"
      ],
      "text/plain": [
       "[1] \"sample variance =  27.04\""
      ]
     },
     "metadata": {},
     "output_type": "display_data"
    },
    {
     "data": {
      "text/html": [
       "'test stat = 15.21'"
      ],
      "text/latex": [
       "'test stat = 15.21'"
      ],
      "text/markdown": [
       "'test stat = 15.21'"
      ],
      "text/plain": [
       "[1] \"test stat = 15.21\""
      ]
     },
     "metadata": {},
     "output_type": "display_data"
    },
    {
     "data": {
      "text/html": [
       "<span style=white-space:pre-wrap>'p-value =  0.085'</span>"
      ],
      "text/latex": [
       "'p-value =  0.085'"
      ],
      "text/markdown": [
       "<span style=white-space:pre-wrap>'p-value =  0.085'</span>"
      ],
      "text/plain": [
       "[1] \"p-value =  0.085\""
      ]
     },
     "metadata": {},
     "output_type": "display_data"
    }
   ],
   "source": [
    "n <- 10\n",
    "dof <- n-1\n",
    "sd0 <- 4\n",
    "var0 <- sd0^2\n",
    "sample_sd <- 5.2\n",
    "\n",
    "sample_var <- sample_sd^2\n",
    "test_stat <- (sample_var * dof) / var0\n",
    "p_value <- 1 - pchisq(test_stat,dof)\n",
    "\n",
    "paste('sample variance = ',sample_var)\n",
    "paste('test stat =',test_stat)\n",
    "paste('p-value = ',round(p_value,3))"
   ]
  },
  {
   "cell_type": "code",
   "execution_count": 30,
   "metadata": {
    "vscode": {
     "languageId": "r"
    }
   },
   "outputs": [
    {
     "data": {
      "text/html": [
       "3.84145882069412"
      ],
      "text/latex": [
       "3.84145882069412"
      ],
      "text/markdown": [
       "3.84145882069412"
      ],
      "text/plain": [
       "[1] 3.841459"
      ]
     },
     "metadata": {},
     "output_type": "display_data"
    }
   ],
   "source": [
    "qchisq(1 - 0.05, 1)"
   ]
  },
  {
   "cell_type": "code",
   "execution_count": null,
   "metadata": {
    "vscode": {
     "languageId": "r"
    }
   },
   "outputs": [],
   "source": [
    "t.test()"
   ]
  },
  {
   "cell_type": "code",
   "execution_count": 17,
   "metadata": {
    "vscode": {
     "languageId": "r"
    }
   },
   "outputs": [
    {
     "data": {
      "text/html": [
       "3.509"
      ],
      "text/latex": [
       "3.509"
      ],
      "text/markdown": [
       "3.509"
      ],
      "text/plain": [
       "[1] 3.509"
      ]
     },
     "metadata": {},
     "output_type": "display_data"
    }
   ],
   "source": [
    "rolls <- sample(1:6, 1000, replace = TRUE)\n",
    "mean(rolls)"
   ]
  },
  {
   "cell_type": "code",
   "execution_count": 23,
   "metadata": {
    "vscode": {
     "languageId": "r"
    }
   },
   "outputs": [
    {
     "name": "stderr",
     "output_type": "stream",
     "text": [
      "Warning message in geom_point(aes(x = x_highlight, y = y_highlight), color = \"red\", :\n",
      "\"\u001b[1m\u001b[22mAll aesthetics have length 1, but the data has 200 rows.\n",
      "\u001b[36mi\u001b[39m Please consider using `annotate()` or provide this layer with data containing\n",
      "  a single row.\"\n"
     ]
    },
    {
     "data": {
      "text/html": [
       "0.241970724519143"
      ],
      "text/latex": [
       "0.241970724519143"
      ],
      "text/markdown": [
       "0.241970724519143"
      ],
      "text/plain": [
       "[1] 0.2419707"
      ]
     },
     "metadata": {},
     "output_type": "display_data"
    },
    {
     "data": {
      "text/html": [
       "0.000483941449038294"
      ],
      "text/latex": [
       "0.000483941449038294"
      ],
      "text/markdown": [
       "0.000483941449038294"
      ],
      "text/plain": [
       "[1] 0.0004839414"
      ]
     },
     "metadata": {},
     "output_type": "display_data"
    },
    {
     "data": {
      "image/png": "[encoded data removed]",
      "text/plain": [
       "plot without title"
      ]
     },
     "metadata": {
      "image/png": {
       "height": 420,
       "width": 420
      }
     },
     "output_type": "display_data"
    }
   ],
   "source": [
    "# Load necessary library\n",
    "library(ggplot2)\n",
    "\n",
    "# Define parameters\n",
    "mu <- 0      # Mean\n",
    "sigma <- 1   # Standard deviation\n",
    "x_vals <- seq(-4, 4, length.out = 200)  # X range from -4 to 4\n",
    "y_vals <- dnorm(x_vals, mean = mu, sd = sigma)  # Compute PDF\n",
    "\n",
    "# Create a data frame for plotting\n",
    "df <- data.frame(x = x_vals, y = y_vals)\n",
    "\n",
    "# Value to highlight (e.g., x = 1)\n",
    "x_highlight <- 1\n",
    "y_highlight <- dnorm(x_highlight, mean = mu, sd = sigma)\n",
    "\n",
    "# Plot the normal PDF\n",
    "ggplot(df, aes(x, y)) +\n",
    "  geom_line(color = \"blue\", size = 1) +  # Normal PDF curve\n",
    "  geom_vline(xintercept = mu, linetype = \"dashed\", color = \"black\") +  # Mean line\n",
    "  geom_point(aes(x = x_highlight, y = y_highlight), color = \"red\", size = 3) +  # Highlighted point\n",
    "  annotate(\"text\", x = x_highlight, y = y_highlight + 0.05, \n",
    "           label = paste(\"dnorm(1) =\", round(y_highlight, 3)), \n",
    "           color = \"red\", size = 5) +\n",
    "  theme_minimal() +\n",
    "  ggtitle(\"Probability Density Function (PDF) of Normal Distribution\") +\n",
    "  xlab(\"x\") +\n",
    "  ylab(\"Density\")\n",
    "\n",
    "dnorm(1, mean = mu, sd = sigma)\n",
    "pnorm(1.001, mean = mu, sd = sigma) - \n",
    "pnorm(0.999, mean = mu, sd = sigma)"
   ]
  }
 ],
 "metadata": {
  "kernelspec": {
   "display_name": "R",
   "language": "R",
   "name": "ir"
  },
  "language_info": {
   "codemirror_mode": "r",
   "file_extension": ".r",
   "mimetype": "text/x-r-source",
   "name": "R",
   "pygments_lexer": "r",
   "version": "4.4.1"
  }
 },
 "nbformat": 4,
 "nbformat_minor": 2
}
