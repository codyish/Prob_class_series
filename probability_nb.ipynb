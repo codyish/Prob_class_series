{
 "cells": [
  {
   "cell_type": "code",
   "execution_count": 1,
   "metadata": {
    "vscode": {
     "languageId": "r"
    }
   },
   "outputs": [
    {
     "name": "stdout",
     "output_type": "stream",
     "text": [
      "Proportion of small straights (excluding large straights) in the simulation: 0.12363"
     ]
    }
   ],
   "source": [
    "# Lists of sorted small straights and large straights\n",
    "small_straights <- list(c(1, 2, 3, 4), c(2, 3, 4, 5), c(3, 4, 5, 6))\n",
    "large_straights <- list(c(1, 2, 3, 4, 5), c(2, 3, 4, 5, 6))\n",
    "\n",
    "# Function to check if a roll is a small straight but not a large straight\n",
    "is_small_straight <- function(roll) {\n",
    "    sorted_roll <- sort(unique(roll))\n",
    "    for (ss in small_straights) {\n",
    "        if (all(ss %in% sorted_roll)) {\n",
    "            # Check against large straights\n",
    "            for (ls in large_straights) {\n",
    "                if (all(ls %in% sorted_roll)) {\n",
    "                    return(FALSE) # It's a large straight, not a small one\n",
    "                }\n",
    "            }\n",
    "            return(TRUE) # It's a small straight\n",
    "        }\n",
    "    }\n",
    "    return(FALSE)\n",
    "}\n",
    "\n",
    "# Number of simulations\n",
    "num_simulations <- 100000\n",
    "\n",
    "# Counter for small straights\n",
    "num_small_straights <- 0\n",
    "\n",
    "# Simulate rolls\n",
    "for (i in 1:num_simulations) {\n",
    "    # Roll five 6-sided dice\n",
    "    roll <- sample(1:6, 5, replace = TRUE)\n",
    "    \n",
    "    # Check for small straight\n",
    "    if (is_small_straight(roll)) {\n",
    "        num_small_straights <- num_small_straights + 1\n",
    "    }\n",
    "}\n",
    "\n",
    "# Calculate the proportion of small straights\n",
    "proportion_small_straights <- num_small_straights / num_simulations\n",
    "\n",
    "# Print the result\n",
    "cat(\"Proportion of small straights (excluding large straights) in the simulation:\", proportion_small_straights)\n",
    "\n"
   ]
  },
  {
   "cell_type": "code",
   "execution_count": 2,
   "metadata": {
    "vscode": {
     "languageId": "r"
    }
   },
   "outputs": [
    {
     "data": {
      "text/html": [
       "0.043"
      ],
      "text/latex": [
       "0.043"
      ],
      "text/markdown": [
       "0.043"
      ],
      "text/plain": [
       "[1] 0.043"
      ]
     },
     "metadata": {},
     "output_type": "display_data"
    }
   ],
   "source": [
    "# Total possible outcomes when rolling five 6-sided dice\n",
    "total_outcomes <- 6^5\n",
    "\n",
    "# Favorable outcomes for the end small straights (1-2-3-4 and 3-4-5-6)\n",
    "# 4! permutations for each straight and 5 possibilities for the fifth die each\n",
    "favorable_outcomes_end_straights <- factorial(4) * 5 * 2  # Two end straights\n",
    "\n",
    "# Favorable outcomes for the middle small straight (2-3-4-5)\n",
    "# 4! permutations and 4 possibilities for the fifth die\n",
    "favorable_outcomes_middle_straight <- factorial(4) * 4\n",
    "\n",
    "# Total favorable outcomes\n",
    "total_favorable_outcomes <- favorable_outcomes_end_straights + favorable_outcomes_middle_straight\n",
    "\n",
    "# Calculate the probability\n",
    "probability_small_straight <- total_favorable_outcomes / total_outcomes\n",
    "\n",
    "# Round the result to three decimal places\n",
    "rounded_probability <- round(probability_small_straight, 3)\n",
    "\n",
    "# Print the probability\n",
    "rounded_probability\n"
   ]
  },
  {
   "cell_type": "code",
   "execution_count": 10,
   "metadata": {
    "vscode": {
     "languageId": "r"
    }
   },
   "outputs": [
    {
     "data": {
      "text/html": [
       "0.0402832031249999"
      ],
      "text/latex": [
       "0.0402832031249999"
      ],
      "text/markdown": [
       "0.0402832031249999"
      ],
      "text/plain": [
       "[1] 0.0402832"
      ]
     },
     "metadata": {},
     "output_type": "display_data"
    }
   ],
   "source": [
    "dnbinom(3,9,0.5)"
   ]
  },
  {
   "cell_type": "code",
   "execution_count": null,
   "metadata": {
    "vscode": {
     "languageId": "r"
    }
   },
   "outputs": [],
   "source": []
  }
 ],
 "metadata": {
  "kernelspec": {
   "display_name": "R",
   "language": "R",
   "name": "ir"
  },
  "language_info": {
   "codemirror_mode": "r",
   "file_extension": ".r",
   "mimetype": "text/x-r-source",
   "name": "R",
   "pygments_lexer": "r",
   "version": "4.3.1"
  }
 },
 "nbformat": 4,
 "nbformat_minor": 2
}
